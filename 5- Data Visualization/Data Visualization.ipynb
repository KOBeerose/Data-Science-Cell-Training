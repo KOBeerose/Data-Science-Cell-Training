{
 "cells": [
  {
   "cell_type": "markdown",
   "id": "60660e83",
   "metadata": {},
   "source": [
    "# Data Visualization"
   ]
  },
  {
   "cell_type": "markdown",
   "id": "37dff3b9",
   "metadata": {},
   "source": [
    "<span style=\"color:grey; size:2rem\">Table of content</span>"
   ]
  },
  {
   "cell_type": "markdown",
   "id": "b3a7a86e",
   "metadata": {},
   "source": [
    "<div style=\"font-size:1.5em\">\n",
    "    <p>📜 Table des matières:</p>\n",
    "    <ul>\n",
    "       <li>\n",
    "          <a href=\"#type_plots\">Type of Plots 📊</a>\n",
    "       </li>\n",
    "       <li>\n",
    "          <a href=\"#plotly\">Plotly 📈</a>\n",
    "          <ul>\n",
    "          </ul>\n",
    "       </li>\n",
    "    </ul>\n",
    "</div>"
   ]
  },
  {
   "cell_type": "markdown",
   "id": "1dcf9b74",
   "metadata": {},
   "source": [
    "<h1 id=\"type_plots\">Type of Plots 📊</h1>"
   ]
  },
  {
   "cell_type": "markdown",
   "id": "44442ea6",
   "metadata": {},
   "source": [
    "<h2 id=\"line_plot\">1.Line plot</h1>\n",
    "\n"
   ]
  },
  {
   "cell_type": "markdown",
   "id": "e996f360",
   "metadata": {},
   "source": [
    "w9tach kankhdmoha ?\n",
    "<br>kankhdmoha bach nchofo development dyal chi variables throught time for example"
   ]
  },
  {
   "cell_type": "code",
   "execution_count": 5,
   "id": "c3a5c3b1",
   "metadata": {},
   "outputs": [],
   "source": [
    "import pandas as pd\n",
    "import matplotlib.pyplot as plt"
   ]
  },
  {
   "cell_type": "code",
   "execution_count": 10,
   "id": "41b23915",
   "metadata": {},
   "outputs": [],
   "source": [
    "covid_cases = pd.DataFrame({\"cases\":[50,700,300,500,100],\"deaths\":[0,50,100,80,10]},index=[2019,2020,2021,2022,2023])"
   ]
  },
  {
   "cell_type": "code",
   "execution_count": 11,
   "id": "365d8b27",
   "metadata": {
    "scrolled": true
   },
   "outputs": [
    {
     "data": {
      "text/html": [
       "<div>\n",
       "<style scoped>\n",
       "    .dataframe tbody tr th:only-of-type {\n",
       "        vertical-align: middle;\n",
       "    }\n",
       "\n",
       "    .dataframe tbody tr th {\n",
       "        vertical-align: top;\n",
       "    }\n",
       "\n",
       "    .dataframe thead th {\n",
       "        text-align: right;\n",
       "    }\n",
       "</style>\n",
       "<table border=\"1\" class=\"dataframe\">\n",
       "  <thead>\n",
       "    <tr style=\"text-align: right;\">\n",
       "      <th></th>\n",
       "      <th>cases</th>\n",
       "      <th>deaths</th>\n",
       "    </tr>\n",
       "  </thead>\n",
       "  <tbody>\n",
       "    <tr>\n",
       "      <th>2019</th>\n",
       "      <td>50</td>\n",
       "      <td>0</td>\n",
       "    </tr>\n",
       "    <tr>\n",
       "      <th>2020</th>\n",
       "      <td>700</td>\n",
       "      <td>50</td>\n",
       "    </tr>\n",
       "    <tr>\n",
       "      <th>2021</th>\n",
       "      <td>300</td>\n",
       "      <td>100</td>\n",
       "    </tr>\n",
       "    <tr>\n",
       "      <th>2022</th>\n",
       "      <td>500</td>\n",
       "      <td>80</td>\n",
       "    </tr>\n",
       "    <tr>\n",
       "      <th>2023</th>\n",
       "      <td>100</td>\n",
       "      <td>10</td>\n",
       "    </tr>\n",
       "  </tbody>\n",
       "</table>\n",
       "</div>"
      ],
      "text/plain": [
       "      cases  deaths\n",
       "2019     50       0\n",
       "2020    700      50\n",
       "2021    300     100\n",
       "2022    500      80\n",
       "2023    100      10"
      ]
     },
     "execution_count": 11,
     "metadata": {},
     "output_type": "execute_result"
    }
   ],
   "source": [
    "covid_cases"
   ]
  },
  {
   "cell_type": "code",
   "execution_count": 12,
   "id": "91d023de",
   "metadata": {
    "scrolled": true
   },
   "outputs": [
    {
     "data": {
      "text/plain": [
       "[<matplotlib.lines.Line2D at 0x22aa2fca8b0>]"
      ]
     },
     "execution_count": 12,
     "metadata": {},
     "output_type": "execute_result"
    },
    {
     "data": {
      "image/png": "[encoded data removed]",
      "text/plain": [
       "<Figure size 432x288 with 1 Axes>"
      ]
     },
     "metadata": {
      "needs_background": "light"
     },
     "output_type": "display_data"
    }
   ],
   "source": [
    "plt.plot(covid_cases.deaths)"
   ]
  },
  {
   "cell_type": "markdown",
   "id": "b1dbc67a",
   "metadata": {},
   "source": [
    "<h2 id=\"area_plot\">2. Area plot</h1>"
   ]
  },
  {
   "cell_type": "code",
   "execution_count": null,
   "id": "36b5bcd0",
   "metadata": {},
   "outputs": [],
   "source": []
  },
  {
   "cell_type": "markdown",
   "id": "48c1932f",
   "metadata": {},
   "source": [
    "<h1 id=\"plotly\">Plotly 📈</h1>"
   ]
  },
  {
   "cell_type": "code",
   "execution_count": null,
   "id": "7a844861",
   "metadata": {},
   "outputs": [],
   "source": []
  }
 ],
 "metadata": {
  "kernelspec": {
   "display_name": "Python 3 (ipykernel)",
   "language": "python",
   "name": "python3"
  },
  "language_info": {
   "codemirror_mode": {
    "name": "ipython",
    "version": 3
   },
   "file_extension": ".py",
   "mimetype": "text/x-python",
   "name": "python",
   "nbconvert_exporter": "python",
   "pygments_lexer": "ipython3",
   "version": "3.9.7"
  }
 },
 "nbformat": 4,
 "nbformat_minor": 5
}
