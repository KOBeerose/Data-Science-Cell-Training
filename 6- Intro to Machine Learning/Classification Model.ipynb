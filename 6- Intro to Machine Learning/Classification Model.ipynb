{
 "cells": [
  {
   "cell_type": "markdown",
   "id": "616063a5",
   "metadata": {
    "papermill": {
     "duration": 0.076618,
     "end_time": "2022-04-16T01:10:14.311462",
     "exception": false,
     "start_time": "2022-04-16T01:10:14.234844",
     "status": "completed"
    },
    "tags": []
   },
   "source": [
    "# Feature Engineering"
   ]
  },
  {
   "cell_type": "code",
   "execution_count": 1,
   "id": "6cdcf39c",
   "metadata": {
    "execution": {
     "iopub.execute_input": "2022-04-16T01:10:14.459988Z",
     "iopub.status.busy": "2022-04-16T01:10:14.459301Z",
     "iopub.status.idle": "2022-04-16T01:10:14.468773Z",
     "shell.execute_reply": "2022-04-16T01:10:14.468192Z"
    },
    "papermill": {
     "duration": 0.086199,
     "end_time": "2022-04-16T01:10:14.470694",
     "exception": false,
     "start_time": "2022-04-16T01:10:14.384495",
     "status": "completed"
    },
    "tags": []
   },
   "outputs": [],
   "source": [
    "import pandas as pd\n",
    "import numpy as np\n",
    "import matplotlib.pyplot as plt"
   ]
  },
  {
   "cell_type": "code",
   "execution_count": 2,
   "id": "8bfb8f9d",
   "metadata": {
    "execution": {
     "iopub.execute_input": "2022-04-16T01:10:14.618078Z",
     "iopub.status.busy": "2022-04-16T01:10:14.617249Z",
     "iopub.status.idle": "2022-04-16T01:10:14.644501Z",
     "shell.execute_reply": "2022-04-16T01:10:14.643852Z"
    },
    "papermill": {
     "duration": 0.103386,
     "end_time": "2022-04-16T01:10:14.646687",
     "exception": false,
     "start_time": "2022-04-16T01:10:14.543301",
     "status": "completed"
    },
    "tags": []
   },
   "outputs": [],
   "source": [
    "train = pd.read_csv(\"..\\\\data\\\\titanic\\\\train.csv\")\n",
    "test = pd.read_csv(\"..\\\\data\\\\titanic\\\\test.csv\")"
   ]
  },
  {
   "cell_type": "code",
   "execution_count": 3,
   "id": "a9750c1a",
   "metadata": {
    "execution": {
     "iopub.execute_input": "2022-04-16T01:10:14.794328Z",
     "iopub.status.busy": "2022-04-16T01:10:14.793867Z",
     "iopub.status.idle": "2022-04-16T01:10:14.825813Z",
     "shell.execute_reply": "2022-04-16T01:10:14.825238Z"
    },
    "papermill": {
     "duration": 0.108607,
     "end_time": "2022-04-16T01:10:14.828399",
     "exception": false,
     "start_time": "2022-04-16T01:10:14.719792",
     "status": "completed"
    },
    "tags": []
   },
   "outputs": [
    {
     "data": {
      "text/html": [
       "<div>\n",
       "<style scoped>\n",
       "    .dataframe tbody tr th:only-of-type {\n",
       "        vertical-align: middle;\n",
       "    }\n",
       "\n",
       "    .dataframe tbody tr th {\n",
       "        vertical-align: top;\n",
       "    }\n",
       "\n",
       "    .dataframe thead th {\n",
       "        text-align: right;\n",
       "    }\n",
       "</style>\n",
       "<table border=\"1\" class=\"dataframe\">\n",
       "  <thead>\n",
       "    <tr style=\"text-align: right;\">\n",
       "      <th></th>\n",
       "      <th>PassengerId</th>\n",
       "      <th>Survived</th>\n",
       "      <th>Pclass</th>\n",
       "      <th>Name</th>\n",
       "      <th>Sex</th>\n",
       "      <th>Age</th>\n",
       "      <th>SibSp</th>\n",
       "      <th>Parch</th>\n",
       "      <th>Ticket</th>\n",
       "      <th>Fare</th>\n",
       "      <th>Cabin</th>\n",
       "      <th>Embarked</th>\n",
       "    </tr>\n",
       "  </thead>\n",
       "  <tbody>\n",
       "    <tr>\n",
       "      <th>0</th>\n",
       "      <td>1</td>\n",
       "      <td>0</td>\n",
       "      <td>3</td>\n",
       "      <td>Braund, Mr. Owen Harris</td>\n",
       "      <td>male</td>\n",
       "      <td>22.0</td>\n",
       "      <td>1</td>\n",
       "      <td>0</td>\n",
       "      <td>A/5 21171</td>\n",
       "      <td>7.2500</td>\n",
       "      <td>NaN</td>\n",
       "      <td>S</td>\n",
       "    </tr>\n",
       "    <tr>\n",
       "      <th>1</th>\n",
       "      <td>2</td>\n",
       "      <td>1</td>\n",
       "      <td>1</td>\n",
       "      <td>Cumings, Mrs. John Bradley (Florence Briggs Th...</td>\n",
       "      <td>female</td>\n",
       "      <td>38.0</td>\n",
       "      <td>1</td>\n",
       "      <td>0</td>\n",
       "      <td>PC 17599</td>\n",
       "      <td>71.2833</td>\n",
       "      <td>C85</td>\n",
       "      <td>C</td>\n",
       "    </tr>\n",
       "    <tr>\n",
       "      <th>2</th>\n",
       "      <td>3</td>\n",
       "      <td>1</td>\n",
       "      <td>3</td>\n",
       "      <td>Heikkinen, Miss. Laina</td>\n",
       "      <td>female</td>\n",
       "      <td>26.0</td>\n",
       "      <td>0</td>\n",
       "      <td>0</td>\n",
       "      <td>STON/O2. 3101282</td>\n",
       "      <td>7.9250</td>\n",
       "      <td>NaN</td>\n",
       "      <td>S</td>\n",
       "    </tr>\n",
       "    <tr>\n",
       "      <th>3</th>\n",
       "      <td>4</td>\n",
       "      <td>1</td>\n",
       "      <td>1</td>\n",
       "      <td>Futrelle, Mrs. Jacques Heath (Lily May Peel)</td>\n",
       "      <td>female</td>\n",
       "      <td>35.0</td>\n",
       "      <td>1</td>\n",
       "      <td>0</td>\n",
       "      <td>113803</td>\n",
       "      <td>53.1000</td>\n",
       "      <td>C123</td>\n",
       "      <td>S</td>\n",
       "    </tr>\n",
       "    <tr>\n",
       "      <th>4</th>\n",
       "      <td>5</td>\n",
       "      <td>0</td>\n",
       "      <td>3</td>\n",
       "      <td>Allen, Mr. William Henry</td>\n",
       "      <td>male</td>\n",
       "      <td>35.0</td>\n",
       "      <td>0</td>\n",
       "      <td>0</td>\n",
       "      <td>373450</td>\n",
       "      <td>8.0500</td>\n",
       "      <td>NaN</td>\n",
       "      <td>S</td>\n",
       "    </tr>\n",
       "    <tr>\n",
       "      <th>...</th>\n",
       "      <td>...</td>\n",
       "      <td>...</td>\n",
       "      <td>...</td>\n",
       "      <td>...</td>\n",
       "      <td>...</td>\n",
       "      <td>...</td>\n",
       "      <td>...</td>\n",
       "      <td>...</td>\n",
       "      <td>...</td>\n",
       "      <td>...</td>\n",
       "      <td>...</td>\n",
       "      <td>...</td>\n",
       "    </tr>\n",
       "    <tr>\n",
       "      <th>886</th>\n",
       "      <td>887</td>\n",
       "      <td>0</td>\n",
       "      <td>2</td>\n",
       "      <td>Montvila, Rev. Juozas</td>\n",
       "      <td>male</td>\n",
       "      <td>27.0</td>\n",
       "      <td>0</td>\n",
       "      <td>0</td>\n",
       "      <td>211536</td>\n",
       "      <td>13.0000</td>\n",
       "      <td>NaN</td>\n",
       "      <td>S</td>\n",
       "    </tr>\n",
       "    <tr>\n",
       "      <th>887</th>\n",
       "      <td>888</td>\n",
       "      <td>1</td>\n",
       "      <td>1</td>\n",
       "      <td>Graham, Miss. Margaret Edith</td>\n",
       "      <td>female</td>\n",
       "      <td>19.0</td>\n",
       "      <td>0</td>\n",
       "      <td>0</td>\n",
       "      <td>112053</td>\n",
       "      <td>30.0000</td>\n",
       "      <td>B42</td>\n",
       "      <td>S</td>\n",
       "    </tr>\n",
       "    <tr>\n",
       "      <th>888</th>\n",
       "      <td>889</td>\n",
       "      <td>0</td>\n",
       "      <td>3</td>\n",
       "      <td>Johnston, Miss. Catherine Helen \"Carrie\"</td>\n",
       "      <td>female</td>\n",
       "      <td>NaN</td>\n",
       "      <td>1</td>\n",
       "      <td>2</td>\n",
       "      <td>W./C. 6607</td>\n",
       "      <td>23.4500</td>\n",
       "      <td>NaN</td>\n",
       "      <td>S</td>\n",
       "    </tr>\n",
       "    <tr>\n",
       "      <th>889</th>\n",
       "      <td>890</td>\n",
       "      <td>1</td>\n",
       "      <td>1</td>\n",
       "      <td>Behr, Mr. Karl Howell</td>\n",
       "      <td>male</td>\n",
       "      <td>26.0</td>\n",
       "      <td>0</td>\n",
       "      <td>0</td>\n",
       "      <td>111369</td>\n",
       "      <td>30.0000</td>\n",
       "      <td>C148</td>\n",
       "      <td>C</td>\n",
       "    </tr>\n",
       "    <tr>\n",
       "      <th>890</th>\n",
       "      <td>891</td>\n",
       "      <td>0</td>\n",
       "      <td>3</td>\n",
       "      <td>Dooley, Mr. Patrick</td>\n",
       "      <td>male</td>\n",
       "      <td>32.0</td>\n",
       "      <td>0</td>\n",
       "      <td>0</td>\n",
       "      <td>370376</td>\n",
       "      <td>7.7500</td>\n",
       "      <td>NaN</td>\n",
       "      <td>Q</td>\n",
       "    </tr>\n",
       "  </tbody>\n",
       "</table>\n",
       "<p>891 rows × 12 columns</p>\n",
       "</div>"
      ],
      "text/plain": [
       "     PassengerId  Survived  Pclass  \\\n",
       "0              1         0       3   \n",
       "1              2         1       1   \n",
       "2              3         1       3   \n",
       "3              4         1       1   \n",
       "4              5         0       3   \n",
       "..           ...       ...     ...   \n",
       "886          887         0       2   \n",
       "887          888         1       1   \n",
       "888          889         0       3   \n",
       "889          890         1       1   \n",
       "890          891         0       3   \n",
       "\n",
       "                                                  Name     Sex   Age  SibSp  \\\n",
       "0                              Braund, Mr. Owen Harris    male  22.0      1   \n",
       "1    Cumings, Mrs. John Bradley (Florence Briggs Th...  female  38.0      1   \n",
       "2                               Heikkinen, Miss. Laina  female  26.0      0   \n",
       "3         Futrelle, Mrs. Jacques Heath (Lily May Peel)  female  35.0      1   \n",
       "4                             Allen, Mr. William Henry    male  35.0      0   \n",
       "..                                                 ...     ...   ...    ...   \n",
       "886                              Montvila, Rev. Juozas    male  27.0      0   \n",
       "887                       Graham, Miss. Margaret Edith  female  19.0      0   \n",
       "888           Johnston, Miss. Catherine Helen \"Carrie\"  female   NaN      1   \n",
       "889                              Behr, Mr. Karl Howell    male  26.0      0   \n",
       "890                                Dooley, Mr. Patrick    male  32.0      0   \n",
       "\n",
       "     Parch            Ticket     Fare Cabin Embarked  \n",
       "0        0         A/5 21171   7.2500   NaN        S  \n",
       "1        0          PC 17599  71.2833   C85        C  \n",
       "2        0  STON/O2. 3101282   7.9250   NaN        S  \n",
       "3        0            113803  53.1000  C123        S  \n",
       "4        0            373450   8.0500   NaN        S  \n",
       "..     ...               ...      ...   ...      ...  \n",
       "886      0            211536  13.0000   NaN        S  \n",
       "887      0            112053  30.0000   B42        S  \n",
       "888      2        W./C. 6607  23.4500   NaN        S  \n",
       "889      0            111369  30.0000  C148        C  \n",
       "890      0            370376   7.7500   NaN        Q  \n",
       "\n",
       "[891 rows x 12 columns]"
      ]
     },
     "execution_count": 3,
     "metadata": {},
     "output_type": "execute_result"
    }
   ],
   "source": [
    "train"
   ]
  },
  {
   "cell_type": "code",
   "execution_count": 4,
   "id": "927b08ce",
   "metadata": {
    "execution": {
     "iopub.execute_input": "2022-04-16T01:10:14.979905Z",
     "iopub.status.busy": "2022-04-16T01:10:14.979589Z",
     "iopub.status.idle": "2022-04-16T01:10:15.001098Z",
     "shell.execute_reply": "2022-04-16T01:10:14.999943Z"
    },
    "papermill": {
     "duration": 0.100258,
     "end_time": "2022-04-16T01:10:15.003358",
     "exception": false,
     "start_time": "2022-04-16T01:10:14.903100",
     "status": "completed"
    },
    "tags": []
   },
   "outputs": [
    {
     "name": "stdout",
     "output_type": "stream",
     "text": [
      "<class 'pandas.core.frame.DataFrame'>\n",
      "RangeIndex: 891 entries, 0 to 890\n",
      "Data columns (total 12 columns):\n",
      " #   Column       Non-Null Count  Dtype  \n",
      "---  ------       --------------  -----  \n",
      " 0   PassengerId  891 non-null    int64  \n",
      " 1   Survived     891 non-null    int64  \n",
      " 2   Pclass       891 non-null    int64  \n",
      " 3   Name         891 non-null    object \n",
      " 4   Sex          891 non-null    object \n",
      " 5   Age          714 non-null    float64\n",
      " 6   SibSp        891 non-null    int64  \n",
      " 7   Parch        891 non-null    int64  \n",
      " 8   Ticket       891 non-null    object \n",
      " 9   Fare         891 non-null    float64\n",
      " 10  Cabin        204 non-null    object \n",
      " 11  Embarked     889 non-null    object \n",
      "dtypes: float64(2), int64(5), object(5)\n",
      "memory usage: 83.7+ KB\n"
     ]
    }
   ],
   "source": [
    "train.info()"
   ]
  },
  {
   "cell_type": "code",
   "execution_count": 5,
   "id": "3254f256",
   "metadata": {
    "execution": {
     "iopub.execute_input": "2022-04-16T01:10:15.156115Z",
     "iopub.status.busy": "2022-04-16T01:10:15.155658Z",
     "iopub.status.idle": "2022-04-16T01:10:15.168575Z",
     "shell.execute_reply": "2022-04-16T01:10:15.167789Z"
    },
    "papermill": {
     "duration": 0.091565,
     "end_time": "2022-04-16T01:10:15.170707",
     "exception": false,
     "start_time": "2022-04-16T01:10:15.079142",
     "status": "completed"
    },
    "tags": []
   },
   "outputs": [
    {
     "name": "stdout",
     "output_type": "stream",
     "text": [
      "<class 'pandas.core.frame.DataFrame'>\n",
      "RangeIndex: 418 entries, 0 to 417\n",
      "Data columns (total 11 columns):\n",
      " #   Column       Non-Null Count  Dtype  \n",
      "---  ------       --------------  -----  \n",
      " 0   PassengerId  418 non-null    int64  \n",
      " 1   Pclass       418 non-null    int64  \n",
      " 2   Name         418 non-null    object \n",
      " 3   Sex          418 non-null    object \n",
      " 4   Age          332 non-null    float64\n",
      " 5   SibSp        418 non-null    int64  \n",
      " 6   Parch        418 non-null    int64  \n",
      " 7   Ticket       418 non-null    object \n",
      " 8   Fare         417 non-null    float64\n",
      " 9   Cabin        91 non-null     object \n",
      " 10  Embarked     418 non-null    object \n",
      "dtypes: float64(2), int64(4), object(5)\n",
      "memory usage: 36.0+ KB\n"
     ]
    }
   ],
   "source": [
    "test.info()"
   ]
  },
  {
   "cell_type": "code",
   "execution_count": 6,
   "id": "a1e43f57",
   "metadata": {
    "execution": {
     "iopub.execute_input": "2022-04-16T01:10:15.323302Z",
     "iopub.status.busy": "2022-04-16T01:10:15.323021Z",
     "iopub.status.idle": "2022-04-16T01:10:15.334180Z",
     "shell.execute_reply": "2022-04-16T01:10:15.333632Z"
    },
    "papermill": {
     "duration": 0.09012,
     "end_time": "2022-04-16T01:10:15.335928",
     "exception": false,
     "start_time": "2022-04-16T01:10:15.245808",
     "status": "completed"
    },
    "tags": []
   },
   "outputs": [
    {
     "data": {
      "text/html": [
       "<div>\n",
       "<style scoped>\n",
       "    .dataframe tbody tr th:only-of-type {\n",
       "        vertical-align: middle;\n",
       "    }\n",
       "\n",
       "    .dataframe tbody tr th {\n",
       "        vertical-align: top;\n",
       "    }\n",
       "\n",
       "    .dataframe thead th {\n",
       "        text-align: right;\n",
       "    }\n",
       "</style>\n",
       "<table border=\"1\" class=\"dataframe\">\n",
       "  <thead>\n",
       "    <tr style=\"text-align: right;\">\n",
       "      <th></th>\n",
       "      <th>Fare</th>\n",
       "    </tr>\n",
       "  </thead>\n",
       "  <tbody>\n",
       "    <tr>\n",
       "      <th>0</th>\n",
       "      <td>7.2500</td>\n",
       "    </tr>\n",
       "    <tr>\n",
       "      <th>1</th>\n",
       "      <td>71.2833</td>\n",
       "    </tr>\n",
       "    <tr>\n",
       "      <th>2</th>\n",
       "      <td>7.9250</td>\n",
       "    </tr>\n",
       "    <tr>\n",
       "      <th>3</th>\n",
       "      <td>53.1000</td>\n",
       "    </tr>\n",
       "    <tr>\n",
       "      <th>4</th>\n",
       "      <td>8.0500</td>\n",
       "    </tr>\n",
       "    <tr>\n",
       "      <th>...</th>\n",
       "      <td>...</td>\n",
       "    </tr>\n",
       "    <tr>\n",
       "      <th>886</th>\n",
       "      <td>13.0000</td>\n",
       "    </tr>\n",
       "    <tr>\n",
       "      <th>887</th>\n",
       "      <td>30.0000</td>\n",
       "    </tr>\n",
       "    <tr>\n",
       "      <th>888</th>\n",
       "      <td>23.4500</td>\n",
       "    </tr>\n",
       "    <tr>\n",
       "      <th>889</th>\n",
       "      <td>30.0000</td>\n",
       "    </tr>\n",
       "    <tr>\n",
       "      <th>890</th>\n",
       "      <td>7.7500</td>\n",
       "    </tr>\n",
       "  </tbody>\n",
       "</table>\n",
       "<p>891 rows × 1 columns</p>\n",
       "</div>"
      ],
      "text/plain": [
       "        Fare\n",
       "0     7.2500\n",
       "1    71.2833\n",
       "2     7.9250\n",
       "3    53.1000\n",
       "4     8.0500\n",
       "..       ...\n",
       "886  13.0000\n",
       "887  30.0000\n",
       "888  23.4500\n",
       "889  30.0000\n",
       "890   7.7500\n",
       "\n",
       "[891 rows x 1 columns]"
      ]
     },
     "execution_count": 6,
     "metadata": {},
     "output_type": "execute_result"
    }
   ],
   "source": [
    "train[['Fare']]"
   ]
  },
  {
   "cell_type": "code",
   "execution_count": 7,
   "id": "6fbfbdd9",
   "metadata": {
    "execution": {
     "iopub.execute_input": "2022-04-16T01:10:15.488602Z",
     "iopub.status.busy": "2022-04-16T01:10:15.488138Z",
     "iopub.status.idle": "2022-04-16T01:10:15.495025Z",
     "shell.execute_reply": "2022-04-16T01:10:15.494477Z"
    },
    "papermill": {
     "duration": 0.085562,
     "end_time": "2022-04-16T01:10:15.496898",
     "exception": false,
     "start_time": "2022-04-16T01:10:15.411336",
     "status": "completed"
    },
    "tags": []
   },
   "outputs": [],
   "source": [
    "survived = train [ train['Survived'] ==1 ][\"Sex\"].value_counts()\n",
    "dead = train [ train['Survived'] ==0 ][\"Sex\"].value_counts()"
   ]
  },
  {
   "cell_type": "code",
   "execution_count": 8,
   "id": "5c2a16a8",
   "metadata": {
    "execution": {
     "iopub.execute_input": "2022-04-16T01:10:15.649314Z",
     "iopub.status.busy": "2022-04-16T01:10:15.648813Z",
     "iopub.status.idle": "2022-04-16T01:10:15.654499Z",
     "shell.execute_reply": "2022-04-16T01:10:15.653804Z"
    },
    "papermill": {
     "duration": 0.084125,
     "end_time": "2022-04-16T01:10:15.656388",
     "exception": false,
     "start_time": "2022-04-16T01:10:15.572263",
     "status": "completed"
    },
    "tags": []
   },
   "outputs": [
    {
     "data": {
      "text/plain": [
       "female    233\n",
       "male      109\n",
       "Name: Sex, dtype: int64"
      ]
     },
     "execution_count": 8,
     "metadata": {},
     "output_type": "execute_result"
    }
   ],
   "source": [
    "survived"
   ]
  },
  {
   "cell_type": "code",
   "execution_count": 9,
   "id": "bc17c720",
   "metadata": {
    "execution": {
     "iopub.execute_input": "2022-04-16T01:10:15.810463Z",
     "iopub.status.busy": "2022-04-16T01:10:15.809692Z",
     "iopub.status.idle": "2022-04-16T01:10:15.814988Z",
     "shell.execute_reply": "2022-04-16T01:10:15.814314Z"
    },
    "papermill": {
     "duration": 0.08441,
     "end_time": "2022-04-16T01:10:15.816967",
     "exception": false,
     "start_time": "2022-04-16T01:10:15.732557",
     "status": "completed"
    },
    "tags": []
   },
   "outputs": [],
   "source": [
    "new_df = pd.DataFrame([survived,dead])"
   ]
  },
  {
   "cell_type": "code",
   "execution_count": 10,
   "id": "5003e667",
   "metadata": {
    "execution": {
     "iopub.execute_input": "2022-04-16T01:10:15.972984Z",
     "iopub.status.busy": "2022-04-16T01:10:15.972524Z",
     "iopub.status.idle": "2022-04-16T01:10:15.979473Z",
     "shell.execute_reply": "2022-04-16T01:10:15.978934Z"
    },
    "papermill": {
     "duration": 0.087195,
     "end_time": "2022-04-16T01:10:15.981223",
     "exception": false,
     "start_time": "2022-04-16T01:10:15.894028",
     "status": "completed"
    },
    "tags": []
   },
   "outputs": [
    {
     "data": {
      "text/html": [
       "<div>\n",
       "<style scoped>\n",
       "    .dataframe tbody tr th:only-of-type {\n",
       "        vertical-align: middle;\n",
       "    }\n",
       "\n",
       "    .dataframe tbody tr th {\n",
       "        vertical-align: top;\n",
       "    }\n",
       "\n",
       "    .dataframe thead th {\n",
       "        text-align: right;\n",
       "    }\n",
       "</style>\n",
       "<table border=\"1\" class=\"dataframe\">\n",
       "  <thead>\n",
       "    <tr style=\"text-align: right;\">\n",
       "      <th></th>\n",
       "      <th>female</th>\n",
       "      <th>male</th>\n",
       "    </tr>\n",
       "  </thead>\n",
       "  <tbody>\n",
       "    <tr>\n",
       "      <th>Sex</th>\n",
       "      <td>233</td>\n",
       "      <td>109</td>\n",
       "    </tr>\n",
       "    <tr>\n",
       "      <th>Sex</th>\n",
       "      <td>81</td>\n",
       "      <td>468</td>\n",
       "    </tr>\n",
       "  </tbody>\n",
       "</table>\n",
       "</div>"
      ],
      "text/plain": [
       "     female  male\n",
       "Sex     233   109\n",
       "Sex      81   468"
      ]
     },
     "execution_count": 10,
     "metadata": {},
     "output_type": "execute_result"
    }
   ],
   "source": [
    "new_df"
   ]
  },
  {
   "cell_type": "code",
   "execution_count": 11,
   "id": "5d661ac7",
   "metadata": {
    "execution": {
     "iopub.execute_input": "2022-04-16T01:10:16.136494Z",
     "iopub.status.busy": "2022-04-16T01:10:16.136043Z",
     "iopub.status.idle": "2022-04-16T01:10:16.435799Z",
     "shell.execute_reply": "2022-04-16T01:10:16.434888Z"
    },
    "papermill": {
     "duration": 0.379549,
     "end_time": "2022-04-16T01:10:16.437879",
     "exception": false,
     "start_time": "2022-04-16T01:10:16.058330",
     "status": "completed"
    },
    "tags": []
   },
   "outputs": [
    {
     "data": {
      "text/plain": [
       "<AxesSubplot:>"
      ]
     },
     "execution_count": 11,
     "metadata": {},
     "output_type": "execute_result"
    },
    {
     "data": {
      "image/png": "[encoded data removed]",
      "text/plain": [
       "<Figure size 432x288 with 1 Axes>"
      ]
     },
     "metadata": {
      "needs_background": "light"
     },
     "output_type": "display_data"
    }
   ],
   "source": [
    "new_df.plot(kind=\"bar\", stacked=True)"
   ]
  },
  {
   "cell_type": "code",
   "execution_count": 12,
   "id": "36f047fe",
   "metadata": {
    "execution": {
     "iopub.execute_input": "2022-04-16T01:10:16.594196Z",
     "iopub.status.busy": "2022-04-16T01:10:16.593513Z",
     "iopub.status.idle": "2022-04-16T01:10:16.599608Z",
     "shell.execute_reply": "2022-04-16T01:10:16.599060Z"
    },
    "papermill": {
     "duration": 0.086564,
     "end_time": "2022-04-16T01:10:16.601475",
     "exception": false,
     "start_time": "2022-04-16T01:10:16.514911",
     "status": "completed"
    },
    "tags": []
   },
   "outputs": [],
   "source": [
    "def bar(train, column):\n",
    "    survived = train [ train['Survived'] ==1 ][column].value_counts()\n",
    "    dead = train [ train['Survived'] ==0 ][column].value_counts()\n",
    "    new_df = pd.DataFrame([survived,dead])\n",
    "    new_df.index = ['3acho', 'mato']\n",
    "    new_df.plot(kind=\"bar\", stacked=True, figsize=(15,10))"
   ]
  },
  {
   "cell_type": "code",
   "execution_count": 13,
   "id": "9e5a1c5b",
   "metadata": {
    "execution": {
     "iopub.execute_input": "2022-04-16T01:10:16.760553Z",
     "iopub.status.busy": "2022-04-16T01:10:16.760116Z",
     "iopub.status.idle": "2022-04-16T01:10:16.935345Z",
     "shell.execute_reply": "2022-04-16T01:10:16.934624Z"
    },
    "papermill": {
     "duration": 0.257676,
     "end_time": "2022-04-16T01:10:16.937334",
     "exception": false,
     "start_time": "2022-04-16T01:10:16.679658",
     "status": "completed"
    },
    "tags": []
   },
   "outputs": [
    {
     "data": {
      "image/png": "[encoded data removed]",
      "text/plain": [
       "<Figure size 1080x720 with 1 Axes>"
      ]
     },
     "metadata": {
      "needs_background": "light"
     },
     "output_type": "display_data"
    }
   ],
   "source": [
    "bar(train,\"Sex\")"
   ]
  },
  {
   "cell_type": "code",
   "execution_count": 14,
   "id": "61d48955",
   "metadata": {
    "execution": {
     "iopub.execute_input": "2022-04-16T01:10:17.095080Z",
     "iopub.status.busy": "2022-04-16T01:10:17.094376Z",
     "iopub.status.idle": "2022-04-16T01:10:17.365884Z",
     "shell.execute_reply": "2022-04-16T01:10:17.365032Z"
    },
    "papermill": {
     "duration": 0.352804,
     "end_time": "2022-04-16T01:10:17.368055",
     "exception": false,
     "start_time": "2022-04-16T01:10:17.015251",
     "status": "completed"
    },
    "tags": []
   },
   "outputs": [
    {
     "data": {
      "image/png": "[encoded data removed]",
      "text/plain": [
       "<Figure size 1080x720 with 1 Axes>"
      ]
     },
     "metadata": {
      "needs_background": "light"
     },
     "output_type": "display_data"
    }
   ],
   "source": [
    "bar(train,\"SibSp\")"
   ]
  },
  {
   "cell_type": "code",
   "execution_count": 15,
   "id": "f9321862",
   "metadata": {
    "execution": {
     "iopub.execute_input": "2022-04-16T01:10:17.527204Z",
     "iopub.status.busy": "2022-04-16T01:10:17.526328Z",
     "iopub.status.idle": "2022-04-16T01:10:17.803582Z",
     "shell.execute_reply": "2022-04-16T01:10:17.802712Z"
    },
    "papermill": {
     "duration": 0.359615,
     "end_time": "2022-04-16T01:10:17.805483",
     "exception": false,
     "start_time": "2022-04-16T01:10:17.445868",
     "status": "completed"
    },
    "scrolled": true,
    "tags": []
   },
   "outputs": [
    {
     "data": {
      "image/png": "[encoded data removed]",
      "text/plain": [
       "<Figure size 1080x720 with 1 Axes>"
      ]
     },
     "metadata": {
      "needs_background": "light"
     },
     "output_type": "display_data"
    }
   ],
   "source": [
    "bar(train,\"Parch\")"
   ]
  },
  {
   "cell_type": "markdown",
   "id": "990e4bad",
   "metadata": {
    "papermill": {
     "duration": 0.079131,
     "end_time": "2022-04-16T01:10:17.964201",
     "exception": false,
     "start_time": "2022-04-16T01:10:17.885070",
     "status": "completed"
    },
    "tags": []
   },
   "source": [
    "## Cabin feature"
   ]
  },
  {
   "cell_type": "code",
   "execution_count": 16,
   "id": "ed7181a2",
   "metadata": {
    "execution": {
     "iopub.execute_input": "2022-04-16T01:10:18.127911Z",
     "iopub.status.busy": "2022-04-16T01:10:18.127336Z",
     "iopub.status.idle": "2022-04-16T01:10:18.135567Z",
     "shell.execute_reply": "2022-04-16T01:10:18.135010Z"
    },
    "papermill": {
     "duration": 0.093227,
     "end_time": "2022-04-16T01:10:18.137534",
     "exception": false,
     "start_time": "2022-04-16T01:10:18.044307",
     "status": "completed"
    },
    "tags": []
   },
   "outputs": [],
   "source": [
    "train['Cabin_type'] = train[\"Cabin\"].astype(str).str[0]\n",
    "test['Cabin_type'] = test[\"Cabin\"].astype(str).str[0]"
   ]
  },
  {
   "cell_type": "code",
   "execution_count": 17,
   "id": "f0998bc2",
   "metadata": {
    "execution": {
     "iopub.execute_input": "2022-04-16T01:10:18.300430Z",
     "iopub.status.busy": "2022-04-16T01:10:18.299879Z",
     "iopub.status.idle": "2022-04-16T01:10:18.307757Z",
     "shell.execute_reply": "2022-04-16T01:10:18.306913Z"
    },
    "papermill": {
     "duration": 0.09204,
     "end_time": "2022-04-16T01:10:18.309824",
     "exception": false,
     "start_time": "2022-04-16T01:10:18.217784",
     "status": "completed"
    },
    "tags": []
   },
   "outputs": [
    {
     "data": {
      "text/plain": [
       "n    687\n",
       "C     59\n",
       "B     47\n",
       "D     33\n",
       "E     32\n",
       "A     15\n",
       "F     13\n",
       "G      4\n",
       "T      1\n",
       "Name: Cabin_type, dtype: int64"
      ]
     },
     "execution_count": 17,
     "metadata": {},
     "output_type": "execute_result"
    }
   ],
   "source": [
    "train['Cabin_type'].value_counts()"
   ]
  },
  {
   "cell_type": "code",
   "execution_count": 18,
   "id": "0cab297e",
   "metadata": {
    "execution": {
     "iopub.execute_input": "2022-04-16T01:10:18.472788Z",
     "iopub.status.busy": "2022-04-16T01:10:18.472297Z",
     "iopub.status.idle": "2022-04-16T01:10:18.480466Z",
     "shell.execute_reply": "2022-04-16T01:10:18.479571Z"
    },
    "papermill": {
     "duration": 0.091805,
     "end_time": "2022-04-16T01:10:18.482381",
     "exception": false,
     "start_time": "2022-04-16T01:10:18.390576",
     "status": "completed"
    },
    "tags": []
   },
   "outputs": [],
   "source": [
    "train['Cabin_type'] = train['Cabin_type'].map({'A':1,'B':2,'C':3,'D':4,'E':5,'F':6,'G':7,'T':8 })\n",
    "test['Cabin_type'] = test['Cabin_type'].map({'A':1,'B':2,'C':3,'D':4,'E':5,'F':6,'G':7,'T':8 })"
   ]
  },
  {
   "cell_type": "code",
   "execution_count": 19,
   "id": "15d9f01b",
   "metadata": {
    "execution": {
     "iopub.execute_input": "2022-04-16T01:10:18.644653Z",
     "iopub.status.busy": "2022-04-16T01:10:18.644351Z",
     "iopub.status.idle": "2022-04-16T01:10:18.651209Z",
     "shell.execute_reply": "2022-04-16T01:10:18.650711Z"
    },
    "papermill": {
     "duration": 0.090824,
     "end_time": "2022-04-16T01:10:18.653404",
     "exception": false,
     "start_time": "2022-04-16T01:10:18.562580",
     "status": "completed"
    },
    "tags": []
   },
   "outputs": [
    {
     "data": {
      "text/plain": [
       "0      NaN\n",
       "1      3.0\n",
       "2      NaN\n",
       "3      3.0\n",
       "4      NaN\n",
       "      ... \n",
       "886    NaN\n",
       "887    2.0\n",
       "888    NaN\n",
       "889    3.0\n",
       "890    NaN\n",
       "Name: Cabin_type, Length: 891, dtype: float64"
      ]
     },
     "execution_count": 19,
     "metadata": {},
     "output_type": "execute_result"
    }
   ],
   "source": [
    "train['Cabin_type']"
   ]
  },
  {
   "cell_type": "code",
   "execution_count": 20,
   "id": "e405d30c",
   "metadata": {
    "execution": {
     "iopub.execute_input": "2022-04-16T01:10:18.816296Z",
     "iopub.status.busy": "2022-04-16T01:10:18.815844Z",
     "iopub.status.idle": "2022-04-16T01:10:18.820151Z",
     "shell.execute_reply": "2022-04-16T01:10:18.819602Z"
    },
    "papermill": {
     "duration": 0.088182,
     "end_time": "2022-04-16T01:10:18.821904",
     "exception": false,
     "start_time": "2022-04-16T01:10:18.733722",
     "status": "completed"
    },
    "tags": []
   },
   "outputs": [],
   "source": [
    "train['Cabin_type'].fillna(0, inplace= True)\n",
    "test['Cabin_type'].fillna(0, inplace= True)"
   ]
  },
  {
   "cell_type": "markdown",
   "id": "03b33bc8",
   "metadata": {
    "papermill": {
     "duration": 0.080349,
     "end_time": "2022-04-16T01:10:18.983383",
     "exception": false,
     "start_time": "2022-04-16T01:10:18.903034",
     "status": "completed"
    },
    "tags": []
   },
   "source": [
    "## Name feature"
   ]
  },
  {
   "cell_type": "code",
   "execution_count": 21,
   "id": "48dd4051",
   "metadata": {
    "execution": {
     "iopub.execute_input": "2022-04-16T01:10:19.147840Z",
     "iopub.status.busy": "2022-04-16T01:10:19.147528Z",
     "iopub.status.idle": "2022-04-16T01:10:19.154525Z",
     "shell.execute_reply": "2022-04-16T01:10:19.153743Z"
    },
    "papermill": {
     "duration": 0.092369,
     "end_time": "2022-04-16T01:10:19.156796",
     "exception": false,
     "start_time": "2022-04-16T01:10:19.064427",
     "status": "completed"
    },
    "tags": []
   },
   "outputs": [
    {
     "data": {
      "text/plain": [
       "0                                Braund, Mr. Owen Harris\n",
       "1      Cumings, Mrs. John Bradley (Florence Briggs Th...\n",
       "2                                 Heikkinen, Miss. Laina\n",
       "3           Futrelle, Mrs. Jacques Heath (Lily May Peel)\n",
       "4                               Allen, Mr. William Henry\n",
       "                             ...                        \n",
       "886                                Montvila, Rev. Juozas\n",
       "887                         Graham, Miss. Margaret Edith\n",
       "888             Johnston, Miss. Catherine Helen \"Carrie\"\n",
       "889                                Behr, Mr. Karl Howell\n",
       "890                                  Dooley, Mr. Patrick\n",
       "Name: Name, Length: 891, dtype: object"
      ]
     },
     "execution_count": 21,
     "metadata": {},
     "output_type": "execute_result"
    }
   ],
   "source": [
    "train['Name']"
   ]
  },
  {
   "cell_type": "code",
   "execution_count": 22,
   "id": "d8bb7c6d",
   "metadata": {
    "execution": {
     "iopub.execute_input": "2022-04-16T01:10:19.322824Z",
     "iopub.status.busy": "2022-04-16T01:10:19.322511Z",
     "iopub.status.idle": "2022-04-16T01:10:19.333066Z",
     "shell.execute_reply": "2022-04-16T01:10:19.332401Z"
    },
    "papermill": {
     "duration": 0.095865,
     "end_time": "2022-04-16T01:10:19.334994",
     "exception": false,
     "start_time": "2022-04-16T01:10:19.239129",
     "status": "completed"
    },
    "tags": []
   },
   "outputs": [],
   "source": [
    "list = [train]\n",
    "for df in list:\n",
    "    df['Status'] = df['Name'].str.extract('([A-Za-z]+)\\.')\n",
    "train[\"Status\"]=df['Status']"
   ]
  },
  {
   "cell_type": "code",
   "execution_count": 23,
   "id": "c2cd329d",
   "metadata": {
    "execution": {
     "iopub.execute_input": "2022-04-16T01:10:19.499105Z",
     "iopub.status.busy": "2022-04-16T01:10:19.498600Z",
     "iopub.status.idle": "2022-04-16T01:10:19.522576Z",
     "shell.execute_reply": "2022-04-16T01:10:19.521715Z"
    },
    "papermill": {
     "duration": 0.107535,
     "end_time": "2022-04-16T01:10:19.524516",
     "exception": false,
     "start_time": "2022-04-16T01:10:19.416981",
     "status": "completed"
    },
    "tags": []
   },
   "outputs": [
    {
     "data": {
      "text/html": [
       "<div>\n",
       "<style scoped>\n",
       "    .dataframe tbody tr th:only-of-type {\n",
       "        vertical-align: middle;\n",
       "    }\n",
       "\n",
       "    .dataframe tbody tr th {\n",
       "        vertical-align: top;\n",
       "    }\n",
       "\n",
       "    .dataframe thead th {\n",
       "        text-align: right;\n",
       "    }\n",
       "</style>\n",
       "<table border=\"1\" class=\"dataframe\">\n",
       "  <thead>\n",
       "    <tr style=\"text-align: right;\">\n",
       "      <th></th>\n",
       "      <th>PassengerId</th>\n",
       "      <th>Survived</th>\n",
       "      <th>Pclass</th>\n",
       "      <th>Name</th>\n",
       "      <th>Sex</th>\n",
       "      <th>Age</th>\n",
       "      <th>SibSp</th>\n",
       "      <th>Parch</th>\n",
       "      <th>Ticket</th>\n",
       "      <th>Fare</th>\n",
       "      <th>Cabin</th>\n",
       "      <th>Embarked</th>\n",
       "      <th>Cabin_type</th>\n",
       "      <th>Status</th>\n",
       "    </tr>\n",
       "  </thead>\n",
       "  <tbody>\n",
       "    <tr>\n",
       "      <th>0</th>\n",
       "      <td>1</td>\n",
       "      <td>0</td>\n",
       "      <td>3</td>\n",
       "      <td>Braund, Mr. Owen Harris</td>\n",
       "      <td>male</td>\n",
       "      <td>22.0</td>\n",
       "      <td>1</td>\n",
       "      <td>0</td>\n",
       "      <td>A/5 21171</td>\n",
       "      <td>7.2500</td>\n",
       "      <td>NaN</td>\n",
       "      <td>S</td>\n",
       "      <td>0.0</td>\n",
       "      <td>Mr</td>\n",
       "    </tr>\n",
       "    <tr>\n",
       "      <th>1</th>\n",
       "      <td>2</td>\n",
       "      <td>1</td>\n",
       "      <td>1</td>\n",
       "      <td>Cumings, Mrs. John Bradley (Florence Briggs Th...</td>\n",
       "      <td>female</td>\n",
       "      <td>38.0</td>\n",
       "      <td>1</td>\n",
       "      <td>0</td>\n",
       "      <td>PC 17599</td>\n",
       "      <td>71.2833</td>\n",
       "      <td>C85</td>\n",
       "      <td>C</td>\n",
       "      <td>3.0</td>\n",
       "      <td>Mrs</td>\n",
       "    </tr>\n",
       "    <tr>\n",
       "      <th>2</th>\n",
       "      <td>3</td>\n",
       "      <td>1</td>\n",
       "      <td>3</td>\n",
       "      <td>Heikkinen, Miss. Laina</td>\n",
       "      <td>female</td>\n",
       "      <td>26.0</td>\n",
       "      <td>0</td>\n",
       "      <td>0</td>\n",
       "      <td>STON/O2. 3101282</td>\n",
       "      <td>7.9250</td>\n",
       "      <td>NaN</td>\n",
       "      <td>S</td>\n",
       "      <td>0.0</td>\n",
       "      <td>Miss</td>\n",
       "    </tr>\n",
       "    <tr>\n",
       "      <th>3</th>\n",
       "      <td>4</td>\n",
       "      <td>1</td>\n",
       "      <td>1</td>\n",
       "      <td>Futrelle, Mrs. Jacques Heath (Lily May Peel)</td>\n",
       "      <td>female</td>\n",
       "      <td>35.0</td>\n",
       "      <td>1</td>\n",
       "      <td>0</td>\n",
       "      <td>113803</td>\n",
       "      <td>53.1000</td>\n",
       "      <td>C123</td>\n",
       "      <td>S</td>\n",
       "      <td>3.0</td>\n",
       "      <td>Mrs</td>\n",
       "    </tr>\n",
       "    <tr>\n",
       "      <th>4</th>\n",
       "      <td>5</td>\n",
       "      <td>0</td>\n",
       "      <td>3</td>\n",
       "      <td>Allen, Mr. William Henry</td>\n",
       "      <td>male</td>\n",
       "      <td>35.0</td>\n",
       "      <td>0</td>\n",
       "      <td>0</td>\n",
       "      <td>373450</td>\n",
       "      <td>8.0500</td>\n",
       "      <td>NaN</td>\n",
       "      <td>S</td>\n",
       "      <td>0.0</td>\n",
       "      <td>Mr</td>\n",
       "    </tr>\n",
       "    <tr>\n",
       "      <th>...</th>\n",
       "      <td>...</td>\n",
       "      <td>...</td>\n",
       "      <td>...</td>\n",
       "      <td>...</td>\n",
       "      <td>...</td>\n",
       "      <td>...</td>\n",
       "      <td>...</td>\n",
       "      <td>...</td>\n",
       "      <td>...</td>\n",
       "      <td>...</td>\n",
       "      <td>...</td>\n",
       "      <td>...</td>\n",
       "      <td>...</td>\n",
       "      <td>...</td>\n",
       "    </tr>\n",
       "    <tr>\n",
       "      <th>886</th>\n",
       "      <td>887</td>\n",
       "      <td>0</td>\n",
       "      <td>2</td>\n",
       "      <td>Montvila, Rev. Juozas</td>\n",
       "      <td>male</td>\n",
       "      <td>27.0</td>\n",
       "      <td>0</td>\n",
       "      <td>0</td>\n",
       "      <td>211536</td>\n",
       "      <td>13.0000</td>\n",
       "      <td>NaN</td>\n",
       "      <td>S</td>\n",
       "      <td>0.0</td>\n",
       "      <td>Rev</td>\n",
       "    </tr>\n",
       "    <tr>\n",
       "      <th>887</th>\n",
       "      <td>888</td>\n",
       "      <td>1</td>\n",
       "      <td>1</td>\n",
       "      <td>Graham, Miss. Margaret Edith</td>\n",
       "      <td>female</td>\n",
       "      <td>19.0</td>\n",
       "      <td>0</td>\n",
       "      <td>0</td>\n",
       "      <td>112053</td>\n",
       "      <td>30.0000</td>\n",
       "      <td>B42</td>\n",
       "      <td>S</td>\n",
       "      <td>2.0</td>\n",
       "      <td>Miss</td>\n",
       "    </tr>\n",
       "    <tr>\n",
       "      <th>888</th>\n",
       "      <td>889</td>\n",
       "      <td>0</td>\n",
       "      <td>3</td>\n",
       "      <td>Johnston, Miss. Catherine Helen \"Carrie\"</td>\n",
       "      <td>female</td>\n",
       "      <td>NaN</td>\n",
       "      <td>1</td>\n",
       "      <td>2</td>\n",
       "      <td>W./C. 6607</td>\n",
       "      <td>23.4500</td>\n",
       "      <td>NaN</td>\n",
       "      <td>S</td>\n",
       "      <td>0.0</td>\n",
       "      <td>Miss</td>\n",
       "    </tr>\n",
       "    <tr>\n",
       "      <th>889</th>\n",
       "      <td>890</td>\n",
       "      <td>1</td>\n",
       "      <td>1</td>\n",
       "      <td>Behr, Mr. Karl Howell</td>\n",
       "      <td>male</td>\n",
       "      <td>26.0</td>\n",
       "      <td>0</td>\n",
       "      <td>0</td>\n",
       "      <td>111369</td>\n",
       "      <td>30.0000</td>\n",
       "      <td>C148</td>\n",
       "      <td>C</td>\n",
       "      <td>3.0</td>\n",
       "      <td>Mr</td>\n",
       "    </tr>\n",
       "    <tr>\n",
       "      <th>890</th>\n",
       "      <td>891</td>\n",
       "      <td>0</td>\n",
       "      <td>3</td>\n",
       "      <td>Dooley, Mr. Patrick</td>\n",
       "      <td>male</td>\n",
       "      <td>32.0</td>\n",
       "      <td>0</td>\n",
       "      <td>0</td>\n",
       "      <td>370376</td>\n",
       "      <td>7.7500</td>\n",
       "      <td>NaN</td>\n",
       "      <td>Q</td>\n",
       "      <td>0.0</td>\n",
       "      <td>Mr</td>\n",
       "    </tr>\n",
       "  </tbody>\n",
       "</table>\n",
       "<p>891 rows × 14 columns</p>\n",
       "</div>"
      ],
      "text/plain": [
       "     PassengerId  Survived  Pclass  \\\n",
       "0              1         0       3   \n",
       "1              2         1       1   \n",
       "2              3         1       3   \n",
       "3              4         1       1   \n",
       "4              5         0       3   \n",
       "..           ...       ...     ...   \n",
       "886          887         0       2   \n",
       "887          888         1       1   \n",
       "888          889         0       3   \n",
       "889          890         1       1   \n",
       "890          891         0       3   \n",
       "\n",
       "                                                  Name     Sex   Age  SibSp  \\\n",
       "0                              Braund, Mr. Owen Harris    male  22.0      1   \n",
       "1    Cumings, Mrs. John Bradley (Florence Briggs Th...  female  38.0      1   \n",
       "2                               Heikkinen, Miss. Laina  female  26.0      0   \n",
       "3         Futrelle, Mrs. Jacques Heath (Lily May Peel)  female  35.0      1   \n",
       "4                             Allen, Mr. William Henry    male  35.0      0   \n",
       "..                                                 ...     ...   ...    ...   \n",
       "886                              Montvila, Rev. Juozas    male  27.0      0   \n",
       "887                       Graham, Miss. Margaret Edith  female  19.0      0   \n",
       "888           Johnston, Miss. Catherine Helen \"Carrie\"  female   NaN      1   \n",
       "889                              Behr, Mr. Karl Howell    male  26.0      0   \n",
       "890                                Dooley, Mr. Patrick    male  32.0      0   \n",
       "\n",
       "     Parch            Ticket     Fare Cabin Embarked  Cabin_type Status  \n",
       "0        0         A/5 21171   7.2500   NaN        S         0.0     Mr  \n",
       "1        0          PC 17599  71.2833   C85        C         3.0    Mrs  \n",
       "2        0  STON/O2. 3101282   7.9250   NaN        S         0.0   Miss  \n",
       "3        0            113803  53.1000  C123        S         3.0    Mrs  \n",
       "4        0            373450   8.0500   NaN        S         0.0     Mr  \n",
       "..     ...               ...      ...   ...      ...         ...    ...  \n",
       "886      0            211536  13.0000   NaN        S         0.0    Rev  \n",
       "887      0            112053  30.0000   B42        S         2.0   Miss  \n",
       "888      2        W./C. 6607  23.4500   NaN        S         0.0   Miss  \n",
       "889      0            111369  30.0000  C148        C         3.0     Mr  \n",
       "890      0            370376   7.7500   NaN        Q         0.0     Mr  \n",
       "\n",
       "[891 rows x 14 columns]"
      ]
     },
     "execution_count": 23,
     "metadata": {},
     "output_type": "execute_result"
    }
   ],
   "source": [
    "train"
   ]
  },
  {
   "cell_type": "code",
   "execution_count": 24,
   "id": "0de8e3fe",
   "metadata": {
    "execution": {
     "iopub.execute_input": "2022-04-16T01:10:19.690446Z",
     "iopub.status.busy": "2022-04-16T01:10:19.690192Z",
     "iopub.status.idle": "2022-04-16T01:10:19.697759Z",
     "shell.execute_reply": "2022-04-16T01:10:19.696917Z"
    },
    "papermill": {
     "duration": 0.093339,
     "end_time": "2022-04-16T01:10:19.699579",
     "exception": false,
     "start_time": "2022-04-16T01:10:19.606240",
     "status": "completed"
    },
    "tags": []
   },
   "outputs": [],
   "source": [
    "list = [test]\n",
    "for df in list:\n",
    "    df['Status'] = df['Name'].str.extract('([A-Za-z]+)\\.')\n",
    "test[\"Status\"]=df['Status']"
   ]
  },
  {
   "cell_type": "code",
   "execution_count": 25,
   "id": "abed23d3",
   "metadata": {
    "execution": {
     "iopub.execute_input": "2022-04-16T01:10:19.864740Z",
     "iopub.status.busy": "2022-04-16T01:10:19.864443Z",
     "iopub.status.idle": "2022-04-16T01:10:19.889104Z",
     "shell.execute_reply": "2022-04-16T01:10:19.888293Z"
    },
    "papermill": {
     "duration": 0.109442,
     "end_time": "2022-04-16T01:10:19.891276",
     "exception": false,
     "start_time": "2022-04-16T01:10:19.781834",
     "status": "completed"
    },
    "tags": []
   },
   "outputs": [
    {
     "data": {
      "text/html": [
       "<div>\n",
       "<style scoped>\n",
       "    .dataframe tbody tr th:only-of-type {\n",
       "        vertical-align: middle;\n",
       "    }\n",
       "\n",
       "    .dataframe tbody tr th {\n",
       "        vertical-align: top;\n",
       "    }\n",
       "\n",
       "    .dataframe thead th {\n",
       "        text-align: right;\n",
       "    }\n",
       "</style>\n",
       "<table border=\"1\" class=\"dataframe\">\n",
       "  <thead>\n",
       "    <tr style=\"text-align: right;\">\n",
       "      <th></th>\n",
       "      <th>PassengerId</th>\n",
       "      <th>Pclass</th>\n",
       "      <th>Name</th>\n",
       "      <th>Sex</th>\n",
       "      <th>Age</th>\n",
       "      <th>SibSp</th>\n",
       "      <th>Parch</th>\n",
       "      <th>Ticket</th>\n",
       "      <th>Fare</th>\n",
       "      <th>Cabin</th>\n",
       "      <th>Embarked</th>\n",
       "      <th>Cabin_type</th>\n",
       "      <th>Status</th>\n",
       "    </tr>\n",
       "  </thead>\n",
       "  <tbody>\n",
       "    <tr>\n",
       "      <th>0</th>\n",
       "      <td>892</td>\n",
       "      <td>3</td>\n",
       "      <td>Kelly, Mr. James</td>\n",
       "      <td>male</td>\n",
       "      <td>34.5</td>\n",
       "      <td>0</td>\n",
       "      <td>0</td>\n",
       "      <td>330911</td>\n",
       "      <td>7.8292</td>\n",
       "      <td>NaN</td>\n",
       "      <td>Q</td>\n",
       "      <td>0.0</td>\n",
       "      <td>Mr</td>\n",
       "    </tr>\n",
       "    <tr>\n",
       "      <th>1</th>\n",
       "      <td>893</td>\n",
       "      <td>3</td>\n",
       "      <td>Wilkes, Mrs. James (Ellen Needs)</td>\n",
       "      <td>female</td>\n",
       "      <td>47.0</td>\n",
       "      <td>1</td>\n",
       "      <td>0</td>\n",
       "      <td>363272</td>\n",
       "      <td>7.0000</td>\n",
       "      <td>NaN</td>\n",
       "      <td>S</td>\n",
       "      <td>0.0</td>\n",
       "      <td>Mrs</td>\n",
       "    </tr>\n",
       "    <tr>\n",
       "      <th>2</th>\n",
       "      <td>894</td>\n",
       "      <td>2</td>\n",
       "      <td>Myles, Mr. Thomas Francis</td>\n",
       "      <td>male</td>\n",
       "      <td>62.0</td>\n",
       "      <td>0</td>\n",
       "      <td>0</td>\n",
       "      <td>240276</td>\n",
       "      <td>9.6875</td>\n",
       "      <td>NaN</td>\n",
       "      <td>Q</td>\n",
       "      <td>0.0</td>\n",
       "      <td>Mr</td>\n",
       "    </tr>\n",
       "    <tr>\n",
       "      <th>3</th>\n",
       "      <td>895</td>\n",
       "      <td>3</td>\n",
       "      <td>Wirz, Mr. Albert</td>\n",
       "      <td>male</td>\n",
       "      <td>27.0</td>\n",
       "      <td>0</td>\n",
       "      <td>0</td>\n",
       "      <td>315154</td>\n",
       "      <td>8.6625</td>\n",
       "      <td>NaN</td>\n",
       "      <td>S</td>\n",
       "      <td>0.0</td>\n",
       "      <td>Mr</td>\n",
       "    </tr>\n",
       "    <tr>\n",
       "      <th>4</th>\n",
       "      <td>896</td>\n",
       "      <td>3</td>\n",
       "      <td>Hirvonen, Mrs. Alexander (Helga E Lindqvist)</td>\n",
       "      <td>female</td>\n",
       "      <td>22.0</td>\n",
       "      <td>1</td>\n",
       "      <td>1</td>\n",
       "      <td>3101298</td>\n",
       "      <td>12.2875</td>\n",
       "      <td>NaN</td>\n",
       "      <td>S</td>\n",
       "      <td>0.0</td>\n",
       "      <td>Mrs</td>\n",
       "    </tr>\n",
       "    <tr>\n",
       "      <th>...</th>\n",
       "      <td>...</td>\n",
       "      <td>...</td>\n",
       "      <td>...</td>\n",
       "      <td>...</td>\n",
       "      <td>...</td>\n",
       "      <td>...</td>\n",
       "      <td>...</td>\n",
       "      <td>...</td>\n",
       "      <td>...</td>\n",
       "      <td>...</td>\n",
       "      <td>...</td>\n",
       "      <td>...</td>\n",
       "      <td>...</td>\n",
       "    </tr>\n",
       "    <tr>\n",
       "      <th>413</th>\n",
       "      <td>1305</td>\n",
       "      <td>3</td>\n",
       "      <td>Spector, Mr. Woolf</td>\n",
       "      <td>male</td>\n",
       "      <td>NaN</td>\n",
       "      <td>0</td>\n",
       "      <td>0</td>\n",
       "      <td>A.5. 3236</td>\n",
       "      <td>8.0500</td>\n",
       "      <td>NaN</td>\n",
       "      <td>S</td>\n",
       "      <td>0.0</td>\n",
       "      <td>Mr</td>\n",
       "    </tr>\n",
       "    <tr>\n",
       "      <th>414</th>\n",
       "      <td>1306</td>\n",
       "      <td>1</td>\n",
       "      <td>Oliva y Ocana, Dona. Fermina</td>\n",
       "      <td>female</td>\n",
       "      <td>39.0</td>\n",
       "      <td>0</td>\n",
       "      <td>0</td>\n",
       "      <td>PC 17758</td>\n",
       "      <td>108.9000</td>\n",
       "      <td>C105</td>\n",
       "      <td>C</td>\n",
       "      <td>3.0</td>\n",
       "      <td>Dona</td>\n",
       "    </tr>\n",
       "    <tr>\n",
       "      <th>415</th>\n",
       "      <td>1307</td>\n",
       "      <td>3</td>\n",
       "      <td>Saether, Mr. Simon Sivertsen</td>\n",
       "      <td>male</td>\n",
       "      <td>38.5</td>\n",
       "      <td>0</td>\n",
       "      <td>0</td>\n",
       "      <td>SOTON/O.Q. 3101262</td>\n",
       "      <td>7.2500</td>\n",
       "      <td>NaN</td>\n",
       "      <td>S</td>\n",
       "      <td>0.0</td>\n",
       "      <td>Mr</td>\n",
       "    </tr>\n",
       "    <tr>\n",
       "      <th>416</th>\n",
       "      <td>1308</td>\n",
       "      <td>3</td>\n",
       "      <td>Ware, Mr. Frederick</td>\n",
       "      <td>male</td>\n",
       "      <td>NaN</td>\n",
       "      <td>0</td>\n",
       "      <td>0</td>\n",
       "      <td>359309</td>\n",
       "      <td>8.0500</td>\n",
       "      <td>NaN</td>\n",
       "      <td>S</td>\n",
       "      <td>0.0</td>\n",
       "      <td>Mr</td>\n",
       "    </tr>\n",
       "    <tr>\n",
       "      <th>417</th>\n",
       "      <td>1309</td>\n",
       "      <td>3</td>\n",
       "      <td>Peter, Master. Michael J</td>\n",
       "      <td>male</td>\n",
       "      <td>NaN</td>\n",
       "      <td>1</td>\n",
       "      <td>1</td>\n",
       "      <td>2668</td>\n",
       "      <td>22.3583</td>\n",
       "      <td>NaN</td>\n",
       "      <td>C</td>\n",
       "      <td>0.0</td>\n",
       "      <td>Master</td>\n",
       "    </tr>\n",
       "  </tbody>\n",
       "</table>\n",
       "<p>418 rows × 13 columns</p>\n",
       "</div>"
      ],
      "text/plain": [
       "     PassengerId  Pclass                                          Name  \\\n",
       "0            892       3                              Kelly, Mr. James   \n",
       "1            893       3              Wilkes, Mrs. James (Ellen Needs)   \n",
       "2            894       2                     Myles, Mr. Thomas Francis   \n",
       "3            895       3                              Wirz, Mr. Albert   \n",
       "4            896       3  Hirvonen, Mrs. Alexander (Helga E Lindqvist)   \n",
       "..           ...     ...                                           ...   \n",
       "413         1305       3                            Spector, Mr. Woolf   \n",
       "414         1306       1                  Oliva y Ocana, Dona. Fermina   \n",
       "415         1307       3                  Saether, Mr. Simon Sivertsen   \n",
       "416         1308       3                           Ware, Mr. Frederick   \n",
       "417         1309       3                      Peter, Master. Michael J   \n",
       "\n",
       "        Sex   Age  SibSp  Parch              Ticket      Fare Cabin Embarked  \\\n",
       "0      male  34.5      0      0              330911    7.8292   NaN        Q   \n",
       "1    female  47.0      1      0              363272    7.0000   NaN        S   \n",
       "2      male  62.0      0      0              240276    9.6875   NaN        Q   \n",
       "3      male  27.0      0      0              315154    8.6625   NaN        S   \n",
       "4    female  22.0      1      1             3101298   12.2875   NaN        S   \n",
       "..      ...   ...    ...    ...                 ...       ...   ...      ...   \n",
       "413    male   NaN      0      0           A.5. 3236    8.0500   NaN        S   \n",
       "414  female  39.0      0      0            PC 17758  108.9000  C105        C   \n",
       "415    male  38.5      0      0  SOTON/O.Q. 3101262    7.2500   NaN        S   \n",
       "416    male   NaN      0      0              359309    8.0500   NaN        S   \n",
       "417    male   NaN      1      1                2668   22.3583   NaN        C   \n",
       "\n",
       "     Cabin_type  Status  \n",
       "0           0.0      Mr  \n",
       "1           0.0     Mrs  \n",
       "2           0.0      Mr  \n",
       "3           0.0      Mr  \n",
       "4           0.0     Mrs  \n",
       "..          ...     ...  \n",
       "413         0.0      Mr  \n",
       "414         3.0    Dona  \n",
       "415         0.0      Mr  \n",
       "416         0.0      Mr  \n",
       "417         0.0  Master  \n",
       "\n",
       "[418 rows x 13 columns]"
      ]
     },
     "execution_count": 25,
     "metadata": {},
     "output_type": "execute_result"
    }
   ],
   "source": [
    "test"
   ]
  },
  {
   "cell_type": "code",
   "execution_count": 26,
   "id": "a030738d",
   "metadata": {
    "execution": {
     "iopub.execute_input": "2022-04-16T01:10:20.060044Z",
     "iopub.status.busy": "2022-04-16T01:10:20.059184Z",
     "iopub.status.idle": "2022-04-16T01:10:20.065731Z",
     "shell.execute_reply": "2022-04-16T01:10:20.065006Z"
    },
    "papermill": {
     "duration": 0.092988,
     "end_time": "2022-04-16T01:10:20.067516",
     "exception": false,
     "start_time": "2022-04-16T01:10:19.974528",
     "status": "completed"
    },
    "tags": []
   },
   "outputs": [
    {
     "data": {
      "text/plain": [
       "array(['Mr', 'Mrs', 'Miss', 'Master', 'Don', 'Rev', 'Dr', 'Mme', 'Ms',\n",
       "       'Major', 'Lady', 'Sir', 'Mlle', 'Col', 'Capt', 'Countess',\n",
       "       'Jonkheer'], dtype=object)"
      ]
     },
     "execution_count": 26,
     "metadata": {},
     "output_type": "execute_result"
    }
   ],
   "source": [
    "train.Status.unique()"
   ]
  },
  {
   "cell_type": "code",
   "execution_count": 27,
   "id": "f21dec70",
   "metadata": {
    "execution": {
     "iopub.execute_input": "2022-04-16T01:10:20.235107Z",
     "iopub.status.busy": "2022-04-16T01:10:20.234526Z",
     "iopub.status.idle": "2022-04-16T01:10:20.243587Z",
     "shell.execute_reply": "2022-04-16T01:10:20.243033Z"
    },
    "papermill": {
     "duration": 0.095807,
     "end_time": "2022-04-16T01:10:20.245582",
     "exception": false,
     "start_time": "2022-04-16T01:10:20.149775",
     "status": "completed"
    },
    "tags": []
   },
   "outputs": [],
   "source": [
    "train.Status = train.Status.replace ( ['Master', 'Don', 'Rev', 'Dr', 'Major', 'Lady', 'Sir', 'Col', 'Capt', 'Countess','Jonkheer'], 'important')\n",
    "test.Status = test.Status.replace ( ['Master', 'Don', 'Rev', 'Dr', 'Major', 'Lady', 'Sir', 'Col', 'Capt', 'Countess','Jonkheer'], 'important')"
   ]
  },
  {
   "cell_type": "code",
   "execution_count": 28,
   "id": "94683d4d",
   "metadata": {
    "execution": {
     "iopub.execute_input": "2022-04-16T01:10:20.414631Z",
     "iopub.status.busy": "2022-04-16T01:10:20.414077Z",
     "iopub.status.idle": "2022-04-16T01:10:20.438341Z",
     "shell.execute_reply": "2022-04-16T01:10:20.437516Z"
    },
    "papermill": {
     "duration": 0.112845,
     "end_time": "2022-04-16T01:10:20.440389",
     "exception": false,
     "start_time": "2022-04-16T01:10:20.327544",
     "status": "completed"
    },
    "tags": []
   },
   "outputs": [
    {
     "data": {
      "text/html": [
       "<div>\n",
       "<style scoped>\n",
       "    .dataframe tbody tr th:only-of-type {\n",
       "        vertical-align: middle;\n",
       "    }\n",
       "\n",
       "    .dataframe tbody tr th {\n",
       "        vertical-align: top;\n",
       "    }\n",
       "\n",
       "    .dataframe thead th {\n",
       "        text-align: right;\n",
       "    }\n",
       "</style>\n",
       "<table border=\"1\" class=\"dataframe\">\n",
       "  <thead>\n",
       "    <tr style=\"text-align: right;\">\n",
       "      <th></th>\n",
       "      <th>PassengerId</th>\n",
       "      <th>Survived</th>\n",
       "      <th>Pclass</th>\n",
       "      <th>Name</th>\n",
       "      <th>Sex</th>\n",
       "      <th>Age</th>\n",
       "      <th>SibSp</th>\n",
       "      <th>Parch</th>\n",
       "      <th>Ticket</th>\n",
       "      <th>Fare</th>\n",
       "      <th>Cabin</th>\n",
       "      <th>Embarked</th>\n",
       "      <th>Cabin_type</th>\n",
       "      <th>Status</th>\n",
       "    </tr>\n",
       "  </thead>\n",
       "  <tbody>\n",
       "    <tr>\n",
       "      <th>0</th>\n",
       "      <td>1</td>\n",
       "      <td>0</td>\n",
       "      <td>3</td>\n",
       "      <td>Braund, Mr. Owen Harris</td>\n",
       "      <td>male</td>\n",
       "      <td>22.0</td>\n",
       "      <td>1</td>\n",
       "      <td>0</td>\n",
       "      <td>A/5 21171</td>\n",
       "      <td>7.2500</td>\n",
       "      <td>NaN</td>\n",
       "      <td>S</td>\n",
       "      <td>0.0</td>\n",
       "      <td>Mr</td>\n",
       "    </tr>\n",
       "    <tr>\n",
       "      <th>1</th>\n",
       "      <td>2</td>\n",
       "      <td>1</td>\n",
       "      <td>1</td>\n",
       "      <td>Cumings, Mrs. John Bradley (Florence Briggs Th...</td>\n",
       "      <td>female</td>\n",
       "      <td>38.0</td>\n",
       "      <td>1</td>\n",
       "      <td>0</td>\n",
       "      <td>PC 17599</td>\n",
       "      <td>71.2833</td>\n",
       "      <td>C85</td>\n",
       "      <td>C</td>\n",
       "      <td>3.0</td>\n",
       "      <td>Mrs</td>\n",
       "    </tr>\n",
       "    <tr>\n",
       "      <th>2</th>\n",
       "      <td>3</td>\n",
       "      <td>1</td>\n",
       "      <td>3</td>\n",
       "      <td>Heikkinen, Miss. Laina</td>\n",
       "      <td>female</td>\n",
       "      <td>26.0</td>\n",
       "      <td>0</td>\n",
       "      <td>0</td>\n",
       "      <td>STON/O2. 3101282</td>\n",
       "      <td>7.9250</td>\n",
       "      <td>NaN</td>\n",
       "      <td>S</td>\n",
       "      <td>0.0</td>\n",
       "      <td>Miss</td>\n",
       "    </tr>\n",
       "    <tr>\n",
       "      <th>3</th>\n",
       "      <td>4</td>\n",
       "      <td>1</td>\n",
       "      <td>1</td>\n",
       "      <td>Futrelle, Mrs. Jacques Heath (Lily May Peel)</td>\n",
       "      <td>female</td>\n",
       "      <td>35.0</td>\n",
       "      <td>1</td>\n",
       "      <td>0</td>\n",
       "      <td>113803</td>\n",
       "      <td>53.1000</td>\n",
       "      <td>C123</td>\n",
       "      <td>S</td>\n",
       "      <td>3.0</td>\n",
       "      <td>Mrs</td>\n",
       "    </tr>\n",
       "    <tr>\n",
       "      <th>4</th>\n",
       "      <td>5</td>\n",
       "      <td>0</td>\n",
       "      <td>3</td>\n",
       "      <td>Allen, Mr. William Henry</td>\n",
       "      <td>male</td>\n",
       "      <td>35.0</td>\n",
       "      <td>0</td>\n",
       "      <td>0</td>\n",
       "      <td>373450</td>\n",
       "      <td>8.0500</td>\n",
       "      <td>NaN</td>\n",
       "      <td>S</td>\n",
       "      <td>0.0</td>\n",
       "      <td>Mr</td>\n",
       "    </tr>\n",
       "    <tr>\n",
       "      <th>...</th>\n",
       "      <td>...</td>\n",
       "      <td>...</td>\n",
       "      <td>...</td>\n",
       "      <td>...</td>\n",
       "      <td>...</td>\n",
       "      <td>...</td>\n",
       "      <td>...</td>\n",
       "      <td>...</td>\n",
       "      <td>...</td>\n",
       "      <td>...</td>\n",
       "      <td>...</td>\n",
       "      <td>...</td>\n",
       "      <td>...</td>\n",
       "      <td>...</td>\n",
       "    </tr>\n",
       "    <tr>\n",
       "      <th>886</th>\n",
       "      <td>887</td>\n",
       "      <td>0</td>\n",
       "      <td>2</td>\n",
       "      <td>Montvila, Rev. Juozas</td>\n",
       "      <td>male</td>\n",
       "      <td>27.0</td>\n",
       "      <td>0</td>\n",
       "      <td>0</td>\n",
       "      <td>211536</td>\n",
       "      <td>13.0000</td>\n",
       "      <td>NaN</td>\n",
       "      <td>S</td>\n",
       "      <td>0.0</td>\n",
       "      <td>important</td>\n",
       "    </tr>\n",
       "    <tr>\n",
       "      <th>887</th>\n",
       "      <td>888</td>\n",
       "      <td>1</td>\n",
       "      <td>1</td>\n",
       "      <td>Graham, Miss. Margaret Edith</td>\n",
       "      <td>female</td>\n",
       "      <td>19.0</td>\n",
       "      <td>0</td>\n",
       "      <td>0</td>\n",
       "      <td>112053</td>\n",
       "      <td>30.0000</td>\n",
       "      <td>B42</td>\n",
       "      <td>S</td>\n",
       "      <td>2.0</td>\n",
       "      <td>Miss</td>\n",
       "    </tr>\n",
       "    <tr>\n",
       "      <th>888</th>\n",
       "      <td>889</td>\n",
       "      <td>0</td>\n",
       "      <td>3</td>\n",
       "      <td>Johnston, Miss. Catherine Helen \"Carrie\"</td>\n",
       "      <td>female</td>\n",
       "      <td>NaN</td>\n",
       "      <td>1</td>\n",
       "      <td>2</td>\n",
       "      <td>W./C. 6607</td>\n",
       "      <td>23.4500</td>\n",
       "      <td>NaN</td>\n",
       "      <td>S</td>\n",
       "      <td>0.0</td>\n",
       "      <td>Miss</td>\n",
       "    </tr>\n",
       "    <tr>\n",
       "      <th>889</th>\n",
       "      <td>890</td>\n",
       "      <td>1</td>\n",
       "      <td>1</td>\n",
       "      <td>Behr, Mr. Karl Howell</td>\n",
       "      <td>male</td>\n",
       "      <td>26.0</td>\n",
       "      <td>0</td>\n",
       "      <td>0</td>\n",
       "      <td>111369</td>\n",
       "      <td>30.0000</td>\n",
       "      <td>C148</td>\n",
       "      <td>C</td>\n",
       "      <td>3.0</td>\n",
       "      <td>Mr</td>\n",
       "    </tr>\n",
       "    <tr>\n",
       "      <th>890</th>\n",
       "      <td>891</td>\n",
       "      <td>0</td>\n",
       "      <td>3</td>\n",
       "      <td>Dooley, Mr. Patrick</td>\n",
       "      <td>male</td>\n",
       "      <td>32.0</td>\n",
       "      <td>0</td>\n",
       "      <td>0</td>\n",
       "      <td>370376</td>\n",
       "      <td>7.7500</td>\n",
       "      <td>NaN</td>\n",
       "      <td>Q</td>\n",
       "      <td>0.0</td>\n",
       "      <td>Mr</td>\n",
       "    </tr>\n",
       "  </tbody>\n",
       "</table>\n",
       "<p>891 rows × 14 columns</p>\n",
       "</div>"
      ],
      "text/plain": [
       "     PassengerId  Survived  Pclass  \\\n",
       "0              1         0       3   \n",
       "1              2         1       1   \n",
       "2              3         1       3   \n",
       "3              4         1       1   \n",
       "4              5         0       3   \n",
       "..           ...       ...     ...   \n",
       "886          887         0       2   \n",
       "887          888         1       1   \n",
       "888          889         0       3   \n",
       "889          890         1       1   \n",
       "890          891         0       3   \n",
       "\n",
       "                                                  Name     Sex   Age  SibSp  \\\n",
       "0                              Braund, Mr. Owen Harris    male  22.0      1   \n",
       "1    Cumings, Mrs. John Bradley (Florence Briggs Th...  female  38.0      1   \n",
       "2                               Heikkinen, Miss. Laina  female  26.0      0   \n",
       "3         Futrelle, Mrs. Jacques Heath (Lily May Peel)  female  35.0      1   \n",
       "4                             Allen, Mr. William Henry    male  35.0      0   \n",
       "..                                                 ...     ...   ...    ...   \n",
       "886                              Montvila, Rev. Juozas    male  27.0      0   \n",
       "887                       Graham, Miss. Margaret Edith  female  19.0      0   \n",
       "888           Johnston, Miss. Catherine Helen \"Carrie\"  female   NaN      1   \n",
       "889                              Behr, Mr. Karl Howell    male  26.0      0   \n",
       "890                                Dooley, Mr. Patrick    male  32.0      0   \n",
       "\n",
       "     Parch            Ticket     Fare Cabin Embarked  Cabin_type     Status  \n",
       "0        0         A/5 21171   7.2500   NaN        S         0.0         Mr  \n",
       "1        0          PC 17599  71.2833   C85        C         3.0        Mrs  \n",
       "2        0  STON/O2. 3101282   7.9250   NaN        S         0.0       Miss  \n",
       "3        0            113803  53.1000  C123        S         3.0        Mrs  \n",
       "4        0            373450   8.0500   NaN        S         0.0         Mr  \n",
       "..     ...               ...      ...   ...      ...         ...        ...  \n",
       "886      0            211536  13.0000   NaN        S         0.0  important  \n",
       "887      0            112053  30.0000   B42        S         2.0       Miss  \n",
       "888      2        W./C. 6607  23.4500   NaN        S         0.0       Miss  \n",
       "889      0            111369  30.0000  C148        C         3.0         Mr  \n",
       "890      0            370376   7.7500   NaN        Q         0.0         Mr  \n",
       "\n",
       "[891 rows x 14 columns]"
      ]
     },
     "execution_count": 28,
     "metadata": {},
     "output_type": "execute_result"
    }
   ],
   "source": [
    "train"
   ]
  },
  {
   "cell_type": "code",
   "execution_count": 29,
   "id": "f33270c7",
   "metadata": {
    "execution": {
     "iopub.execute_input": "2022-04-16T01:10:20.610756Z",
     "iopub.status.busy": "2022-04-16T01:10:20.610209Z",
     "iopub.status.idle": "2022-04-16T01:10:20.620205Z",
     "shell.execute_reply": "2022-04-16T01:10:20.619628Z"
    },
    "papermill": {
     "duration": 0.098336,
     "end_time": "2022-04-16T01:10:20.622221",
     "exception": false,
     "start_time": "2022-04-16T01:10:20.523885",
     "status": "completed"
    },
    "tags": []
   },
   "outputs": [],
   "source": [
    "train.Status = train.Status.replace ( ['Mlle', 'Ms', 'Miss', 'Mme' ], 'Miss')\n",
    "train.Status = train.Status.replace ( ['Mr', 'Mrs' ], 'Mrs')\n",
    "test.Status = test.Status.replace ( ['Mlle', 'Ms', 'Miss', 'Mme' ], 'Miss')\n",
    "test.Status = test.Status.replace ( ['Mr', 'Mrs' ], 'Mrs')"
   ]
  },
  {
   "cell_type": "code",
   "execution_count": 30,
   "id": "e2b55750",
   "metadata": {
    "execution": {
     "iopub.execute_input": "2022-04-16T01:10:20.793724Z",
     "iopub.status.busy": "2022-04-16T01:10:20.793230Z",
     "iopub.status.idle": "2022-04-16T01:10:20.799529Z",
     "shell.execute_reply": "2022-04-16T01:10:20.798720Z"
    },
    "papermill": {
     "duration": 0.094734,
     "end_time": "2022-04-16T01:10:20.801346",
     "exception": false,
     "start_time": "2022-04-16T01:10:20.706612",
     "status": "completed"
    },
    "tags": []
   },
   "outputs": [
    {
     "data": {
      "text/plain": [
       "array(['Mrs', 'Miss', 'important'], dtype=object)"
      ]
     },
     "execution_count": 30,
     "metadata": {},
     "output_type": "execute_result"
    }
   ],
   "source": [
    "train.Status.unique()"
   ]
  },
  {
   "cell_type": "code",
   "execution_count": 31,
   "id": "d60af19f",
   "metadata": {
    "execution": {
     "iopub.execute_input": "2022-04-16T01:10:20.972606Z",
     "iopub.status.busy": "2022-04-16T01:10:20.972298Z",
     "iopub.status.idle": "2022-04-16T01:10:21.200705Z",
     "shell.execute_reply": "2022-04-16T01:10:21.199809Z"
    },
    "papermill": {
     "duration": 0.31783,
     "end_time": "2022-04-16T01:10:21.203026",
     "exception": false,
     "start_time": "2022-04-16T01:10:20.885196",
     "status": "completed"
    },
    "tags": []
   },
   "outputs": [
    {
     "data": {
      "image/png": "[encoded data removed]",
      "text/plain": [
       "<Figure size 1080x720 with 1 Axes>"
      ]
     },
     "metadata": {
      "needs_background": "light"
     },
     "output_type": "display_data"
    }
   ],
   "source": [
    "bar(train,'Status')"
   ]
  },
  {
   "cell_type": "code",
   "execution_count": 32,
   "id": "e731ba11",
   "metadata": {
    "execution": {
     "iopub.execute_input": "2022-04-16T01:10:21.376720Z",
     "iopub.status.busy": "2022-04-16T01:10:21.376306Z",
     "iopub.status.idle": "2022-04-16T01:10:21.383527Z",
     "shell.execute_reply": "2022-04-16T01:10:21.382960Z"
    },
    "papermill": {
     "duration": 0.096346,
     "end_time": "2022-04-16T01:10:21.385432",
     "exception": false,
     "start_time": "2022-04-16T01:10:21.289086",
     "status": "completed"
    },
    "tags": []
   },
   "outputs": [],
   "source": [
    "train['Status'] = train['Status'].map({'Mrs':1,'Miss':2,'important':3})\n",
    "test['Status'] = test['Status'].map({'Mrs':1,'Miss':2,'important':3})"
   ]
  },
  {
   "cell_type": "code",
   "execution_count": 33,
   "id": "fcf06be1",
   "metadata": {
    "execution": {
     "iopub.execute_input": "2022-04-16T01:10:21.557029Z",
     "iopub.status.busy": "2022-04-16T01:10:21.556464Z",
     "iopub.status.idle": "2022-04-16T01:10:21.569094Z",
     "shell.execute_reply": "2022-04-16T01:10:21.568142Z"
    },
    "papermill": {
     "duration": 0.101923,
     "end_time": "2022-04-16T01:10:21.572137",
     "exception": false,
     "start_time": "2022-04-16T01:10:21.470214",
     "status": "completed"
    },
    "tags": []
   },
   "outputs": [
    {
     "name": "stdout",
     "output_type": "stream",
     "text": [
      "<class 'pandas.core.frame.DataFrame'>\n",
      "RangeIndex: 891 entries, 0 to 890\n",
      "Data columns (total 14 columns):\n",
      " #   Column       Non-Null Count  Dtype  \n",
      "---  ------       --------------  -----  \n",
      " 0   PassengerId  891 non-null    int64  \n",
      " 1   Survived     891 non-null    int64  \n",
      " 2   Pclass       891 non-null    int64  \n",
      " 3   Name         891 non-null    object \n",
      " 4   Sex          891 non-null    object \n",
      " 5   Age          714 non-null    float64\n",
      " 6   SibSp        891 non-null    int64  \n",
      " 7   Parch        891 non-null    int64  \n",
      " 8   Ticket       891 non-null    object \n",
      " 9   Fare         891 non-null    float64\n",
      " 10  Cabin        204 non-null    object \n",
      " 11  Embarked     889 non-null    object \n",
      " 12  Cabin_type   891 non-null    float64\n",
      " 13  Status       891 non-null    int64  \n",
      "dtypes: float64(3), int64(6), object(5)\n",
      "memory usage: 97.6+ KB\n"
     ]
    }
   ],
   "source": [
    "train.info()"
   ]
  },
  {
   "cell_type": "markdown",
   "id": "4b27882d",
   "metadata": {
    "papermill": {
     "duration": 0.084623,
     "end_time": "2022-04-16T01:10:21.743949",
     "exception": false,
     "start_time": "2022-04-16T01:10:21.659326",
     "status": "completed"
    },
    "tags": []
   },
   "source": [
    "## Sex feature"
   ]
  },
  {
   "cell_type": "code",
   "execution_count": 34,
   "id": "294687fd",
   "metadata": {
    "execution": {
     "iopub.execute_input": "2022-04-16T01:10:21.939312Z",
     "iopub.status.busy": "2022-04-16T01:10:21.939045Z",
     "iopub.status.idle": "2022-04-16T01:10:21.946587Z",
     "shell.execute_reply": "2022-04-16T01:10:21.946005Z"
    },
    "papermill": {
     "duration": 0.111869,
     "end_time": "2022-04-16T01:10:21.948896",
     "exception": false,
     "start_time": "2022-04-16T01:10:21.837027",
     "status": "completed"
    },
    "tags": []
   },
   "outputs": [],
   "source": [
    "train['Sex'] = train['Sex'].map({'male':0,'female':1 })\n",
    "test['Sex'] = test['Sex'].map({'male':0,'female':1 })"
   ]
  },
  {
   "cell_type": "code",
   "execution_count": 35,
   "id": "e72bbb16",
   "metadata": {
    "execution": {
     "iopub.execute_input": "2022-04-16T01:10:22.137224Z",
     "iopub.status.busy": "2022-04-16T01:10:22.136851Z",
     "iopub.status.idle": "2022-04-16T01:10:22.168417Z",
     "shell.execute_reply": "2022-04-16T01:10:22.167636Z"
    },
    "papermill": {
     "duration": 0.128337,
     "end_time": "2022-04-16T01:10:22.170810",
     "exception": false,
     "start_time": "2022-04-16T01:10:22.042473",
     "status": "completed"
    },
    "scrolled": true,
    "tags": []
   },
   "outputs": [
    {
     "data": {
      "text/html": [
       "<div>\n",
       "<style scoped>\n",
       "    .dataframe tbody tr th:only-of-type {\n",
       "        vertical-align: middle;\n",
       "    }\n",
       "\n",
       "    .dataframe tbody tr th {\n",
       "        vertical-align: top;\n",
       "    }\n",
       "\n",
       "    .dataframe thead th {\n",
       "        text-align: right;\n",
       "    }\n",
       "</style>\n",
       "<table border=\"1\" class=\"dataframe\">\n",
       "  <thead>\n",
       "    <tr style=\"text-align: right;\">\n",
       "      <th></th>\n",
       "      <th>PassengerId</th>\n",
       "      <th>Survived</th>\n",
       "      <th>Pclass</th>\n",
       "      <th>Name</th>\n",
       "      <th>Sex</th>\n",
       "      <th>Age</th>\n",
       "      <th>SibSp</th>\n",
       "      <th>Parch</th>\n",
       "      <th>Ticket</th>\n",
       "      <th>Fare</th>\n",
       "      <th>Cabin</th>\n",
       "      <th>Embarked</th>\n",
       "      <th>Cabin_type</th>\n",
       "      <th>Status</th>\n",
       "    </tr>\n",
       "  </thead>\n",
       "  <tbody>\n",
       "    <tr>\n",
       "      <th>0</th>\n",
       "      <td>1</td>\n",
       "      <td>0</td>\n",
       "      <td>3</td>\n",
       "      <td>Braund, Mr. Owen Harris</td>\n",
       "      <td>0</td>\n",
       "      <td>22.0</td>\n",
       "      <td>1</td>\n",
       "      <td>0</td>\n",
       "      <td>A/5 21171</td>\n",
       "      <td>7.2500</td>\n",
       "      <td>NaN</td>\n",
       "      <td>S</td>\n",
       "      <td>0.0</td>\n",
       "      <td>1</td>\n",
       "    </tr>\n",
       "    <tr>\n",
       "      <th>1</th>\n",
       "      <td>2</td>\n",
       "      <td>1</td>\n",
       "      <td>1</td>\n",
       "      <td>Cumings, Mrs. John Bradley (Florence Briggs Th...</td>\n",
       "      <td>1</td>\n",
       "      <td>38.0</td>\n",
       "      <td>1</td>\n",
       "      <td>0</td>\n",
       "      <td>PC 17599</td>\n",
       "      <td>71.2833</td>\n",
       "      <td>C85</td>\n",
       "      <td>C</td>\n",
       "      <td>3.0</td>\n",
       "      <td>1</td>\n",
       "    </tr>\n",
       "    <tr>\n",
       "      <th>2</th>\n",
       "      <td>3</td>\n",
       "      <td>1</td>\n",
       "      <td>3</td>\n",
       "      <td>Heikkinen, Miss. Laina</td>\n",
       "      <td>1</td>\n",
       "      <td>26.0</td>\n",
       "      <td>0</td>\n",
       "      <td>0</td>\n",
       "      <td>STON/O2. 3101282</td>\n",
       "      <td>7.9250</td>\n",
       "      <td>NaN</td>\n",
       "      <td>S</td>\n",
       "      <td>0.0</td>\n",
       "      <td>2</td>\n",
       "    </tr>\n",
       "    <tr>\n",
       "      <th>3</th>\n",
       "      <td>4</td>\n",
       "      <td>1</td>\n",
       "      <td>1</td>\n",
       "      <td>Futrelle, Mrs. Jacques Heath (Lily May Peel)</td>\n",
       "      <td>1</td>\n",
       "      <td>35.0</td>\n",
       "      <td>1</td>\n",
       "      <td>0</td>\n",
       "      <td>113803</td>\n",
       "      <td>53.1000</td>\n",
       "      <td>C123</td>\n",
       "      <td>S</td>\n",
       "      <td>3.0</td>\n",
       "      <td>1</td>\n",
       "    </tr>\n",
       "    <tr>\n",
       "      <th>4</th>\n",
       "      <td>5</td>\n",
       "      <td>0</td>\n",
       "      <td>3</td>\n",
       "      <td>Allen, Mr. William Henry</td>\n",
       "      <td>0</td>\n",
       "      <td>35.0</td>\n",
       "      <td>0</td>\n",
       "      <td>0</td>\n",
       "      <td>373450</td>\n",
       "      <td>8.0500</td>\n",
       "      <td>NaN</td>\n",
       "      <td>S</td>\n",
       "      <td>0.0</td>\n",
       "      <td>1</td>\n",
       "    </tr>\n",
       "    <tr>\n",
       "      <th>...</th>\n",
       "      <td>...</td>\n",
       "      <td>...</td>\n",
       "      <td>...</td>\n",
       "      <td>...</td>\n",
       "      <td>...</td>\n",
       "      <td>...</td>\n",
       "      <td>...</td>\n",
       "      <td>...</td>\n",
       "      <td>...</td>\n",
       "      <td>...</td>\n",
       "      <td>...</td>\n",
       "      <td>...</td>\n",
       "      <td>...</td>\n",
       "      <td>...</td>\n",
       "    </tr>\n",
       "    <tr>\n",
       "      <th>886</th>\n",
       "      <td>887</td>\n",
       "      <td>0</td>\n",
       "      <td>2</td>\n",
       "      <td>Montvila, Rev. Juozas</td>\n",
       "      <td>0</td>\n",
       "      <td>27.0</td>\n",
       "      <td>0</td>\n",
       "      <td>0</td>\n",
       "      <td>211536</td>\n",
       "      <td>13.0000</td>\n",
       "      <td>NaN</td>\n",
       "      <td>S</td>\n",
       "      <td>0.0</td>\n",
       "      <td>3</td>\n",
       "    </tr>\n",
       "    <tr>\n",
       "      <th>887</th>\n",
       "      <td>888</td>\n",
       "      <td>1</td>\n",
       "      <td>1</td>\n",
       "      <td>Graham, Miss. Margaret Edith</td>\n",
       "      <td>1</td>\n",
       "      <td>19.0</td>\n",
       "      <td>0</td>\n",
       "      <td>0</td>\n",
       "      <td>112053</td>\n",
       "      <td>30.0000</td>\n",
       "      <td>B42</td>\n",
       "      <td>S</td>\n",
       "      <td>2.0</td>\n",
       "      <td>2</td>\n",
       "    </tr>\n",
       "    <tr>\n",
       "      <th>888</th>\n",
       "      <td>889</td>\n",
       "      <td>0</td>\n",
       "      <td>3</td>\n",
       "      <td>Johnston, Miss. Catherine Helen \"Carrie\"</td>\n",
       "      <td>1</td>\n",
       "      <td>NaN</td>\n",
       "      <td>1</td>\n",
       "      <td>2</td>\n",
       "      <td>W./C. 6607</td>\n",
       "      <td>23.4500</td>\n",
       "      <td>NaN</td>\n",
       "      <td>S</td>\n",
       "      <td>0.0</td>\n",
       "      <td>2</td>\n",
       "    </tr>\n",
       "    <tr>\n",
       "      <th>889</th>\n",
       "      <td>890</td>\n",
       "      <td>1</td>\n",
       "      <td>1</td>\n",
       "      <td>Behr, Mr. Karl Howell</td>\n",
       "      <td>0</td>\n",
       "      <td>26.0</td>\n",
       "      <td>0</td>\n",
       "      <td>0</td>\n",
       "      <td>111369</td>\n",
       "      <td>30.0000</td>\n",
       "      <td>C148</td>\n",
       "      <td>C</td>\n",
       "      <td>3.0</td>\n",
       "      <td>1</td>\n",
       "    </tr>\n",
       "    <tr>\n",
       "      <th>890</th>\n",
       "      <td>891</td>\n",
       "      <td>0</td>\n",
       "      <td>3</td>\n",
       "      <td>Dooley, Mr. Patrick</td>\n",
       "      <td>0</td>\n",
       "      <td>32.0</td>\n",
       "      <td>0</td>\n",
       "      <td>0</td>\n",
       "      <td>370376</td>\n",
       "      <td>7.7500</td>\n",
       "      <td>NaN</td>\n",
       "      <td>Q</td>\n",
       "      <td>0.0</td>\n",
       "      <td>1</td>\n",
       "    </tr>\n",
       "  </tbody>\n",
       "</table>\n",
       "<p>891 rows × 14 columns</p>\n",
       "</div>"
      ],
      "text/plain": [
       "     PassengerId  Survived  Pclass  \\\n",
       "0              1         0       3   \n",
       "1              2         1       1   \n",
       "2              3         1       3   \n",
       "3              4         1       1   \n",
       "4              5         0       3   \n",
       "..           ...       ...     ...   \n",
       "886          887         0       2   \n",
       "887          888         1       1   \n",
       "888          889         0       3   \n",
       "889          890         1       1   \n",
       "890          891         0       3   \n",
       "\n",
       "                                                  Name  Sex   Age  SibSp  \\\n",
       "0                              Braund, Mr. Owen Harris    0  22.0      1   \n",
       "1    Cumings, Mrs. John Bradley (Florence Briggs Th...    1  38.0      1   \n",
       "2                               Heikkinen, Miss. Laina    1  26.0      0   \n",
       "3         Futrelle, Mrs. Jacques Heath (Lily May Peel)    1  35.0      1   \n",
       "4                             Allen, Mr. William Henry    0  35.0      0   \n",
       "..                                                 ...  ...   ...    ...   \n",
       "886                              Montvila, Rev. Juozas    0  27.0      0   \n",
       "887                       Graham, Miss. Margaret Edith    1  19.0      0   \n",
       "888           Johnston, Miss. Catherine Helen \"Carrie\"    1   NaN      1   \n",
       "889                              Behr, Mr. Karl Howell    0  26.0      0   \n",
       "890                                Dooley, Mr. Patrick    0  32.0      0   \n",
       "\n",
       "     Parch            Ticket     Fare Cabin Embarked  Cabin_type  Status  \n",
       "0        0         A/5 21171   7.2500   NaN        S         0.0       1  \n",
       "1        0          PC 17599  71.2833   C85        C         3.0       1  \n",
       "2        0  STON/O2. 3101282   7.9250   NaN        S         0.0       2  \n",
       "3        0            113803  53.1000  C123        S         3.0       1  \n",
       "4        0            373450   8.0500   NaN        S         0.0       1  \n",
       "..     ...               ...      ...   ...      ...         ...     ...  \n",
       "886      0            211536  13.0000   NaN        S         0.0       3  \n",
       "887      0            112053  30.0000   B42        S         2.0       2  \n",
       "888      2        W./C. 6607  23.4500   NaN        S         0.0       2  \n",
       "889      0            111369  30.0000  C148        C         3.0       1  \n",
       "890      0            370376   7.7500   NaN        Q         0.0       1  \n",
       "\n",
       "[891 rows x 14 columns]"
      ]
     },
     "execution_count": 35,
     "metadata": {},
     "output_type": "execute_result"
    }
   ],
   "source": [
    "train"
   ]
  },
  {
   "cell_type": "markdown",
   "id": "ae1ef4d6",
   "metadata": {
    "papermill": {
     "duration": 0.087587,
     "end_time": "2022-04-16T01:10:22.348784",
     "exception": false,
     "start_time": "2022-04-16T01:10:22.261197",
     "status": "completed"
    },
    "tags": []
   },
   "source": [
    "## Family feature"
   ]
  },
  {
   "cell_type": "code",
   "execution_count": 36,
   "id": "ca1f2482",
   "metadata": {
    "execution": {
     "iopub.execute_input": "2022-04-16T01:10:22.526623Z",
     "iopub.status.busy": "2022-04-16T01:10:22.526001Z",
     "iopub.status.idle": "2022-04-16T01:10:22.534299Z",
     "shell.execute_reply": "2022-04-16T01:10:22.533455Z"
    },
    "papermill": {
     "duration": 0.09947,
     "end_time": "2022-04-16T01:10:22.536203",
     "exception": false,
     "start_time": "2022-04-16T01:10:22.436733",
     "status": "completed"
    },
    "tags": []
   },
   "outputs": [],
   "source": [
    "train['family_size'] =  train['SibSp'] + train['Parch'] + 1\n",
    "test['family_size'] =  test['SibSp'] + test['Parch'] + 1"
   ]
  },
  {
   "cell_type": "code",
   "execution_count": 37,
   "id": "aee6f569",
   "metadata": {
    "execution": {
     "iopub.execute_input": "2022-04-16T01:10:22.715362Z",
     "iopub.status.busy": "2022-04-16T01:10:22.714458Z",
     "iopub.status.idle": "2022-04-16T01:10:22.738317Z",
     "shell.execute_reply": "2022-04-16T01:10:22.737728Z"
    },
    "papermill": {
     "duration": 0.11634,
     "end_time": "2022-04-16T01:10:22.740164",
     "exception": false,
     "start_time": "2022-04-16T01:10:22.623824",
     "status": "completed"
    },
    "tags": []
   },
   "outputs": [
    {
     "data": {
      "text/html": [
       "<div>\n",
       "<style scoped>\n",
       "    .dataframe tbody tr th:only-of-type {\n",
       "        vertical-align: middle;\n",
       "    }\n",
       "\n",
       "    .dataframe tbody tr th {\n",
       "        vertical-align: top;\n",
       "    }\n",
       "\n",
       "    .dataframe thead th {\n",
       "        text-align: right;\n",
       "    }\n",
       "</style>\n",
       "<table border=\"1\" class=\"dataframe\">\n",
       "  <thead>\n",
       "    <tr style=\"text-align: right;\">\n",
       "      <th></th>\n",
       "      <th>PassengerId</th>\n",
       "      <th>Survived</th>\n",
       "      <th>Pclass</th>\n",
       "      <th>Name</th>\n",
       "      <th>Sex</th>\n",
       "      <th>Age</th>\n",
       "      <th>SibSp</th>\n",
       "      <th>Parch</th>\n",
       "      <th>Ticket</th>\n",
       "      <th>Fare</th>\n",
       "      <th>Cabin</th>\n",
       "      <th>Embarked</th>\n",
       "      <th>Cabin_type</th>\n",
       "      <th>Status</th>\n",
       "      <th>family_size</th>\n",
       "    </tr>\n",
       "  </thead>\n",
       "  <tbody>\n",
       "    <tr>\n",
       "      <th>0</th>\n",
       "      <td>1</td>\n",
       "      <td>0</td>\n",
       "      <td>3</td>\n",
       "      <td>Braund, Mr. Owen Harris</td>\n",
       "      <td>0</td>\n",
       "      <td>22.0</td>\n",
       "      <td>1</td>\n",
       "      <td>0</td>\n",
       "      <td>A/5 21171</td>\n",
       "      <td>7.2500</td>\n",
       "      <td>NaN</td>\n",
       "      <td>S</td>\n",
       "      <td>0.0</td>\n",
       "      <td>1</td>\n",
       "      <td>2</td>\n",
       "    </tr>\n",
       "    <tr>\n",
       "      <th>1</th>\n",
       "      <td>2</td>\n",
       "      <td>1</td>\n",
       "      <td>1</td>\n",
       "      <td>Cumings, Mrs. John Bradley (Florence Briggs Th...</td>\n",
       "      <td>1</td>\n",
       "      <td>38.0</td>\n",
       "      <td>1</td>\n",
       "      <td>0</td>\n",
       "      <td>PC 17599</td>\n",
       "      <td>71.2833</td>\n",
       "      <td>C85</td>\n",
       "      <td>C</td>\n",
       "      <td>3.0</td>\n",
       "      <td>1</td>\n",
       "      <td>2</td>\n",
       "    </tr>\n",
       "    <tr>\n",
       "      <th>2</th>\n",
       "      <td>3</td>\n",
       "      <td>1</td>\n",
       "      <td>3</td>\n",
       "      <td>Heikkinen, Miss. Laina</td>\n",
       "      <td>1</td>\n",
       "      <td>26.0</td>\n",
       "      <td>0</td>\n",
       "      <td>0</td>\n",
       "      <td>STON/O2. 3101282</td>\n",
       "      <td>7.9250</td>\n",
       "      <td>NaN</td>\n",
       "      <td>S</td>\n",
       "      <td>0.0</td>\n",
       "      <td>2</td>\n",
       "      <td>1</td>\n",
       "    </tr>\n",
       "    <tr>\n",
       "      <th>3</th>\n",
       "      <td>4</td>\n",
       "      <td>1</td>\n",
       "      <td>1</td>\n",
       "      <td>Futrelle, Mrs. Jacques Heath (Lily May Peel)</td>\n",
       "      <td>1</td>\n",
       "      <td>35.0</td>\n",
       "      <td>1</td>\n",
       "      <td>0</td>\n",
       "      <td>113803</td>\n",
       "      <td>53.1000</td>\n",
       "      <td>C123</td>\n",
       "      <td>S</td>\n",
       "      <td>3.0</td>\n",
       "      <td>1</td>\n",
       "      <td>2</td>\n",
       "    </tr>\n",
       "    <tr>\n",
       "      <th>4</th>\n",
       "      <td>5</td>\n",
       "      <td>0</td>\n",
       "      <td>3</td>\n",
       "      <td>Allen, Mr. William Henry</td>\n",
       "      <td>0</td>\n",
       "      <td>35.0</td>\n",
       "      <td>0</td>\n",
       "      <td>0</td>\n",
       "      <td>373450</td>\n",
       "      <td>8.0500</td>\n",
       "      <td>NaN</td>\n",
       "      <td>S</td>\n",
       "      <td>0.0</td>\n",
       "      <td>1</td>\n",
       "      <td>1</td>\n",
       "    </tr>\n",
       "    <tr>\n",
       "      <th>...</th>\n",
       "      <td>...</td>\n",
       "      <td>...</td>\n",
       "      <td>...</td>\n",
       "      <td>...</td>\n",
       "      <td>...</td>\n",
       "      <td>...</td>\n",
       "      <td>...</td>\n",
       "      <td>...</td>\n",
       "      <td>...</td>\n",
       "      <td>...</td>\n",
       "      <td>...</td>\n",
       "      <td>...</td>\n",
       "      <td>...</td>\n",
       "      <td>...</td>\n",
       "      <td>...</td>\n",
       "    </tr>\n",
       "    <tr>\n",
       "      <th>886</th>\n",
       "      <td>887</td>\n",
       "      <td>0</td>\n",
       "      <td>2</td>\n",
       "      <td>Montvila, Rev. Juozas</td>\n",
       "      <td>0</td>\n",
       "      <td>27.0</td>\n",
       "      <td>0</td>\n",
       "      <td>0</td>\n",
       "      <td>211536</td>\n",
       "      <td>13.0000</td>\n",
       "      <td>NaN</td>\n",
       "      <td>S</td>\n",
       "      <td>0.0</td>\n",
       "      <td>3</td>\n",
       "      <td>1</td>\n",
       "    </tr>\n",
       "    <tr>\n",
       "      <th>887</th>\n",
       "      <td>888</td>\n",
       "      <td>1</td>\n",
       "      <td>1</td>\n",
       "      <td>Graham, Miss. Margaret Edith</td>\n",
       "      <td>1</td>\n",
       "      <td>19.0</td>\n",
       "      <td>0</td>\n",
       "      <td>0</td>\n",
       "      <td>112053</td>\n",
       "      <td>30.0000</td>\n",
       "      <td>B42</td>\n",
       "      <td>S</td>\n",
       "      <td>2.0</td>\n",
       "      <td>2</td>\n",
       "      <td>1</td>\n",
       "    </tr>\n",
       "    <tr>\n",
       "      <th>888</th>\n",
       "      <td>889</td>\n",
       "      <td>0</td>\n",
       "      <td>3</td>\n",
       "      <td>Johnston, Miss. Catherine Helen \"Carrie\"</td>\n",
       "      <td>1</td>\n",
       "      <td>NaN</td>\n",
       "      <td>1</td>\n",
       "      <td>2</td>\n",
       "      <td>W./C. 6607</td>\n",
       "      <td>23.4500</td>\n",
       "      <td>NaN</td>\n",
       "      <td>S</td>\n",
       "      <td>0.0</td>\n",
       "      <td>2</td>\n",
       "      <td>4</td>\n",
       "    </tr>\n",
       "    <tr>\n",
       "      <th>889</th>\n",
       "      <td>890</td>\n",
       "      <td>1</td>\n",
       "      <td>1</td>\n",
       "      <td>Behr, Mr. Karl Howell</td>\n",
       "      <td>0</td>\n",
       "      <td>26.0</td>\n",
       "      <td>0</td>\n",
       "      <td>0</td>\n",
       "      <td>111369</td>\n",
       "      <td>30.0000</td>\n",
       "      <td>C148</td>\n",
       "      <td>C</td>\n",
       "      <td>3.0</td>\n",
       "      <td>1</td>\n",
       "      <td>1</td>\n",
       "    </tr>\n",
       "    <tr>\n",
       "      <th>890</th>\n",
       "      <td>891</td>\n",
       "      <td>0</td>\n",
       "      <td>3</td>\n",
       "      <td>Dooley, Mr. Patrick</td>\n",
       "      <td>0</td>\n",
       "      <td>32.0</td>\n",
       "      <td>0</td>\n",
       "      <td>0</td>\n",
       "      <td>370376</td>\n",
       "      <td>7.7500</td>\n",
       "      <td>NaN</td>\n",
       "      <td>Q</td>\n",
       "      <td>0.0</td>\n",
       "      <td>1</td>\n",
       "      <td>1</td>\n",
       "    </tr>\n",
       "  </tbody>\n",
       "</table>\n",
       "<p>891 rows × 15 columns</p>\n",
       "</div>"
      ],
      "text/plain": [
       "     PassengerId  Survived  Pclass  \\\n",
       "0              1         0       3   \n",
       "1              2         1       1   \n",
       "2              3         1       3   \n",
       "3              4         1       1   \n",
       "4              5         0       3   \n",
       "..           ...       ...     ...   \n",
       "886          887         0       2   \n",
       "887          888         1       1   \n",
       "888          889         0       3   \n",
       "889          890         1       1   \n",
       "890          891         0       3   \n",
       "\n",
       "                                                  Name  Sex   Age  SibSp  \\\n",
       "0                              Braund, Mr. Owen Harris    0  22.0      1   \n",
       "1    Cumings, Mrs. John Bradley (Florence Briggs Th...    1  38.0      1   \n",
       "2                               Heikkinen, Miss. Laina    1  26.0      0   \n",
       "3         Futrelle, Mrs. Jacques Heath (Lily May Peel)    1  35.0      1   \n",
       "4                             Allen, Mr. William Henry    0  35.0      0   \n",
       "..                                                 ...  ...   ...    ...   \n",
       "886                              Montvila, Rev. Juozas    0  27.0      0   \n",
       "887                       Graham, Miss. Margaret Edith    1  19.0      0   \n",
       "888           Johnston, Miss. Catherine Helen \"Carrie\"    1   NaN      1   \n",
       "889                              Behr, Mr. Karl Howell    0  26.0      0   \n",
       "890                                Dooley, Mr. Patrick    0  32.0      0   \n",
       "\n",
       "     Parch            Ticket     Fare Cabin Embarked  Cabin_type  Status  \\\n",
       "0        0         A/5 21171   7.2500   NaN        S         0.0       1   \n",
       "1        0          PC 17599  71.2833   C85        C         3.0       1   \n",
       "2        0  STON/O2. 3101282   7.9250   NaN        S         0.0       2   \n",
       "3        0            113803  53.1000  C123        S         3.0       1   \n",
       "4        0            373450   8.0500   NaN        S         0.0       1   \n",
       "..     ...               ...      ...   ...      ...         ...     ...   \n",
       "886      0            211536  13.0000   NaN        S         0.0       3   \n",
       "887      0            112053  30.0000   B42        S         2.0       2   \n",
       "888      2        W./C. 6607  23.4500   NaN        S         0.0       2   \n",
       "889      0            111369  30.0000  C148        C         3.0       1   \n",
       "890      0            370376   7.7500   NaN        Q         0.0       1   \n",
       "\n",
       "     family_size  \n",
       "0              2  \n",
       "1              2  \n",
       "2              1  \n",
       "3              2  \n",
       "4              1  \n",
       "..           ...  \n",
       "886            1  \n",
       "887            1  \n",
       "888            4  \n",
       "889            1  \n",
       "890            1  \n",
       "\n",
       "[891 rows x 15 columns]"
      ]
     },
     "execution_count": 37,
     "metadata": {},
     "output_type": "execute_result"
    }
   ],
   "source": [
    "train"
   ]
  },
  {
   "cell_type": "code",
   "execution_count": 38,
   "id": "7c92d35a",
   "metadata": {
    "execution": {
     "iopub.execute_input": "2022-04-16T01:10:22.920241Z",
     "iopub.status.busy": "2022-04-16T01:10:22.919720Z",
     "iopub.status.idle": "2022-04-16T01:10:23.207045Z",
     "shell.execute_reply": "2022-04-16T01:10:23.206483Z"
    },
    "papermill": {
     "duration": 0.37981,
     "end_time": "2022-04-16T01:10:23.208866",
     "exception": false,
     "start_time": "2022-04-16T01:10:22.829056",
     "status": "completed"
    },
    "tags": []
   },
   "outputs": [
    {
     "data": {
      "image/png": "[encoded data removed]",
      "text/plain": [
       "<Figure size 1080x720 with 1 Axes>"
      ]
     },
     "metadata": {
      "needs_background": "light"
     },
     "output_type": "display_data"
    }
   ],
   "source": [
    "bar(train, 'family_size')"
   ]
  },
  {
   "cell_type": "code",
   "execution_count": 39,
   "id": "4e936407",
   "metadata": {
    "execution": {
     "iopub.execute_input": "2022-04-16T01:10:23.389061Z",
     "iopub.status.busy": "2022-04-16T01:10:23.388614Z",
     "iopub.status.idle": "2022-04-16T01:10:23.412287Z",
     "shell.execute_reply": "2022-04-16T01:10:23.411718Z"
    },
    "papermill": {
     "duration": 0.115349,
     "end_time": "2022-04-16T01:10:23.414135",
     "exception": false,
     "start_time": "2022-04-16T01:10:23.298786",
     "status": "completed"
    },
    "tags": []
   },
   "outputs": [
    {
     "data": {
      "text/html": [
       "<div>\n",
       "<style scoped>\n",
       "    .dataframe tbody tr th:only-of-type {\n",
       "        vertical-align: middle;\n",
       "    }\n",
       "\n",
       "    .dataframe tbody tr th {\n",
       "        vertical-align: top;\n",
       "    }\n",
       "\n",
       "    .dataframe thead th {\n",
       "        text-align: right;\n",
       "    }\n",
       "</style>\n",
       "<table border=\"1\" class=\"dataframe\">\n",
       "  <thead>\n",
       "    <tr style=\"text-align: right;\">\n",
       "      <th></th>\n",
       "      <th>PassengerId</th>\n",
       "      <th>Survived</th>\n",
       "      <th>Pclass</th>\n",
       "      <th>Name</th>\n",
       "      <th>Sex</th>\n",
       "      <th>Age</th>\n",
       "      <th>SibSp</th>\n",
       "      <th>Parch</th>\n",
       "      <th>Ticket</th>\n",
       "      <th>Fare</th>\n",
       "      <th>Cabin</th>\n",
       "      <th>Embarked</th>\n",
       "      <th>Cabin_type</th>\n",
       "      <th>Status</th>\n",
       "      <th>family_size</th>\n",
       "    </tr>\n",
       "  </thead>\n",
       "  <tbody>\n",
       "    <tr>\n",
       "      <th>0</th>\n",
       "      <td>1</td>\n",
       "      <td>0</td>\n",
       "      <td>3</td>\n",
       "      <td>Braund, Mr. Owen Harris</td>\n",
       "      <td>0</td>\n",
       "      <td>22.0</td>\n",
       "      <td>1</td>\n",
       "      <td>0</td>\n",
       "      <td>A/5 21171</td>\n",
       "      <td>7.2500</td>\n",
       "      <td>NaN</td>\n",
       "      <td>S</td>\n",
       "      <td>0.0</td>\n",
       "      <td>1</td>\n",
       "      <td>2</td>\n",
       "    </tr>\n",
       "    <tr>\n",
       "      <th>1</th>\n",
       "      <td>2</td>\n",
       "      <td>1</td>\n",
       "      <td>1</td>\n",
       "      <td>Cumings, Mrs. John Bradley (Florence Briggs Th...</td>\n",
       "      <td>1</td>\n",
       "      <td>38.0</td>\n",
       "      <td>1</td>\n",
       "      <td>0</td>\n",
       "      <td>PC 17599</td>\n",
       "      <td>71.2833</td>\n",
       "      <td>C85</td>\n",
       "      <td>C</td>\n",
       "      <td>3.0</td>\n",
       "      <td>1</td>\n",
       "      <td>2</td>\n",
       "    </tr>\n",
       "    <tr>\n",
       "      <th>2</th>\n",
       "      <td>3</td>\n",
       "      <td>1</td>\n",
       "      <td>3</td>\n",
       "      <td>Heikkinen, Miss. Laina</td>\n",
       "      <td>1</td>\n",
       "      <td>26.0</td>\n",
       "      <td>0</td>\n",
       "      <td>0</td>\n",
       "      <td>STON/O2. 3101282</td>\n",
       "      <td>7.9250</td>\n",
       "      <td>NaN</td>\n",
       "      <td>S</td>\n",
       "      <td>0.0</td>\n",
       "      <td>2</td>\n",
       "      <td>1</td>\n",
       "    </tr>\n",
       "    <tr>\n",
       "      <th>3</th>\n",
       "      <td>4</td>\n",
       "      <td>1</td>\n",
       "      <td>1</td>\n",
       "      <td>Futrelle, Mrs. Jacques Heath (Lily May Peel)</td>\n",
       "      <td>1</td>\n",
       "      <td>35.0</td>\n",
       "      <td>1</td>\n",
       "      <td>0</td>\n",
       "      <td>113803</td>\n",
       "      <td>53.1000</td>\n",
       "      <td>C123</td>\n",
       "      <td>S</td>\n",
       "      <td>3.0</td>\n",
       "      <td>1</td>\n",
       "      <td>2</td>\n",
       "    </tr>\n",
       "    <tr>\n",
       "      <th>4</th>\n",
       "      <td>5</td>\n",
       "      <td>0</td>\n",
       "      <td>3</td>\n",
       "      <td>Allen, Mr. William Henry</td>\n",
       "      <td>0</td>\n",
       "      <td>35.0</td>\n",
       "      <td>0</td>\n",
       "      <td>0</td>\n",
       "      <td>373450</td>\n",
       "      <td>8.0500</td>\n",
       "      <td>NaN</td>\n",
       "      <td>S</td>\n",
       "      <td>0.0</td>\n",
       "      <td>1</td>\n",
       "      <td>1</td>\n",
       "    </tr>\n",
       "    <tr>\n",
       "      <th>...</th>\n",
       "      <td>...</td>\n",
       "      <td>...</td>\n",
       "      <td>...</td>\n",
       "      <td>...</td>\n",
       "      <td>...</td>\n",
       "      <td>...</td>\n",
       "      <td>...</td>\n",
       "      <td>...</td>\n",
       "      <td>...</td>\n",
       "      <td>...</td>\n",
       "      <td>...</td>\n",
       "      <td>...</td>\n",
       "      <td>...</td>\n",
       "      <td>...</td>\n",
       "      <td>...</td>\n",
       "    </tr>\n",
       "    <tr>\n",
       "      <th>886</th>\n",
       "      <td>887</td>\n",
       "      <td>0</td>\n",
       "      <td>2</td>\n",
       "      <td>Montvila, Rev. Juozas</td>\n",
       "      <td>0</td>\n",
       "      <td>27.0</td>\n",
       "      <td>0</td>\n",
       "      <td>0</td>\n",
       "      <td>211536</td>\n",
       "      <td>13.0000</td>\n",
       "      <td>NaN</td>\n",
       "      <td>S</td>\n",
       "      <td>0.0</td>\n",
       "      <td>3</td>\n",
       "      <td>1</td>\n",
       "    </tr>\n",
       "    <tr>\n",
       "      <th>887</th>\n",
       "      <td>888</td>\n",
       "      <td>1</td>\n",
       "      <td>1</td>\n",
       "      <td>Graham, Miss. Margaret Edith</td>\n",
       "      <td>1</td>\n",
       "      <td>19.0</td>\n",
       "      <td>0</td>\n",
       "      <td>0</td>\n",
       "      <td>112053</td>\n",
       "      <td>30.0000</td>\n",
       "      <td>B42</td>\n",
       "      <td>S</td>\n",
       "      <td>2.0</td>\n",
       "      <td>2</td>\n",
       "      <td>1</td>\n",
       "    </tr>\n",
       "    <tr>\n",
       "      <th>888</th>\n",
       "      <td>889</td>\n",
       "      <td>0</td>\n",
       "      <td>3</td>\n",
       "      <td>Johnston, Miss. Catherine Helen \"Carrie\"</td>\n",
       "      <td>1</td>\n",
       "      <td>NaN</td>\n",
       "      <td>1</td>\n",
       "      <td>2</td>\n",
       "      <td>W./C. 6607</td>\n",
       "      <td>23.4500</td>\n",
       "      <td>NaN</td>\n",
       "      <td>S</td>\n",
       "      <td>0.0</td>\n",
       "      <td>2</td>\n",
       "      <td>4</td>\n",
       "    </tr>\n",
       "    <tr>\n",
       "      <th>889</th>\n",
       "      <td>890</td>\n",
       "      <td>1</td>\n",
       "      <td>1</td>\n",
       "      <td>Behr, Mr. Karl Howell</td>\n",
       "      <td>0</td>\n",
       "      <td>26.0</td>\n",
       "      <td>0</td>\n",
       "      <td>0</td>\n",
       "      <td>111369</td>\n",
       "      <td>30.0000</td>\n",
       "      <td>C148</td>\n",
       "      <td>C</td>\n",
       "      <td>3.0</td>\n",
       "      <td>1</td>\n",
       "      <td>1</td>\n",
       "    </tr>\n",
       "    <tr>\n",
       "      <th>890</th>\n",
       "      <td>891</td>\n",
       "      <td>0</td>\n",
       "      <td>3</td>\n",
       "      <td>Dooley, Mr. Patrick</td>\n",
       "      <td>0</td>\n",
       "      <td>32.0</td>\n",
       "      <td>0</td>\n",
       "      <td>0</td>\n",
       "      <td>370376</td>\n",
       "      <td>7.7500</td>\n",
       "      <td>NaN</td>\n",
       "      <td>Q</td>\n",
       "      <td>0.0</td>\n",
       "      <td>1</td>\n",
       "      <td>1</td>\n",
       "    </tr>\n",
       "  </tbody>\n",
       "</table>\n",
       "<p>891 rows × 15 columns</p>\n",
       "</div>"
      ],
      "text/plain": [
       "     PassengerId  Survived  Pclass  \\\n",
       "0              1         0       3   \n",
       "1              2         1       1   \n",
       "2              3         1       3   \n",
       "3              4         1       1   \n",
       "4              5         0       3   \n",
       "..           ...       ...     ...   \n",
       "886          887         0       2   \n",
       "887          888         1       1   \n",
       "888          889         0       3   \n",
       "889          890         1       1   \n",
       "890          891         0       3   \n",
       "\n",
       "                                                  Name  Sex   Age  SibSp  \\\n",
       "0                              Braund, Mr. Owen Harris    0  22.0      1   \n",
       "1    Cumings, Mrs. John Bradley (Florence Briggs Th...    1  38.0      1   \n",
       "2                               Heikkinen, Miss. Laina    1  26.0      0   \n",
       "3         Futrelle, Mrs. Jacques Heath (Lily May Peel)    1  35.0      1   \n",
       "4                             Allen, Mr. William Henry    0  35.0      0   \n",
       "..                                                 ...  ...   ...    ...   \n",
       "886                              Montvila, Rev. Juozas    0  27.0      0   \n",
       "887                       Graham, Miss. Margaret Edith    1  19.0      0   \n",
       "888           Johnston, Miss. Catherine Helen \"Carrie\"    1   NaN      1   \n",
       "889                              Behr, Mr. Karl Howell    0  26.0      0   \n",
       "890                                Dooley, Mr. Patrick    0  32.0      0   \n",
       "\n",
       "     Parch            Ticket     Fare Cabin Embarked  Cabin_type  Status  \\\n",
       "0        0         A/5 21171   7.2500   NaN        S         0.0       1   \n",
       "1        0          PC 17599  71.2833   C85        C         3.0       1   \n",
       "2        0  STON/O2. 3101282   7.9250   NaN        S         0.0       2   \n",
       "3        0            113803  53.1000  C123        S         3.0       1   \n",
       "4        0            373450   8.0500   NaN        S         0.0       1   \n",
       "..     ...               ...      ...   ...      ...         ...     ...   \n",
       "886      0            211536  13.0000   NaN        S         0.0       3   \n",
       "887      0            112053  30.0000   B42        S         2.0       2   \n",
       "888      2        W./C. 6607  23.4500   NaN        S         0.0       2   \n",
       "889      0            111369  30.0000  C148        C         3.0       1   \n",
       "890      0            370376   7.7500   NaN        Q         0.0       1   \n",
       "\n",
       "     family_size  \n",
       "0              2  \n",
       "1              2  \n",
       "2              1  \n",
       "3              2  \n",
       "4              1  \n",
       "..           ...  \n",
       "886            1  \n",
       "887            1  \n",
       "888            4  \n",
       "889            1  \n",
       "890            1  \n",
       "\n",
       "[891 rows x 15 columns]"
      ]
     },
     "execution_count": 39,
     "metadata": {},
     "output_type": "execute_result"
    }
   ],
   "source": [
    "train"
   ]
  },
  {
   "cell_type": "code",
   "execution_count": 40,
   "id": "acaa8c75",
   "metadata": {
    "execution": {
     "iopub.execute_input": "2022-04-16T01:10:23.594307Z",
     "iopub.status.busy": "2022-04-16T01:10:23.593822Z",
     "iopub.status.idle": "2022-04-16T01:10:23.601575Z",
     "shell.execute_reply": "2022-04-16T01:10:23.600885Z"
    },
    "papermill": {
     "duration": 0.100638,
     "end_time": "2022-04-16T01:10:23.603508",
     "exception": false,
     "start_time": "2022-04-16T01:10:23.502870",
     "status": "completed"
    },
    "tags": []
   },
   "outputs": [],
   "source": [
    "train.drop(['Name', 'SibSp', 'SibSp', 'Ticket', 'Cabin','Embarked', 'Parch'], axis =1 , inplace=True)\n",
    "test.drop(['Name', 'SibSp', 'SibSp', 'Ticket', 'Cabin','Embarked', 'Parch'], axis =1 , inplace=True)"
   ]
  },
  {
   "cell_type": "code",
   "execution_count": 41,
   "id": "ddacc98f",
   "metadata": {
    "execution": {
     "iopub.execute_input": "2022-04-16T01:10:23.784586Z",
     "iopub.status.busy": "2022-04-16T01:10:23.784287Z",
     "iopub.status.idle": "2022-04-16T01:10:23.804877Z",
     "shell.execute_reply": "2022-04-16T01:10:23.803880Z"
    },
    "papermill": {
     "duration": 0.11416,
     "end_time": "2022-04-16T01:10:23.806917",
     "exception": false,
     "start_time": "2022-04-16T01:10:23.692757",
     "status": "completed"
    },
    "tags": []
   },
   "outputs": [
    {
     "data": {
      "text/html": [
       "<div>\n",
       "<style scoped>\n",
       "    .dataframe tbody tr th:only-of-type {\n",
       "        vertical-align: middle;\n",
       "    }\n",
       "\n",
       "    .dataframe tbody tr th {\n",
       "        vertical-align: top;\n",
       "    }\n",
       "\n",
       "    .dataframe thead th {\n",
       "        text-align: right;\n",
       "    }\n",
       "</style>\n",
       "<table border=\"1\" class=\"dataframe\">\n",
       "  <thead>\n",
       "    <tr style=\"text-align: right;\">\n",
       "      <th></th>\n",
       "      <th>PassengerId</th>\n",
       "      <th>Survived</th>\n",
       "      <th>Pclass</th>\n",
       "      <th>Sex</th>\n",
       "      <th>Age</th>\n",
       "      <th>Fare</th>\n",
       "      <th>Cabin_type</th>\n",
       "      <th>Status</th>\n",
       "      <th>family_size</th>\n",
       "    </tr>\n",
       "  </thead>\n",
       "  <tbody>\n",
       "    <tr>\n",
       "      <th>0</th>\n",
       "      <td>1</td>\n",
       "      <td>0</td>\n",
       "      <td>3</td>\n",
       "      <td>0</td>\n",
       "      <td>22.0</td>\n",
       "      <td>7.2500</td>\n",
       "      <td>0.0</td>\n",
       "      <td>1</td>\n",
       "      <td>2</td>\n",
       "    </tr>\n",
       "    <tr>\n",
       "      <th>1</th>\n",
       "      <td>2</td>\n",
       "      <td>1</td>\n",
       "      <td>1</td>\n",
       "      <td>1</td>\n",
       "      <td>38.0</td>\n",
       "      <td>71.2833</td>\n",
       "      <td>3.0</td>\n",
       "      <td>1</td>\n",
       "      <td>2</td>\n",
       "    </tr>\n",
       "    <tr>\n",
       "      <th>2</th>\n",
       "      <td>3</td>\n",
       "      <td>1</td>\n",
       "      <td>3</td>\n",
       "      <td>1</td>\n",
       "      <td>26.0</td>\n",
       "      <td>7.9250</td>\n",
       "      <td>0.0</td>\n",
       "      <td>2</td>\n",
       "      <td>1</td>\n",
       "    </tr>\n",
       "    <tr>\n",
       "      <th>3</th>\n",
       "      <td>4</td>\n",
       "      <td>1</td>\n",
       "      <td>1</td>\n",
       "      <td>1</td>\n",
       "      <td>35.0</td>\n",
       "      <td>53.1000</td>\n",
       "      <td>3.0</td>\n",
       "      <td>1</td>\n",
       "      <td>2</td>\n",
       "    </tr>\n",
       "    <tr>\n",
       "      <th>4</th>\n",
       "      <td>5</td>\n",
       "      <td>0</td>\n",
       "      <td>3</td>\n",
       "      <td>0</td>\n",
       "      <td>35.0</td>\n",
       "      <td>8.0500</td>\n",
       "      <td>0.0</td>\n",
       "      <td>1</td>\n",
       "      <td>1</td>\n",
       "    </tr>\n",
       "    <tr>\n",
       "      <th>...</th>\n",
       "      <td>...</td>\n",
       "      <td>...</td>\n",
       "      <td>...</td>\n",
       "      <td>...</td>\n",
       "      <td>...</td>\n",
       "      <td>...</td>\n",
       "      <td>...</td>\n",
       "      <td>...</td>\n",
       "      <td>...</td>\n",
       "    </tr>\n",
       "    <tr>\n",
       "      <th>886</th>\n",
       "      <td>887</td>\n",
       "      <td>0</td>\n",
       "      <td>2</td>\n",
       "      <td>0</td>\n",
       "      <td>27.0</td>\n",
       "      <td>13.0000</td>\n",
       "      <td>0.0</td>\n",
       "      <td>3</td>\n",
       "      <td>1</td>\n",
       "    </tr>\n",
       "    <tr>\n",
       "      <th>887</th>\n",
       "      <td>888</td>\n",
       "      <td>1</td>\n",
       "      <td>1</td>\n",
       "      <td>1</td>\n",
       "      <td>19.0</td>\n",
       "      <td>30.0000</td>\n",
       "      <td>2.0</td>\n",
       "      <td>2</td>\n",
       "      <td>1</td>\n",
       "    </tr>\n",
       "    <tr>\n",
       "      <th>888</th>\n",
       "      <td>889</td>\n",
       "      <td>0</td>\n",
       "      <td>3</td>\n",
       "      <td>1</td>\n",
       "      <td>NaN</td>\n",
       "      <td>23.4500</td>\n",
       "      <td>0.0</td>\n",
       "      <td>2</td>\n",
       "      <td>4</td>\n",
       "    </tr>\n",
       "    <tr>\n",
       "      <th>889</th>\n",
       "      <td>890</td>\n",
       "      <td>1</td>\n",
       "      <td>1</td>\n",
       "      <td>0</td>\n",
       "      <td>26.0</td>\n",
       "      <td>30.0000</td>\n",
       "      <td>3.0</td>\n",
       "      <td>1</td>\n",
       "      <td>1</td>\n",
       "    </tr>\n",
       "    <tr>\n",
       "      <th>890</th>\n",
       "      <td>891</td>\n",
       "      <td>0</td>\n",
       "      <td>3</td>\n",
       "      <td>0</td>\n",
       "      <td>32.0</td>\n",
       "      <td>7.7500</td>\n",
       "      <td>0.0</td>\n",
       "      <td>1</td>\n",
       "      <td>1</td>\n",
       "    </tr>\n",
       "  </tbody>\n",
       "</table>\n",
       "<p>891 rows × 9 columns</p>\n",
       "</div>"
      ],
      "text/plain": [
       "     PassengerId  Survived  Pclass  Sex   Age     Fare  Cabin_type  Status  \\\n",
       "0              1         0       3    0  22.0   7.2500         0.0       1   \n",
       "1              2         1       1    1  38.0  71.2833         3.0       1   \n",
       "2              3         1       3    1  26.0   7.9250         0.0       2   \n",
       "3              4         1       1    1  35.0  53.1000         3.0       1   \n",
       "4              5         0       3    0  35.0   8.0500         0.0       1   \n",
       "..           ...       ...     ...  ...   ...      ...         ...     ...   \n",
       "886          887         0       2    0  27.0  13.0000         0.0       3   \n",
       "887          888         1       1    1  19.0  30.0000         2.0       2   \n",
       "888          889         0       3    1   NaN  23.4500         0.0       2   \n",
       "889          890         1       1    0  26.0  30.0000         3.0       1   \n",
       "890          891         0       3    0  32.0   7.7500         0.0       1   \n",
       "\n",
       "     family_size  \n",
       "0              2  \n",
       "1              2  \n",
       "2              1  \n",
       "3              2  \n",
       "4              1  \n",
       "..           ...  \n",
       "886            1  \n",
       "887            1  \n",
       "888            4  \n",
       "889            1  \n",
       "890            1  \n",
       "\n",
       "[891 rows x 9 columns]"
      ]
     },
     "execution_count": 41,
     "metadata": {},
     "output_type": "execute_result"
    }
   ],
   "source": [
    "train"
   ]
  },
  {
   "cell_type": "markdown",
   "id": "b7c3b2dc",
   "metadata": {
    "papermill": {
     "duration": 0.0915,
     "end_time": "2022-04-16T01:10:23.990049",
     "exception": false,
     "start_time": "2022-04-16T01:10:23.898549",
     "status": "completed"
    },
    "tags": []
   },
   "source": [
    "# Final Cleaning"
   ]
  },
  {
   "cell_type": "code",
   "execution_count": 42,
   "id": "0ea58972",
   "metadata": {
    "execution": {
     "iopub.execute_input": "2022-04-16T01:10:24.172854Z",
     "iopub.status.busy": "2022-04-16T01:10:24.172537Z",
     "iopub.status.idle": "2022-04-16T01:10:24.189581Z",
     "shell.execute_reply": "2022-04-16T01:10:24.189019Z"
    },
    "papermill": {
     "duration": 0.10989,
     "end_time": "2022-04-16T01:10:24.191370",
     "exception": false,
     "start_time": "2022-04-16T01:10:24.081480",
     "status": "completed"
    },
    "tags": []
   },
   "outputs": [
    {
     "data": {
      "text/html": [
       "<div>\n",
       "<style scoped>\n",
       "    .dataframe tbody tr th:only-of-type {\n",
       "        vertical-align: middle;\n",
       "    }\n",
       "\n",
       "    .dataframe tbody tr th {\n",
       "        vertical-align: top;\n",
       "    }\n",
       "\n",
       "    .dataframe thead th {\n",
       "        text-align: right;\n",
       "    }\n",
       "</style>\n",
       "<table border=\"1\" class=\"dataframe\">\n",
       "  <thead>\n",
       "    <tr style=\"text-align: right;\">\n",
       "      <th></th>\n",
       "      <th>PassengerId</th>\n",
       "      <th>Survived</th>\n",
       "      <th>Pclass</th>\n",
       "      <th>Sex</th>\n",
       "      <th>Age</th>\n",
       "      <th>Fare</th>\n",
       "      <th>Cabin_type</th>\n",
       "      <th>Status</th>\n",
       "      <th>family_size</th>\n",
       "    </tr>\n",
       "  </thead>\n",
       "  <tbody>\n",
       "    <tr>\n",
       "      <th>0</th>\n",
       "      <td>1</td>\n",
       "      <td>0</td>\n",
       "      <td>3</td>\n",
       "      <td>0</td>\n",
       "      <td>22.0</td>\n",
       "      <td>7.2500</td>\n",
       "      <td>0.0</td>\n",
       "      <td>1</td>\n",
       "      <td>2</td>\n",
       "    </tr>\n",
       "    <tr>\n",
       "      <th>1</th>\n",
       "      <td>2</td>\n",
       "      <td>1</td>\n",
       "      <td>1</td>\n",
       "      <td>1</td>\n",
       "      <td>38.0</td>\n",
       "      <td>71.2833</td>\n",
       "      <td>3.0</td>\n",
       "      <td>1</td>\n",
       "      <td>2</td>\n",
       "    </tr>\n",
       "    <tr>\n",
       "      <th>2</th>\n",
       "      <td>3</td>\n",
       "      <td>1</td>\n",
       "      <td>3</td>\n",
       "      <td>1</td>\n",
       "      <td>26.0</td>\n",
       "      <td>7.9250</td>\n",
       "      <td>0.0</td>\n",
       "      <td>2</td>\n",
       "      <td>1</td>\n",
       "    </tr>\n",
       "    <tr>\n",
       "      <th>3</th>\n",
       "      <td>4</td>\n",
       "      <td>1</td>\n",
       "      <td>1</td>\n",
       "      <td>1</td>\n",
       "      <td>35.0</td>\n",
       "      <td>53.1000</td>\n",
       "      <td>3.0</td>\n",
       "      <td>1</td>\n",
       "      <td>2</td>\n",
       "    </tr>\n",
       "    <tr>\n",
       "      <th>4</th>\n",
       "      <td>5</td>\n",
       "      <td>0</td>\n",
       "      <td>3</td>\n",
       "      <td>0</td>\n",
       "      <td>35.0</td>\n",
       "      <td>8.0500</td>\n",
       "      <td>0.0</td>\n",
       "      <td>1</td>\n",
       "      <td>1</td>\n",
       "    </tr>\n",
       "    <tr>\n",
       "      <th>...</th>\n",
       "      <td>...</td>\n",
       "      <td>...</td>\n",
       "      <td>...</td>\n",
       "      <td>...</td>\n",
       "      <td>...</td>\n",
       "      <td>...</td>\n",
       "      <td>...</td>\n",
       "      <td>...</td>\n",
       "      <td>...</td>\n",
       "    </tr>\n",
       "    <tr>\n",
       "      <th>886</th>\n",
       "      <td>887</td>\n",
       "      <td>0</td>\n",
       "      <td>2</td>\n",
       "      <td>0</td>\n",
       "      <td>27.0</td>\n",
       "      <td>13.0000</td>\n",
       "      <td>0.0</td>\n",
       "      <td>3</td>\n",
       "      <td>1</td>\n",
       "    </tr>\n",
       "    <tr>\n",
       "      <th>887</th>\n",
       "      <td>888</td>\n",
       "      <td>1</td>\n",
       "      <td>1</td>\n",
       "      <td>1</td>\n",
       "      <td>19.0</td>\n",
       "      <td>30.0000</td>\n",
       "      <td>2.0</td>\n",
       "      <td>2</td>\n",
       "      <td>1</td>\n",
       "    </tr>\n",
       "    <tr>\n",
       "      <th>888</th>\n",
       "      <td>889</td>\n",
       "      <td>0</td>\n",
       "      <td>3</td>\n",
       "      <td>1</td>\n",
       "      <td>NaN</td>\n",
       "      <td>23.4500</td>\n",
       "      <td>0.0</td>\n",
       "      <td>2</td>\n",
       "      <td>4</td>\n",
       "    </tr>\n",
       "    <tr>\n",
       "      <th>889</th>\n",
       "      <td>890</td>\n",
       "      <td>1</td>\n",
       "      <td>1</td>\n",
       "      <td>0</td>\n",
       "      <td>26.0</td>\n",
       "      <td>30.0000</td>\n",
       "      <td>3.0</td>\n",
       "      <td>1</td>\n",
       "      <td>1</td>\n",
       "    </tr>\n",
       "    <tr>\n",
       "      <th>890</th>\n",
       "      <td>891</td>\n",
       "      <td>0</td>\n",
       "      <td>3</td>\n",
       "      <td>0</td>\n",
       "      <td>32.0</td>\n",
       "      <td>7.7500</td>\n",
       "      <td>0.0</td>\n",
       "      <td>1</td>\n",
       "      <td>1</td>\n",
       "    </tr>\n",
       "  </tbody>\n",
       "</table>\n",
       "<p>891 rows × 9 columns</p>\n",
       "</div>"
      ],
      "text/plain": [
       "     PassengerId  Survived  Pclass  Sex   Age     Fare  Cabin_type  Status  \\\n",
       "0              1         0       3    0  22.0   7.2500         0.0       1   \n",
       "1              2         1       1    1  38.0  71.2833         3.0       1   \n",
       "2              3         1       3    1  26.0   7.9250         0.0       2   \n",
       "3              4         1       1    1  35.0  53.1000         3.0       1   \n",
       "4              5         0       3    0  35.0   8.0500         0.0       1   \n",
       "..           ...       ...     ...  ...   ...      ...         ...     ...   \n",
       "886          887         0       2    0  27.0  13.0000         0.0       3   \n",
       "887          888         1       1    1  19.0  30.0000         2.0       2   \n",
       "888          889         0       3    1   NaN  23.4500         0.0       2   \n",
       "889          890         1       1    0  26.0  30.0000         3.0       1   \n",
       "890          891         0       3    0  32.0   7.7500         0.0       1   \n",
       "\n",
       "     family_size  \n",
       "0              2  \n",
       "1              2  \n",
       "2              1  \n",
       "3              2  \n",
       "4              1  \n",
       "..           ...  \n",
       "886            1  \n",
       "887            1  \n",
       "888            4  \n",
       "889            1  \n",
       "890            1  \n",
       "\n",
       "[891 rows x 9 columns]"
      ]
     },
     "execution_count": 42,
     "metadata": {},
     "output_type": "execute_result"
    }
   ],
   "source": [
    "train"
   ]
  },
  {
   "cell_type": "code",
   "execution_count": 43,
   "id": "7c0f6569",
   "metadata": {
    "execution": {
     "iopub.execute_input": "2022-04-16T01:10:24.375534Z",
     "iopub.status.busy": "2022-04-16T01:10:24.375042Z",
     "iopub.status.idle": "2022-04-16T01:10:24.385839Z",
     "shell.execute_reply": "2022-04-16T01:10:24.384919Z"
    },
    "papermill": {
     "duration": 0.104939,
     "end_time": "2022-04-16T01:10:24.387807",
     "exception": false,
     "start_time": "2022-04-16T01:10:24.282868",
     "status": "completed"
    },
    "scrolled": true,
    "tags": []
   },
   "outputs": [
    {
     "name": "stdout",
     "output_type": "stream",
     "text": [
      "<class 'pandas.core.frame.DataFrame'>\n",
      "RangeIndex: 418 entries, 0 to 417\n",
      "Data columns (total 8 columns):\n",
      " #   Column       Non-Null Count  Dtype  \n",
      "---  ------       --------------  -----  \n",
      " 0   PassengerId  418 non-null    int64  \n",
      " 1   Pclass       418 non-null    int64  \n",
      " 2   Sex          418 non-null    int64  \n",
      " 3   Age          332 non-null    float64\n",
      " 4   Fare         417 non-null    float64\n",
      " 5   Cabin_type   418 non-null    float64\n",
      " 6   Status       417 non-null    float64\n",
      " 7   family_size  418 non-null    int64  \n",
      "dtypes: float64(4), int64(4)\n",
      "memory usage: 26.2 KB\n"
     ]
    }
   ],
   "source": [
    "test.info()"
   ]
  },
  {
   "cell_type": "code",
   "execution_count": 44,
   "id": "4a81a535",
   "metadata": {
    "execution": {
     "iopub.execute_input": "2022-04-16T01:10:24.571364Z",
     "iopub.status.busy": "2022-04-16T01:10:24.570917Z",
     "iopub.status.idle": "2022-04-16T01:10:24.577999Z",
     "shell.execute_reply": "2022-04-16T01:10:24.577329Z"
    },
    "papermill": {
     "duration": 0.100516,
     "end_time": "2022-04-16T01:10:24.579908",
     "exception": false,
     "start_time": "2022-04-16T01:10:24.479392",
     "status": "completed"
    },
    "tags": []
   },
   "outputs": [],
   "source": [
    "train.Age.fillna(train.Age.mean(), inplace=True)\n",
    "test.Age.fillna(train.Age.mean(), inplace=True)"
   ]
  },
  {
   "cell_type": "code",
   "execution_count": 45,
   "id": "6baf7430",
   "metadata": {
    "execution": {
     "iopub.execute_input": "2022-04-16T01:10:24.763040Z",
     "iopub.status.busy": "2022-04-16T01:10:24.762474Z",
     "iopub.status.idle": "2022-04-16T01:10:24.768556Z",
     "shell.execute_reply": "2022-04-16T01:10:24.767563Z"
    },
    "papermill": {
     "duration": 0.099926,
     "end_time": "2022-04-16T01:10:24.770844",
     "exception": false,
     "start_time": "2022-04-16T01:10:24.670918",
     "status": "completed"
    },
    "tags": []
   },
   "outputs": [],
   "source": [
    "test.Fare.fillna(train.Fare.mean(), inplace=True)\n",
    "test.Status.fillna(2, inplace=True)"
   ]
  },
  {
   "cell_type": "code",
   "execution_count": 46,
   "id": "0768b953",
   "metadata": {
    "execution": {
     "iopub.execute_input": "2022-04-16T01:10:24.972490Z",
     "iopub.status.busy": "2022-04-16T01:10:24.972209Z",
     "iopub.status.idle": "2022-04-16T01:10:24.989907Z",
     "shell.execute_reply": "2022-04-16T01:10:24.989289Z"
    },
    "papermill": {
     "duration": 0.112917,
     "end_time": "2022-04-16T01:10:24.991633",
     "exception": false,
     "start_time": "2022-04-16T01:10:24.878716",
     "status": "completed"
    },
    "tags": []
   },
   "outputs": [
    {
     "data": {
      "text/html": [
       "<div>\n",
       "<style scoped>\n",
       "    .dataframe tbody tr th:only-of-type {\n",
       "        vertical-align: middle;\n",
       "    }\n",
       "\n",
       "    .dataframe tbody tr th {\n",
       "        vertical-align: top;\n",
       "    }\n",
       "\n",
       "    .dataframe thead th {\n",
       "        text-align: right;\n",
       "    }\n",
       "</style>\n",
       "<table border=\"1\" class=\"dataframe\">\n",
       "  <thead>\n",
       "    <tr style=\"text-align: right;\">\n",
       "      <th></th>\n",
       "      <th>Age</th>\n",
       "      <th>family_size</th>\n",
       "      <th>Pclass</th>\n",
       "      <th>Sex</th>\n",
       "      <th>Cabin_type</th>\n",
       "      <th>Status</th>\n",
       "      <th>Fare</th>\n",
       "    </tr>\n",
       "  </thead>\n",
       "  <tbody>\n",
       "    <tr>\n",
       "      <th>0</th>\n",
       "      <td>22.000000</td>\n",
       "      <td>2</td>\n",
       "      <td>3</td>\n",
       "      <td>0</td>\n",
       "      <td>0.0</td>\n",
       "      <td>1</td>\n",
       "      <td>7.2500</td>\n",
       "    </tr>\n",
       "    <tr>\n",
       "      <th>1</th>\n",
       "      <td>38.000000</td>\n",
       "      <td>2</td>\n",
       "      <td>1</td>\n",
       "      <td>1</td>\n",
       "      <td>3.0</td>\n",
       "      <td>1</td>\n",
       "      <td>71.2833</td>\n",
       "    </tr>\n",
       "    <tr>\n",
       "      <th>2</th>\n",
       "      <td>26.000000</td>\n",
       "      <td>1</td>\n",
       "      <td>3</td>\n",
       "      <td>1</td>\n",
       "      <td>0.0</td>\n",
       "      <td>2</td>\n",
       "      <td>7.9250</td>\n",
       "    </tr>\n",
       "    <tr>\n",
       "      <th>3</th>\n",
       "      <td>35.000000</td>\n",
       "      <td>2</td>\n",
       "      <td>1</td>\n",
       "      <td>1</td>\n",
       "      <td>3.0</td>\n",
       "      <td>1</td>\n",
       "      <td>53.1000</td>\n",
       "    </tr>\n",
       "    <tr>\n",
       "      <th>4</th>\n",
       "      <td>35.000000</td>\n",
       "      <td>1</td>\n",
       "      <td>3</td>\n",
       "      <td>0</td>\n",
       "      <td>0.0</td>\n",
       "      <td>1</td>\n",
       "      <td>8.0500</td>\n",
       "    </tr>\n",
       "    <tr>\n",
       "      <th>...</th>\n",
       "      <td>...</td>\n",
       "      <td>...</td>\n",
       "      <td>...</td>\n",
       "      <td>...</td>\n",
       "      <td>...</td>\n",
       "      <td>...</td>\n",
       "      <td>...</td>\n",
       "    </tr>\n",
       "    <tr>\n",
       "      <th>886</th>\n",
       "      <td>27.000000</td>\n",
       "      <td>1</td>\n",
       "      <td>2</td>\n",
       "      <td>0</td>\n",
       "      <td>0.0</td>\n",
       "      <td>3</td>\n",
       "      <td>13.0000</td>\n",
       "    </tr>\n",
       "    <tr>\n",
       "      <th>887</th>\n",
       "      <td>19.000000</td>\n",
       "      <td>1</td>\n",
       "      <td>1</td>\n",
       "      <td>1</td>\n",
       "      <td>2.0</td>\n",
       "      <td>2</td>\n",
       "      <td>30.0000</td>\n",
       "    </tr>\n",
       "    <tr>\n",
       "      <th>888</th>\n",
       "      <td>29.699118</td>\n",
       "      <td>4</td>\n",
       "      <td>3</td>\n",
       "      <td>1</td>\n",
       "      <td>0.0</td>\n",
       "      <td>2</td>\n",
       "      <td>23.4500</td>\n",
       "    </tr>\n",
       "    <tr>\n",
       "      <th>889</th>\n",
       "      <td>26.000000</td>\n",
       "      <td>1</td>\n",
       "      <td>1</td>\n",
       "      <td>0</td>\n",
       "      <td>3.0</td>\n",
       "      <td>1</td>\n",
       "      <td>30.0000</td>\n",
       "    </tr>\n",
       "    <tr>\n",
       "      <th>890</th>\n",
       "      <td>32.000000</td>\n",
       "      <td>1</td>\n",
       "      <td>3</td>\n",
       "      <td>0</td>\n",
       "      <td>0.0</td>\n",
       "      <td>1</td>\n",
       "      <td>7.7500</td>\n",
       "    </tr>\n",
       "  </tbody>\n",
       "</table>\n",
       "<p>891 rows × 7 columns</p>\n",
       "</div>"
      ],
      "text/plain": [
       "           Age  family_size  Pclass  Sex  Cabin_type  Status     Fare\n",
       "0    22.000000            2       3    0         0.0       1   7.2500\n",
       "1    38.000000            2       1    1         3.0       1  71.2833\n",
       "2    26.000000            1       3    1         0.0       2   7.9250\n",
       "3    35.000000            2       1    1         3.0       1  53.1000\n",
       "4    35.000000            1       3    0         0.0       1   8.0500\n",
       "..         ...          ...     ...  ...         ...     ...      ...\n",
       "886  27.000000            1       2    0         0.0       3  13.0000\n",
       "887  19.000000            1       1    1         2.0       2  30.0000\n",
       "888  29.699118            4       3    1         0.0       2  23.4500\n",
       "889  26.000000            1       1    0         3.0       1  30.0000\n",
       "890  32.000000            1       3    0         0.0       1   7.7500\n",
       "\n",
       "[891 rows x 7 columns]"
      ]
     },
     "execution_count": 46,
     "metadata": {},
     "output_type": "execute_result"
    }
   ],
   "source": [
    "col = [\"Age\", \"family_size\",\"Pclass\",\"Sex\",\"Cabin_type\",\"Status\",\"Fare\"]\n",
    "train_X = train[col]\n",
    "train_X"
   ]
  },
  {
   "cell_type": "code",
   "execution_count": 47,
   "id": "937d3241",
   "metadata": {
    "execution": {
     "iopub.execute_input": "2022-04-16T01:10:25.176276Z",
     "iopub.status.busy": "2022-04-16T01:10:25.176003Z",
     "iopub.status.idle": "2022-04-16T01:10:25.182050Z",
     "shell.execute_reply": "2022-04-16T01:10:25.181522Z"
    },
    "papermill": {
     "duration": 0.10097,
     "end_time": "2022-04-16T01:10:25.184297",
     "exception": false,
     "start_time": "2022-04-16T01:10:25.083327",
     "status": "completed"
    },
    "tags": []
   },
   "outputs": [
    {
     "data": {
      "text/plain": [
       "0      0\n",
       "1      1\n",
       "2      1\n",
       "3      1\n",
       "4      0\n",
       "      ..\n",
       "886    0\n",
       "887    1\n",
       "888    0\n",
       "889    1\n",
       "890    0\n",
       "Name: Survived, Length: 891, dtype: int64"
      ]
     },
     "execution_count": 47,
     "metadata": {},
     "output_type": "execute_result"
    }
   ],
   "source": [
    "train_y = train[\"Survived\"]\n",
    "train_y"
   ]
  },
  {
   "cell_type": "markdown",
   "id": "ae62bbea",
   "metadata": {
    "papermill": {
     "duration": 0.091937,
     "end_time": "2022-04-16T01:10:25.368415",
     "exception": false,
     "start_time": "2022-04-16T01:10:25.276478",
     "status": "completed"
    },
    "tags": []
   },
   "source": [
    "# Logstic Regression"
   ]
  },
  {
   "cell_type": "code",
   "execution_count": 48,
   "id": "fbb47b25",
   "metadata": {
    "execution": {
     "iopub.execute_input": "2022-04-16T01:10:25.553321Z",
     "iopub.status.busy": "2022-04-16T01:10:25.552704Z",
     "iopub.status.idle": "2022-04-16T01:10:26.591216Z",
     "shell.execute_reply": "2022-04-16T01:10:26.590481Z"
    },
    "papermill": {
     "duration": 1.133042,
     "end_time": "2022-04-16T01:10:26.593544",
     "exception": false,
     "start_time": "2022-04-16T01:10:25.460502",
     "status": "completed"
    },
    "tags": []
   },
   "outputs": [],
   "source": [
    "from sklearn.linear_model import LogisticRegression\n",
    "\n",
    "LR_classification = LogisticRegression()"
   ]
  },
  {
   "cell_type": "code",
   "execution_count": 49,
   "id": "4f6a7a09",
   "metadata": {
    "execution": {
     "iopub.execute_input": "2022-04-16T01:10:26.779877Z",
     "iopub.status.busy": "2022-04-16T01:10:26.779574Z",
     "iopub.status.idle": "2022-04-16T01:10:26.816609Z",
     "shell.execute_reply": "2022-04-16T01:10:26.815816Z"
    },
    "papermill": {
     "duration": 0.13205,
     "end_time": "2022-04-16T01:10:26.818612",
     "exception": false,
     "start_time": "2022-04-16T01:10:26.686562",
     "status": "completed"
    },
    "tags": []
   },
   "outputs": [
    {
     "data": {
      "text/plain": [
       "LogisticRegression()"
      ]
     },
     "execution_count": 49,
     "metadata": {},
     "output_type": "execute_result"
    }
   ],
   "source": [
    "LR_classification.fit(train_X,train_y)"
   ]
  },
  {
   "cell_type": "code",
   "execution_count": 50,
   "id": "1d6460be",
   "metadata": {
    "execution": {
     "iopub.execute_input": "2022-04-16T01:10:27.006599Z",
     "iopub.status.busy": "2022-04-16T01:10:27.006060Z",
     "iopub.status.idle": "2022-04-16T01:10:27.011467Z",
     "shell.execute_reply": "2022-04-16T01:10:27.010841Z"
    },
    "papermill": {
     "duration": 0.102098,
     "end_time": "2022-04-16T01:10:27.013278",
     "exception": false,
     "start_time": "2022-04-16T01:10:26.911180",
     "status": "completed"
    },
    "tags": []
   },
   "outputs": [],
   "source": [
    "Predictions = LR_classification.predict(train_X)"
   ]
  },
  {
   "cell_type": "code",
   "execution_count": 51,
   "id": "b2cf6639",
   "metadata": {
    "execution": {
     "iopub.execute_input": "2022-04-16T01:10:27.199802Z",
     "iopub.status.busy": "2022-04-16T01:10:27.199274Z",
     "iopub.status.idle": "2022-04-16T01:10:27.203999Z",
     "shell.execute_reply": "2022-04-16T01:10:27.203472Z"
    },
    "papermill": {
     "duration": 0.100011,
     "end_time": "2022-04-16T01:10:27.205646",
     "exception": false,
     "start_time": "2022-04-16T01:10:27.105635",
     "status": "completed"
    },
    "tags": []
   },
   "outputs": [
    {
     "data": {
      "text/plain": [
       "numpy.ndarray"
      ]
     },
     "execution_count": 51,
     "metadata": {},
     "output_type": "execute_result"
    }
   ],
   "source": [
    "type(Predictions)"
   ]
  },
  {
   "cell_type": "code",
   "execution_count": 52,
   "id": "8df45b9c",
   "metadata": {
    "execution": {
     "iopub.execute_input": "2022-04-16T01:10:27.392532Z",
     "iopub.status.busy": "2022-04-16T01:10:27.392012Z",
     "iopub.status.idle": "2022-04-16T01:10:27.397283Z",
     "shell.execute_reply": "2022-04-16T01:10:27.396490Z"
    },
    "papermill": {
     "duration": 0.100039,
     "end_time": "2022-04-16T01:10:27.399134",
     "exception": false,
     "start_time": "2022-04-16T01:10:27.299095",
     "status": "completed"
    },
    "scrolled": true,
    "tags": []
   },
   "outputs": [
    {
     "data": {
      "text/plain": [
       "numpy.ndarray"
      ]
     },
     "execution_count": 52,
     "metadata": {},
     "output_type": "execute_result"
    }
   ],
   "source": [
    "type(np.array(train_y))"
   ]
  },
  {
   "cell_type": "code",
   "execution_count": 53,
   "id": "ceacf45d",
   "metadata": {
    "execution": {
     "iopub.execute_input": "2022-04-16T01:10:27.585000Z",
     "iopub.status.busy": "2022-04-16T01:10:27.584520Z",
     "iopub.status.idle": "2022-04-16T01:10:27.591942Z",
     "shell.execute_reply": "2022-04-16T01:10:27.590966Z"
    },
    "papermill": {
     "duration": 0.104007,
     "end_time": "2022-04-16T01:10:27.595264",
     "exception": false,
     "start_time": "2022-04-16T01:10:27.491257",
     "status": "completed"
    },
    "tags": []
   },
   "outputs": [
    {
     "name": "stdout",
     "output_type": "stream",
     "text": [
      "the accuracy of the model is: 80.81%\n"
     ]
    }
   ],
   "source": [
    "print(\"the accuracy of the model is: {:.2f}%\".format(LR_classification.score(train_X,train_y)*100))"
   ]
  },
  {
   "cell_type": "markdown",
   "id": "86520f65",
   "metadata": {
    "papermill": {
     "duration": 0.092148,
     "end_time": "2022-04-16T01:10:27.781643",
     "exception": false,
     "start_time": "2022-04-16T01:10:27.689495",
     "status": "completed"
    },
    "tags": []
   },
   "source": [
    "# Decision Tree"
   ]
  },
  {
   "cell_type": "code",
   "execution_count": 54,
   "id": "e8659b59",
   "metadata": {
    "execution": {
     "iopub.execute_input": "2022-04-16T01:10:27.970018Z",
     "iopub.status.busy": "2022-04-16T01:10:27.969237Z",
     "iopub.status.idle": "2022-04-16T01:10:28.044309Z",
     "shell.execute_reply": "2022-04-16T01:10:28.043702Z"
    },
    "papermill": {
     "duration": 0.171674,
     "end_time": "2022-04-16T01:10:28.046415",
     "exception": false,
     "start_time": "2022-04-16T01:10:27.874741",
     "status": "completed"
    },
    "tags": []
   },
   "outputs": [],
   "source": [
    "from sklearn.tree import DecisionTreeClassifier\n",
    "\n",
    "DT = DecisionTreeClassifier()"
   ]
  },
  {
   "cell_type": "code",
   "execution_count": 55,
   "id": "4f85317b",
   "metadata": {
    "execution": {
     "iopub.execute_input": "2022-04-16T01:10:28.233077Z",
     "iopub.status.busy": "2022-04-16T01:10:28.232619Z",
     "iopub.status.idle": "2022-04-16T01:10:28.244440Z",
     "shell.execute_reply": "2022-04-16T01:10:28.243711Z"
    },
    "papermill": {
     "duration": 0.106827,
     "end_time": "2022-04-16T01:10:28.246284",
     "exception": false,
     "start_time": "2022-04-16T01:10:28.139457",
     "status": "completed"
    },
    "tags": []
   },
   "outputs": [
    {
     "data": {
      "text/plain": [
       "DecisionTreeClassifier()"
      ]
     },
     "execution_count": 55,
     "metadata": {},
     "output_type": "execute_result"
    }
   ],
   "source": [
    "DT.fit(train_X,train_y)"
   ]
  },
  {
   "cell_type": "code",
   "execution_count": 56,
   "id": "c7dbd8bc",
   "metadata": {
    "execution": {
     "iopub.execute_input": "2022-04-16T01:10:28.434888Z",
     "iopub.status.busy": "2022-04-16T01:10:28.434571Z",
     "iopub.status.idle": "2022-04-16T01:10:28.441433Z",
     "shell.execute_reply": "2022-04-16T01:10:28.440485Z"
    },
    "papermill": {
     "duration": 0.10346,
     "end_time": "2022-04-16T01:10:28.443354",
     "exception": false,
     "start_time": "2022-04-16T01:10:28.339894",
     "status": "completed"
    },
    "tags": []
   },
   "outputs": [],
   "source": [
    "Predictions = DT.predict(train_X)"
   ]
  },
  {
   "cell_type": "code",
   "execution_count": 57,
   "id": "91a03416",
   "metadata": {
    "execution": {
     "iopub.execute_input": "2022-04-16T01:10:28.632316Z",
     "iopub.status.busy": "2022-04-16T01:10:28.632034Z",
     "iopub.status.idle": "2022-04-16T01:10:28.640484Z",
     "shell.execute_reply": "2022-04-16T01:10:28.639585Z"
    },
    "papermill": {
     "duration": 0.105237,
     "end_time": "2022-04-16T01:10:28.642380",
     "exception": false,
     "start_time": "2022-04-16T01:10:28.537143",
     "status": "completed"
    },
    "tags": []
   },
   "outputs": [
    {
     "data": {
      "text/plain": [
       "array([0, 1, 1, 1, 0, 0, 0, 0, 1, 1, 1, 1, 0, 0, 0, 1, 0, 1, 0, 1, 0, 1,\n",
       "       1, 1, 0, 1, 0, 0, 1, 0, 0, 1, 1, 0, 0, 0, 0, 0, 0, 1, 0, 0, 0, 1,\n",
       "       1, 0, 0, 1, 0, 0, 0, 0, 1, 1, 0, 1, 1, 0, 1, 0, 0, 1, 0, 0, 0, 1,\n",
       "       1, 0, 1, 0, 0, 0, 0, 0, 1, 0, 0, 0, 1, 1, 0, 1, 1, 0, 1, 1, 0, 0,\n",
       "       1, 0, 0, 0, 0, 0, 0, 0, 0, 1, 1, 0, 0, 0, 0, 0, 0, 0, 1, 0, 0, 1,\n",
       "       0, 0, 0, 0, 0, 0, 0, 0, 0, 0, 0, 0, 0, 1, 0, 1, 0, 1, 1, 0, 0, 0,\n",
       "       0, 1, 0, 0, 1, 0, 0, 0, 0, 1, 1, 0, 0, 0, 1, 0, 0, 0, 0, 1, 0, 0,\n",
       "       0, 0, 1, 0, 0, 0, 0, 1, 0, 0, 0, 1, 1, 0, 0, 0, 0, 0, 1, 0, 0, 0,\n",
       "       0, 0, 0, 0, 0, 0, 0, 1, 1, 0, 1, 1, 0, 0, 1, 0, 1, 1, 1, 1, 0, 0,\n",
       "       1, 0, 0, 0, 0, 0, 1, 0, 0, 1, 1, 1, 0, 1, 0, 0, 0, 1, 1, 0, 1, 0,\n",
       "       0, 0, 0, 0, 1, 0, 0, 0, 0, 0, 1, 0, 0, 1, 0, 0, 0, 1, 0, 0, 0, 1,\n",
       "       0, 0, 0, 0, 0, 1, 1, 0, 0, 0, 0, 0, 0, 1, 1, 1, 1, 1, 0, 1, 0, 0,\n",
       "       1, 0, 0, 0, 1, 1, 0, 1, 1, 0, 1, 1, 0, 0, 0, 1, 0, 0, 0, 0, 0, 0,\n",
       "       1, 0, 1, 1, 1, 1, 0, 0, 0, 0, 0, 0, 1, 1, 1, 1, 0, 1, 0, 1, 1, 1,\n",
       "       0, 1, 1, 1, 0, 0, 0, 1, 1, 0, 1, 1, 0, 0, 1, 1, 0, 1, 0, 1, 1, 1,\n",
       "       1, 0, 0, 0, 1, 0, 0, 1, 1, 0, 1, 1, 0, 0, 0, 1, 1, 1, 1, 0, 0, 0,\n",
       "       0, 0, 0, 0, 1, 0, 1, 1, 0, 0, 0, 0, 0, 0, 1, 1, 1, 1, 1, 0, 0, 0,\n",
       "       0, 1, 1, 0, 0, 0, 1, 1, 0, 1, 0, 0, 0, 1, 0, 1, 1, 1, 0, 1, 1, 0,\n",
       "       0, 0, 0, 1, 0, 0, 0, 0, 0, 0, 0, 1, 0, 0, 0, 0, 1, 0, 1, 0, 1, 1,\n",
       "       0, 0, 0, 0, 0, 0, 0, 0, 1, 1, 0, 1, 1, 1, 1, 0, 0, 1, 0, 1, 0, 0,\n",
       "       1, 0, 0, 1, 1, 1, 1, 1, 1, 1, 0, 0, 0, 1, 0, 1, 0, 1, 1, 0, 1, 0,\n",
       "       0, 0, 0, 0, 0, 0, 0, 1, 0, 0, 1, 1, 0, 0, 0, 0, 0, 1, 0, 0, 0, 1,\n",
       "       1, 0, 1, 0, 0, 1, 0, 0, 0, 0, 0, 0, 1, 0, 0, 0, 0, 0, 0, 0, 1, 0,\n",
       "       1, 1, 0, 1, 1, 0, 1, 1, 0, 0, 1, 0, 1, 0, 1, 0, 0, 1, 0, 0, 1, 0,\n",
       "       0, 0, 1, 0, 0, 1, 0, 1, 0, 1, 0, 1, 1, 0, 0, 1, 0, 0, 1, 1, 0, 1,\n",
       "       1, 0, 0, 1, 1, 0, 1, 0, 1, 1, 0, 0, 0, 0, 0, 0, 0, 0, 0, 1, 1, 1,\n",
       "       1, 1, 0, 0, 1, 1, 0, 0, 1, 1, 0, 0, 0, 1, 0, 1, 0, 0, 0, 1, 0, 0,\n",
       "       0, 0, 1, 0, 0, 1, 1, 0, 0, 0, 1, 0, 0, 1, 1, 1, 0, 0, 1, 0, 0, 1,\n",
       "       0, 0, 1, 0, 0, 1, 1, 0, 0, 0, 0, 1, 0, 0, 1, 0, 1, 0, 0, 1, 0, 0,\n",
       "       0, 0, 0, 1, 0, 1, 1, 1, 0, 1, 0, 1, 0, 1, 0, 1, 0, 0, 0, 0, 0, 0,\n",
       "       1, 0, 0, 0, 1, 0, 0, 0, 0, 1, 1, 0, 0, 1, 0, 0, 0, 1, 0, 1, 0, 1,\n",
       "       0, 0, 0, 0, 0, 0, 0, 1, 1, 1, 1, 0, 0, 0, 0, 1, 0, 0, 1, 1, 0, 0,\n",
       "       0, 0, 1, 1, 1, 1, 1, 0, 1, 0, 0, 0, 1, 1, 0, 0, 1, 0, 0, 0, 1, 0,\n",
       "       1, 1, 0, 0, 1, 0, 0, 0, 0, 0, 0, 1, 0, 0, 1, 0, 1, 0, 1, 0, 0, 1,\n",
       "       0, 0, 1, 1, 0, 0, 1, 1, 0, 0, 0, 1, 0, 0, 1, 1, 0, 1, 0, 0, 0, 0,\n",
       "       0, 0, 0, 0, 1, 0, 0, 1, 0, 1, 1, 1, 0, 0, 0, 0, 1, 0, 1, 0, 0, 0,\n",
       "       0, 0, 0, 0, 1, 1, 0, 0, 0, 1, 1, 1, 1, 0, 0, 0, 0, 1, 0, 0, 0, 0,\n",
       "       0, 0, 0, 0, 0, 0, 1, 1, 0, 1, 0, 0, 1, 1, 0, 1, 1, 1, 0, 0, 0, 1,\n",
       "       0, 0, 1, 1, 0, 0, 1, 0, 0, 0, 0, 0, 0, 1, 0, 0, 0, 1, 0, 1, 1, 1,\n",
       "       1, 0, 0, 0, 1, 0, 0, 1, 1, 0, 0, 1, 0, 1, 0, 0, 1, 1, 0, 0, 0, 1,\n",
       "       1, 0, 0, 0, 0, 0, 0, 1, 0, 1, 0])"
      ]
     },
     "execution_count": 57,
     "metadata": {},
     "output_type": "execute_result"
    }
   ],
   "source": [
    "Predictions"
   ]
  },
  {
   "cell_type": "code",
   "execution_count": 58,
   "id": "fd05122b",
   "metadata": {
    "execution": {
     "iopub.execute_input": "2022-04-16T01:10:28.830653Z",
     "iopub.status.busy": "2022-04-16T01:10:28.830120Z",
     "iopub.status.idle": "2022-04-16T01:10:28.838097Z",
     "shell.execute_reply": "2022-04-16T01:10:28.837211Z"
    },
    "papermill": {
     "duration": 0.104386,
     "end_time": "2022-04-16T01:10:28.840167",
     "exception": false,
     "start_time": "2022-04-16T01:10:28.735781",
     "status": "completed"
    },
    "tags": []
   },
   "outputs": [
    {
     "name": "stdout",
     "output_type": "stream",
     "text": [
      "the accuracy of the model is: 98.77%\n"
     ]
    }
   ],
   "source": [
    "print(\"the accuracy of the model is: {:.2f}%\".format(DT.score(train_X,train_y)*100))"
   ]
  },
  {
   "cell_type": "markdown",
   "id": "0e3fe8fb",
   "metadata": {
    "papermill": {
     "duration": 0.095581,
     "end_time": "2022-04-16T01:10:29.030959",
     "exception": false,
     "start_time": "2022-04-16T01:10:28.935378",
     "status": "completed"
    },
    "tags": []
   },
   "source": [
    "# Abstraction"
   ]
  },
  {
   "cell_type": "code",
   "execution_count": 59,
   "id": "06f23a85",
   "metadata": {
    "execution": {
     "iopub.execute_input": "2022-04-16T01:10:29.223074Z",
     "iopub.status.busy": "2022-04-16T01:10:29.222545Z",
     "iopub.status.idle": "2022-04-16T01:10:29.227239Z",
     "shell.execute_reply": "2022-04-16T01:10:29.226403Z"
    },
    "papermill": {
     "duration": 0.10284,
     "end_time": "2022-04-16T01:10:29.229264",
     "exception": false,
     "start_time": "2022-04-16T01:10:29.126424",
     "status": "completed"
    },
    "tags": []
   },
   "outputs": [],
   "source": [
    "def model_training(models):\n",
    "    for element in models:\n",
    "        model = models[element]\n",
    "        model.fit(train_X,train_y)\n",
    "        print(\"the accuracy of \"+element+\" is: {:.2f}%\".format(model.score(train_X,train_y)*100))"
   ]
  },
  {
   "cell_type": "code",
   "execution_count": 60,
   "id": "8f6a5a6b",
   "metadata": {
    "execution": {
     "iopub.execute_input": "2022-04-16T01:10:29.424026Z",
     "iopub.status.busy": "2022-04-16T01:10:29.423278Z",
     "iopub.status.idle": "2022-04-16T01:10:29.427203Z",
     "shell.execute_reply": "2022-04-16T01:10:29.426691Z"
    },
    "papermill": {
     "duration": 0.102699,
     "end_time": "2022-04-16T01:10:29.428935",
     "exception": false,
     "start_time": "2022-04-16T01:10:29.326236",
     "status": "completed"
    },
    "tags": []
   },
   "outputs": [],
   "source": [
    "our_models = {\"Logistic Regression\":LogisticRegression(), \"Decision Tree\":DecisionTreeClassifier()}"
   ]
  },
  {
   "cell_type": "code",
   "execution_count": 61,
   "id": "9aa7bb14",
   "metadata": {
    "execution": {
     "iopub.execute_input": "2022-04-16T01:10:29.620598Z",
     "iopub.status.busy": "2022-04-16T01:10:29.620080Z",
     "iopub.status.idle": "2022-04-16T01:10:29.657612Z",
     "shell.execute_reply": "2022-04-16T01:10:29.656373Z"
    },
    "papermill": {
     "duration": 0.134817,
     "end_time": "2022-04-16T01:10:29.659857",
     "exception": false,
     "start_time": "2022-04-16T01:10:29.525040",
     "status": "completed"
    },
    "tags": []
   },
   "outputs": [
    {
     "name": "stdout",
     "output_type": "stream",
     "text": [
      "the accuracy of Logistic Regression is: 80.81%\n",
      "the accuracy of Decision Tree is: 98.77%\n"
     ]
    }
   ],
   "source": [
    "model_training(our_models)"
   ]
  },
  {
   "cell_type": "markdown",
   "id": "8461522b",
   "metadata": {
    "papermill": {
     "duration": 0.094736,
     "end_time": "2022-04-16T01:10:29.851554",
     "exception": false,
     "start_time": "2022-04-16T01:10:29.756818",
     "status": "completed"
    },
    "tags": []
   },
   "source": [
    "# Mooooore MODELS!!!"
   ]
  },
  {
   "cell_type": "code",
   "execution_count": 62,
   "id": "76423ae8",
   "metadata": {
    "execution": {
     "iopub.execute_input": "2022-04-16T01:10:30.045253Z",
     "iopub.status.busy": "2022-04-16T01:10:30.044707Z",
     "iopub.status.idle": "2022-04-16T01:10:30.238591Z",
     "shell.execute_reply": "2022-04-16T01:10:30.237844Z"
    },
    "papermill": {
     "duration": 0.294329,
     "end_time": "2022-04-16T01:10:30.240921",
     "exception": false,
     "start_time": "2022-04-16T01:10:29.946592",
     "status": "completed"
    },
    "tags": []
   },
   "outputs": [],
   "source": [
    "from sklearn.neighbors import KNeighborsClassifier\n",
    "from sklearn.ensemble import RandomForestClassifier\n",
    "import xgboost as xgb\n",
    "from sklearn import svm\n",
    "\n",
    "\n",
    "import warnings\n",
    "warnings.filterwarnings(\"ignore\")\n",
    "xgb.set_config(verbosity=0)"
   ]
  },
  {
   "cell_type": "code",
   "execution_count": 63,
   "id": "f999a304",
   "metadata": {
    "execution": {
     "iopub.execute_input": "2022-04-16T01:10:30.434182Z",
     "iopub.status.busy": "2022-04-16T01:10:30.433589Z",
     "iopub.status.idle": "2022-04-16T01:10:30.438722Z",
     "shell.execute_reply": "2022-04-16T01:10:30.438162Z"
    },
    "papermill": {
     "duration": 0.104239,
     "end_time": "2022-04-16T01:10:30.440655",
     "exception": false,
     "start_time": "2022-04-16T01:10:30.336416",
     "status": "completed"
    },
    "tags": []
   },
   "outputs": [],
   "source": [
    "our_models = {\"Logistic Regression\":LogisticRegression(), \"Decision Tree\":DecisionTreeClassifier(), \"Nearest Neighbors\": KNeighborsClassifier(), \"Random Forest\":RandomForestClassifier(), \"XGBClassifier\": xgb.XGBClassifier(), \"SVM\":svm.SVC()}"
   ]
  },
  {
   "cell_type": "code",
   "execution_count": 64,
   "id": "f7258e80",
   "metadata": {
    "execution": {
     "iopub.execute_input": "2022-04-16T01:10:30.631946Z",
     "iopub.status.busy": "2022-04-16T01:10:30.631395Z",
     "iopub.status.idle": "2022-04-16T01:10:31.325996Z",
     "shell.execute_reply": "2022-04-16T01:10:31.325152Z"
    },
    "papermill": {
     "duration": 0.792953,
     "end_time": "2022-04-16T01:10:31.328123",
     "exception": false,
     "start_time": "2022-04-16T01:10:30.535170",
     "status": "completed"
    },
    "tags": []
   },
   "outputs": [
    {
     "name": "stdout",
     "output_type": "stream",
     "text": [
      "the accuracy of Logistic Regression is: 80.81%\n",
      "the accuracy of Decision Tree is: 98.77%\n",
      "the accuracy of Nearest Neighbors is: 81.03%\n",
      "the accuracy of Random Forest is: 98.77%\n",
      "the accuracy of XGBClassifier is: 96.52%\n",
      "the accuracy of SVM is: 68.35%\n"
     ]
    }
   ],
   "source": [
    "model_training(our_models)"
   ]
  },
  {
   "cell_type": "markdown",
   "id": "ddfa1d99",
   "metadata": {
    "papermill": {
     "duration": 0.095512,
     "end_time": "2022-04-16T01:10:31.518918",
     "exception": false,
     "start_time": "2022-04-16T01:10:31.423406",
     "status": "completed"
    },
    "tags": []
   },
   "source": [
    "# Competition Submission"
   ]
  },
  {
   "cell_type": "code",
   "execution_count": 65,
   "id": "2423bac8",
   "metadata": {
    "execution": {
     "iopub.execute_input": "2022-04-16T01:10:31.712949Z",
     "iopub.status.busy": "2022-04-16T01:10:31.712389Z",
     "iopub.status.idle": "2022-04-16T01:10:31.969838Z",
     "shell.execute_reply": "2022-04-16T01:10:31.968658Z"
    },
    "papermill": {
     "duration": 0.357833,
     "end_time": "2022-04-16T01:10:31.972252",
     "exception": false,
     "start_time": "2022-04-16T01:10:31.614419",
     "status": "completed"
    },
    "tags": []
   },
   "outputs": [
    {
     "name": "stdout",
     "output_type": "stream",
     "text": [
      "the accuracy of Random Forest is: 98.77%\n"
     ]
    }
   ],
   "source": [
    "rf = RandomForestClassifier()\n",
    "LR = LogisticRegression()\n",
    "rf.fit(train_X,train_y)\n",
    "print(\"the accuracy of Random Forest is: {:.2f}%\".format(rf.score(train_X,train_y)*100))"
   ]
  },
  {
   "cell_type": "code",
   "execution_count": 66,
   "id": "cbbad535",
   "metadata": {
    "execution": {
     "iopub.execute_input": "2022-04-16T01:10:32.166810Z",
     "iopub.status.busy": "2022-04-16T01:10:32.166499Z",
     "iopub.status.idle": "2022-04-16T01:10:32.184770Z",
     "shell.execute_reply": "2022-04-16T01:10:32.183937Z"
    },
    "papermill": {
     "duration": 0.118183,
     "end_time": "2022-04-16T01:10:32.186924",
     "exception": false,
     "start_time": "2022-04-16T01:10:32.068741",
     "status": "completed"
    },
    "tags": []
   },
   "outputs": [
    {
     "data": {
      "text/html": [
       "<div>\n",
       "<style scoped>\n",
       "    .dataframe tbody tr th:only-of-type {\n",
       "        vertical-align: middle;\n",
       "    }\n",
       "\n",
       "    .dataframe tbody tr th {\n",
       "        vertical-align: top;\n",
       "    }\n",
       "\n",
       "    .dataframe thead th {\n",
       "        text-align: right;\n",
       "    }\n",
       "</style>\n",
       "<table border=\"1\" class=\"dataframe\">\n",
       "  <thead>\n",
       "    <tr style=\"text-align: right;\">\n",
       "      <th></th>\n",
       "      <th>Age</th>\n",
       "      <th>family_size</th>\n",
       "      <th>Pclass</th>\n",
       "      <th>Sex</th>\n",
       "      <th>Cabin_type</th>\n",
       "      <th>Status</th>\n",
       "      <th>Fare</th>\n",
       "    </tr>\n",
       "  </thead>\n",
       "  <tbody>\n",
       "    <tr>\n",
       "      <th>0</th>\n",
       "      <td>34.500000</td>\n",
       "      <td>1</td>\n",
       "      <td>3</td>\n",
       "      <td>0</td>\n",
       "      <td>0.0</td>\n",
       "      <td>1.0</td>\n",
       "      <td>7.8292</td>\n",
       "    </tr>\n",
       "    <tr>\n",
       "      <th>1</th>\n",
       "      <td>47.000000</td>\n",
       "      <td>2</td>\n",
       "      <td>3</td>\n",
       "      <td>1</td>\n",
       "      <td>0.0</td>\n",
       "      <td>1.0</td>\n",
       "      <td>7.0000</td>\n",
       "    </tr>\n",
       "    <tr>\n",
       "      <th>2</th>\n",
       "      <td>62.000000</td>\n",
       "      <td>1</td>\n",
       "      <td>2</td>\n",
       "      <td>0</td>\n",
       "      <td>0.0</td>\n",
       "      <td>1.0</td>\n",
       "      <td>9.6875</td>\n",
       "    </tr>\n",
       "    <tr>\n",
       "      <th>3</th>\n",
       "      <td>27.000000</td>\n",
       "      <td>1</td>\n",
       "      <td>3</td>\n",
       "      <td>0</td>\n",
       "      <td>0.0</td>\n",
       "      <td>1.0</td>\n",
       "      <td>8.6625</td>\n",
       "    </tr>\n",
       "    <tr>\n",
       "      <th>4</th>\n",
       "      <td>22.000000</td>\n",
       "      <td>3</td>\n",
       "      <td>3</td>\n",
       "      <td>1</td>\n",
       "      <td>0.0</td>\n",
       "      <td>1.0</td>\n",
       "      <td>12.2875</td>\n",
       "    </tr>\n",
       "    <tr>\n",
       "      <th>...</th>\n",
       "      <td>...</td>\n",
       "      <td>...</td>\n",
       "      <td>...</td>\n",
       "      <td>...</td>\n",
       "      <td>...</td>\n",
       "      <td>...</td>\n",
       "      <td>...</td>\n",
       "    </tr>\n",
       "    <tr>\n",
       "      <th>413</th>\n",
       "      <td>29.699118</td>\n",
       "      <td>1</td>\n",
       "      <td>3</td>\n",
       "      <td>0</td>\n",
       "      <td>0.0</td>\n",
       "      <td>1.0</td>\n",
       "      <td>8.0500</td>\n",
       "    </tr>\n",
       "    <tr>\n",
       "      <th>414</th>\n",
       "      <td>39.000000</td>\n",
       "      <td>1</td>\n",
       "      <td>1</td>\n",
       "      <td>1</td>\n",
       "      <td>3.0</td>\n",
       "      <td>2.0</td>\n",
       "      <td>108.9000</td>\n",
       "    </tr>\n",
       "    <tr>\n",
       "      <th>415</th>\n",
       "      <td>38.500000</td>\n",
       "      <td>1</td>\n",
       "      <td>3</td>\n",
       "      <td>0</td>\n",
       "      <td>0.0</td>\n",
       "      <td>1.0</td>\n",
       "      <td>7.2500</td>\n",
       "    </tr>\n",
       "    <tr>\n",
       "      <th>416</th>\n",
       "      <td>29.699118</td>\n",
       "      <td>1</td>\n",
       "      <td>3</td>\n",
       "      <td>0</td>\n",
       "      <td>0.0</td>\n",
       "      <td>1.0</td>\n",
       "      <td>8.0500</td>\n",
       "    </tr>\n",
       "    <tr>\n",
       "      <th>417</th>\n",
       "      <td>29.699118</td>\n",
       "      <td>3</td>\n",
       "      <td>3</td>\n",
       "      <td>0</td>\n",
       "      <td>0.0</td>\n",
       "      <td>3.0</td>\n",
       "      <td>22.3583</td>\n",
       "    </tr>\n",
       "  </tbody>\n",
       "</table>\n",
       "<p>418 rows × 7 columns</p>\n",
       "</div>"
      ],
      "text/plain": [
       "           Age  family_size  Pclass  Sex  Cabin_type  Status      Fare\n",
       "0    34.500000            1       3    0         0.0     1.0    7.8292\n",
       "1    47.000000            2       3    1         0.0     1.0    7.0000\n",
       "2    62.000000            1       2    0         0.0     1.0    9.6875\n",
       "3    27.000000            1       3    0         0.0     1.0    8.6625\n",
       "4    22.000000            3       3    1         0.0     1.0   12.2875\n",
       "..         ...          ...     ...  ...         ...     ...       ...\n",
       "413  29.699118            1       3    0         0.0     1.0    8.0500\n",
       "414  39.000000            1       1    1         3.0     2.0  108.9000\n",
       "415  38.500000            1       3    0         0.0     1.0    7.2500\n",
       "416  29.699118            1       3    0         0.0     1.0    8.0500\n",
       "417  29.699118            3       3    0         0.0     3.0   22.3583\n",
       "\n",
       "[418 rows x 7 columns]"
      ]
     },
     "execution_count": 66,
     "metadata": {},
     "output_type": "execute_result"
    }
   ],
   "source": [
    "col = [\"Age\", \"family_size\",\"Pclass\",\"Sex\",\"Cabin_type\",\"Status\",\"Fare\"]\n",
    "test_X = test[col]\n",
    "test_X"
   ]
  },
  {
   "cell_type": "code",
   "execution_count": 67,
   "id": "dac7b974",
   "metadata": {
    "execution": {
     "iopub.execute_input": "2022-04-16T01:10:32.382765Z",
     "iopub.status.busy": "2022-04-16T01:10:32.382325Z",
     "iopub.status.idle": "2022-04-16T01:10:32.406359Z",
     "shell.execute_reply": "2022-04-16T01:10:32.405706Z"
    },
    "papermill": {
     "duration": 0.124658,
     "end_time": "2022-04-16T01:10:32.408445",
     "exception": false,
     "start_time": "2022-04-16T01:10:32.283787",
     "status": "completed"
    },
    "tags": []
   },
   "outputs": [],
   "source": [
    "Predictions = rf.predict(test_X)"
   ]
  },
  {
   "cell_type": "code",
   "execution_count": 68,
   "id": "c6b3909f",
   "metadata": {
    "execution": {
     "iopub.execute_input": "2022-04-16T01:10:32.604701Z",
     "iopub.status.busy": "2022-04-16T01:10:32.604233Z",
     "iopub.status.idle": "2022-04-16T01:10:32.609369Z",
     "shell.execute_reply": "2022-04-16T01:10:32.608187Z"
    },
    "papermill": {
     "duration": 0.106083,
     "end_time": "2022-04-16T01:10:32.611532",
     "exception": false,
     "start_time": "2022-04-16T01:10:32.505449",
     "status": "completed"
    },
    "tags": []
   },
   "outputs": [],
   "source": [
    "# Submission\n",
    "output= pd.DataFrame({\"PassengerId\": test[\"PassengerId\"], \"Survived\": Predictions})"
   ]
  },
  {
   "cell_type": "code",
   "execution_count": 69,
   "id": "3820f49a",
   "metadata": {
    "execution": {
     "iopub.execute_input": "2022-04-16T01:10:32.810959Z",
     "iopub.status.busy": "2022-04-16T01:10:32.809994Z",
     "iopub.status.idle": "2022-04-16T01:10:32.820592Z",
     "shell.execute_reply": "2022-04-16T01:10:32.819964Z"
    },
    "papermill": {
     "duration": 0.111219,
     "end_time": "2022-04-16T01:10:32.822316",
     "exception": false,
     "start_time": "2022-04-16T01:10:32.711097",
     "status": "completed"
    },
    "tags": []
   },
   "outputs": [
    {
     "data": {
      "text/html": [
       "<div>\n",
       "<style scoped>\n",
       "    .dataframe tbody tr th:only-of-type {\n",
       "        vertical-align: middle;\n",
       "    }\n",
       "\n",
       "    .dataframe tbody tr th {\n",
       "        vertical-align: top;\n",
       "    }\n",
       "\n",
       "    .dataframe thead th {\n",
       "        text-align: right;\n",
       "    }\n",
       "</style>\n",
       "<table border=\"1\" class=\"dataframe\">\n",
       "  <thead>\n",
       "    <tr style=\"text-align: right;\">\n",
       "      <th></th>\n",
       "      <th>PassengerId</th>\n",
       "      <th>Survived</th>\n",
       "    </tr>\n",
       "  </thead>\n",
       "  <tbody>\n",
       "    <tr>\n",
       "      <th>0</th>\n",
       "      <td>892</td>\n",
       "      <td>0</td>\n",
       "    </tr>\n",
       "    <tr>\n",
       "      <th>1</th>\n",
       "      <td>893</td>\n",
       "      <td>0</td>\n",
       "    </tr>\n",
       "    <tr>\n",
       "      <th>2</th>\n",
       "      <td>894</td>\n",
       "      <td>1</td>\n",
       "    </tr>\n",
       "    <tr>\n",
       "      <th>3</th>\n",
       "      <td>895</td>\n",
       "      <td>1</td>\n",
       "    </tr>\n",
       "    <tr>\n",
       "      <th>4</th>\n",
       "      <td>896</td>\n",
       "      <td>1</td>\n",
       "    </tr>\n",
       "    <tr>\n",
       "      <th>...</th>\n",
       "      <td>...</td>\n",
       "      <td>...</td>\n",
       "    </tr>\n",
       "    <tr>\n",
       "      <th>413</th>\n",
       "      <td>1305</td>\n",
       "      <td>0</td>\n",
       "    </tr>\n",
       "    <tr>\n",
       "      <th>414</th>\n",
       "      <td>1306</td>\n",
       "      <td>1</td>\n",
       "    </tr>\n",
       "    <tr>\n",
       "      <th>415</th>\n",
       "      <td>1307</td>\n",
       "      <td>0</td>\n",
       "    </tr>\n",
       "    <tr>\n",
       "      <th>416</th>\n",
       "      <td>1308</td>\n",
       "      <td>0</td>\n",
       "    </tr>\n",
       "    <tr>\n",
       "      <th>417</th>\n",
       "      <td>1309</td>\n",
       "      <td>1</td>\n",
       "    </tr>\n",
       "  </tbody>\n",
       "</table>\n",
       "<p>418 rows × 2 columns</p>\n",
       "</div>"
      ],
      "text/plain": [
       "     PassengerId  Survived\n",
       "0            892         0\n",
       "1            893         0\n",
       "2            894         1\n",
       "3            895         1\n",
       "4            896         1\n",
       "..           ...       ...\n",
       "413         1305         0\n",
       "414         1306         1\n",
       "415         1307         0\n",
       "416         1308         0\n",
       "417         1309         1\n",
       "\n",
       "[418 rows x 2 columns]"
      ]
     },
     "execution_count": 69,
     "metadata": {},
     "output_type": "execute_result"
    }
   ],
   "source": [
    "output"
   ]
  },
  {
   "cell_type": "code",
   "execution_count": 70,
   "id": "e44a712c",
   "metadata": {
    "execution": {
     "iopub.execute_input": "2022-04-16T01:10:33.019378Z",
     "iopub.status.busy": "2022-04-16T01:10:33.018479Z",
     "iopub.status.idle": "2022-04-16T01:10:33.025488Z",
     "shell.execute_reply": "2022-04-16T01:10:33.024955Z"
    },
    "papermill": {
     "duration": 0.108074,
     "end_time": "2022-04-16T01:10:33.027413",
     "exception": false,
     "start_time": "2022-04-16T01:10:32.919339",
     "status": "completed"
    },
    "tags": []
   },
   "outputs": [],
   "source": [
    "output.to_csv(\"Submission.csv\", index=False)"
   ]
  }
 ],
 "metadata": {
  "kernelspec": {
   "display_name": "Python 3",
   "language": "python",
   "name": "python3"
  },
  "language_info": {
   "codemirror_mode": {
    "name": "ipython",
    "version": 3
   },
   "file_extension": ".py",
   "mimetype": "text/x-python",
   "name": "python",
   "nbconvert_exporter": "python",
   "pygments_lexer": "ipython3",
   "version": "3.7.12"
  },
  "papermill": {
   "default_parameters": {},
   "duration": 29.269803,
   "end_time": "2022-04-16T01:10:33.845868",
   "environment_variables": {},
   "exception": null,
   "input_path": "__notebook__.ipynb",
   "output_path": "__notebook__.ipynb",
   "parameters": {},
   "start_time": "2022-04-16T01:10:04.576065",
   "version": "2.3.4"
  }
 },
 "nbformat": 4,
 "nbformat_minor": 5
}
