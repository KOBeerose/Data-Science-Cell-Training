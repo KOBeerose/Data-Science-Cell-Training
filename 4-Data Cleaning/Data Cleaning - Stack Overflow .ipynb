{
 "cells": [
  {
   "cell_type": "markdown",
   "id": "624fbb7f",
   "metadata": {},
   "source": [
    "# Data Cleaning of the Stack Overflow survey Dataset"
   ]
  },
  {
   "cell_type": "markdown",
   "id": "aa26d018",
   "metadata": {},
   "source": [
    "## Simple EDA"
   ]
  },
  {
   "cell_type": "code",
   "execution_count": 1,
   "id": "6a0d37b6",
   "metadata": {},
   "outputs": [],
   "source": [
    "# import libraries\n",
    "import pandas as pd\n",
    "import matplotlib.pyplot as plt\n"
   ]
  },
  {
   "cell_type": "markdown",
   "id": "376b1c75",
   "metadata": {},
   "source": [
    "#### Unzipping files"
   ]
  },
  {
   "cell_type": "code",
   "execution_count": 2,
   "id": "03d18aa0",
   "metadata": {},
   "outputs": [],
   "source": [
    "import zipfile\n",
    "with zipfile.ZipFile(\"..\\data\\stack-overflow-2018-developer-survey.zip\", 'r') as zip_ref:\n",
    "    zip_ref.extractall(\"..\\data\\stack-overflow-2018-developer-survey\")"
   ]
  },
  {
   "cell_type": "markdown",
   "id": "7457dcdc",
   "metadata": {},
   "source": [
    "#### Loading our dataset"
   ]
  },
  {
   "cell_type": "code",
   "execution_count": 3,
   "id": "d86873b0",
   "metadata": {},
   "outputs": [],
   "source": [
    "dataset = pd.read_csv(\"..\\data\\stack-overflow-2018-developer-survey\\survey_results_public.csv\" , low_memory=False)"
   ]
  },
  {
   "cell_type": "code",
   "execution_count": 4,
   "id": "2585938d",
   "metadata": {},
   "outputs": [
    {
     "data": {
      "text/html": [
       "<div>\n",
       "<style scoped>\n",
       "    .dataframe tbody tr th:only-of-type {\n",
       "        vertical-align: middle;\n",
       "    }\n",
       "\n",
       "    .dataframe tbody tr th {\n",
       "        vertical-align: top;\n",
       "    }\n",
       "\n",
       "    .dataframe thead th {\n",
       "        text-align: right;\n",
       "    }\n",
       "</style>\n",
       "<table border=\"1\" class=\"dataframe\">\n",
       "  <thead>\n",
       "    <tr style=\"text-align: right;\">\n",
       "      <th></th>\n",
       "      <th>Respondent</th>\n",
       "      <th>Hobby</th>\n",
       "      <th>OpenSource</th>\n",
       "      <th>Country</th>\n",
       "      <th>Student</th>\n",
       "      <th>Employment</th>\n",
       "      <th>FormalEducation</th>\n",
       "      <th>UndergradMajor</th>\n",
       "      <th>CompanySize</th>\n",
       "      <th>DevType</th>\n",
       "      <th>...</th>\n",
       "      <th>Exercise</th>\n",
       "      <th>Gender</th>\n",
       "      <th>SexualOrientation</th>\n",
       "      <th>EducationParents</th>\n",
       "      <th>RaceEthnicity</th>\n",
       "      <th>Age</th>\n",
       "      <th>Dependents</th>\n",
       "      <th>MilitaryUS</th>\n",
       "      <th>SurveyTooLong</th>\n",
       "      <th>SurveyEasy</th>\n",
       "    </tr>\n",
       "  </thead>\n",
       "  <tbody>\n",
       "    <tr>\n",
       "      <th>0</th>\n",
       "      <td>1</td>\n",
       "      <td>Yes</td>\n",
       "      <td>No</td>\n",
       "      <td>Kenya</td>\n",
       "      <td>No</td>\n",
       "      <td>Employed part-time</td>\n",
       "      <td>Bachelor’s degree (BA, BS, B.Eng., etc.)</td>\n",
       "      <td>Mathematics or statistics</td>\n",
       "      <td>20 to 99 employees</td>\n",
       "      <td>Full-stack developer</td>\n",
       "      <td>...</td>\n",
       "      <td>3 - 4 times per week</td>\n",
       "      <td>Male</td>\n",
       "      <td>Straight or heterosexual</td>\n",
       "      <td>Bachelor’s degree (BA, BS, B.Eng., etc.)</td>\n",
       "      <td>Black or of African descent</td>\n",
       "      <td>25 - 34 years old</td>\n",
       "      <td>Yes</td>\n",
       "      <td>NaN</td>\n",
       "      <td>The survey was an appropriate length</td>\n",
       "      <td>Very easy</td>\n",
       "    </tr>\n",
       "    <tr>\n",
       "      <th>1</th>\n",
       "      <td>3</td>\n",
       "      <td>Yes</td>\n",
       "      <td>Yes</td>\n",
       "      <td>United Kingdom</td>\n",
       "      <td>No</td>\n",
       "      <td>Employed full-time</td>\n",
       "      <td>Bachelor’s degree (BA, BS, B.Eng., etc.)</td>\n",
       "      <td>A natural science (ex. biology, chemistry, phy...</td>\n",
       "      <td>10,000 or more employees</td>\n",
       "      <td>Database administrator;DevOps specialist;Full-...</td>\n",
       "      <td>...</td>\n",
       "      <td>Daily or almost every day</td>\n",
       "      <td>Male</td>\n",
       "      <td>Straight or heterosexual</td>\n",
       "      <td>Bachelor’s degree (BA, BS, B.Eng., etc.)</td>\n",
       "      <td>White or of European descent</td>\n",
       "      <td>35 - 44 years old</td>\n",
       "      <td>Yes</td>\n",
       "      <td>NaN</td>\n",
       "      <td>The survey was an appropriate length</td>\n",
       "      <td>Somewhat easy</td>\n",
       "    </tr>\n",
       "    <tr>\n",
       "      <th>2</th>\n",
       "      <td>4</td>\n",
       "      <td>Yes</td>\n",
       "      <td>Yes</td>\n",
       "      <td>United States</td>\n",
       "      <td>No</td>\n",
       "      <td>Employed full-time</td>\n",
       "      <td>Associate degree</td>\n",
       "      <td>Computer science, computer engineering, or sof...</td>\n",
       "      <td>20 to 99 employees</td>\n",
       "      <td>Engineering manager;Full-stack developer</td>\n",
       "      <td>...</td>\n",
       "      <td>NaN</td>\n",
       "      <td>NaN</td>\n",
       "      <td>NaN</td>\n",
       "      <td>NaN</td>\n",
       "      <td>NaN</td>\n",
       "      <td>NaN</td>\n",
       "      <td>NaN</td>\n",
       "      <td>NaN</td>\n",
       "      <td>NaN</td>\n",
       "      <td>NaN</td>\n",
       "    </tr>\n",
       "    <tr>\n",
       "      <th>3</th>\n",
       "      <td>5</td>\n",
       "      <td>No</td>\n",
       "      <td>No</td>\n",
       "      <td>United States</td>\n",
       "      <td>No</td>\n",
       "      <td>Employed full-time</td>\n",
       "      <td>Bachelor’s degree (BA, BS, B.Eng., etc.)</td>\n",
       "      <td>Computer science, computer engineering, or sof...</td>\n",
       "      <td>100 to 499 employees</td>\n",
       "      <td>Full-stack developer</td>\n",
       "      <td>...</td>\n",
       "      <td>I don't typically exercise</td>\n",
       "      <td>Male</td>\n",
       "      <td>Straight or heterosexual</td>\n",
       "      <td>Some college/university study without earning ...</td>\n",
       "      <td>White or of European descent</td>\n",
       "      <td>35 - 44 years old</td>\n",
       "      <td>No</td>\n",
       "      <td>No</td>\n",
       "      <td>The survey was an appropriate length</td>\n",
       "      <td>Somewhat easy</td>\n",
       "    </tr>\n",
       "    <tr>\n",
       "      <th>4</th>\n",
       "      <td>7</td>\n",
       "      <td>Yes</td>\n",
       "      <td>No</td>\n",
       "      <td>South Africa</td>\n",
       "      <td>Yes, part-time</td>\n",
       "      <td>Employed full-time</td>\n",
       "      <td>Some college/university study without earning ...</td>\n",
       "      <td>Computer science, computer engineering, or sof...</td>\n",
       "      <td>10,000 or more employees</td>\n",
       "      <td>Data or business analyst;Desktop or enterprise...</td>\n",
       "      <td>...</td>\n",
       "      <td>3 - 4 times per week</td>\n",
       "      <td>Male</td>\n",
       "      <td>Straight or heterosexual</td>\n",
       "      <td>Some college/university study without earning ...</td>\n",
       "      <td>White or of European descent</td>\n",
       "      <td>18 - 24 years old</td>\n",
       "      <td>Yes</td>\n",
       "      <td>NaN</td>\n",
       "      <td>The survey was an appropriate length</td>\n",
       "      <td>Somewhat easy</td>\n",
       "    </tr>\n",
       "    <tr>\n",
       "      <th>...</th>\n",
       "      <td>...</td>\n",
       "      <td>...</td>\n",
       "      <td>...</td>\n",
       "      <td>...</td>\n",
       "      <td>...</td>\n",
       "      <td>...</td>\n",
       "      <td>...</td>\n",
       "      <td>...</td>\n",
       "      <td>...</td>\n",
       "      <td>...</td>\n",
       "      <td>...</td>\n",
       "      <td>...</td>\n",
       "      <td>...</td>\n",
       "      <td>...</td>\n",
       "      <td>...</td>\n",
       "      <td>...</td>\n",
       "      <td>...</td>\n",
       "      <td>...</td>\n",
       "      <td>...</td>\n",
       "      <td>...</td>\n",
       "      <td>...</td>\n",
       "    </tr>\n",
       "    <tr>\n",
       "      <th>98850</th>\n",
       "      <td>101513</td>\n",
       "      <td>Yes</td>\n",
       "      <td>Yes</td>\n",
       "      <td>United States</td>\n",
       "      <td>NaN</td>\n",
       "      <td>NaN</td>\n",
       "      <td>NaN</td>\n",
       "      <td>NaN</td>\n",
       "      <td>NaN</td>\n",
       "      <td>NaN</td>\n",
       "      <td>...</td>\n",
       "      <td>NaN</td>\n",
       "      <td>NaN</td>\n",
       "      <td>NaN</td>\n",
       "      <td>NaN</td>\n",
       "      <td>NaN</td>\n",
       "      <td>NaN</td>\n",
       "      <td>NaN</td>\n",
       "      <td>NaN</td>\n",
       "      <td>NaN</td>\n",
       "      <td>NaN</td>\n",
       "    </tr>\n",
       "    <tr>\n",
       "      <th>98851</th>\n",
       "      <td>101531</td>\n",
       "      <td>No</td>\n",
       "      <td>Yes</td>\n",
       "      <td>Spain</td>\n",
       "      <td>Yes, full-time</td>\n",
       "      <td>Not employed, but looking for work</td>\n",
       "      <td>NaN</td>\n",
       "      <td>NaN</td>\n",
       "      <td>NaN</td>\n",
       "      <td>Back-end developer;Front-end developer</td>\n",
       "      <td>...</td>\n",
       "      <td>NaN</td>\n",
       "      <td>NaN</td>\n",
       "      <td>NaN</td>\n",
       "      <td>NaN</td>\n",
       "      <td>NaN</td>\n",
       "      <td>NaN</td>\n",
       "      <td>NaN</td>\n",
       "      <td>NaN</td>\n",
       "      <td>NaN</td>\n",
       "      <td>NaN</td>\n",
       "    </tr>\n",
       "    <tr>\n",
       "      <th>98852</th>\n",
       "      <td>101541</td>\n",
       "      <td>Yes</td>\n",
       "      <td>Yes</td>\n",
       "      <td>India</td>\n",
       "      <td>Yes, full-time</td>\n",
       "      <td>Employed full-time</td>\n",
       "      <td>Bachelor’s degree (BA, BS, B.Eng., etc.)</td>\n",
       "      <td>NaN</td>\n",
       "      <td>NaN</td>\n",
       "      <td>NaN</td>\n",
       "      <td>...</td>\n",
       "      <td>NaN</td>\n",
       "      <td>NaN</td>\n",
       "      <td>NaN</td>\n",
       "      <td>NaN</td>\n",
       "      <td>NaN</td>\n",
       "      <td>NaN</td>\n",
       "      <td>NaN</td>\n",
       "      <td>NaN</td>\n",
       "      <td>NaN</td>\n",
       "      <td>NaN</td>\n",
       "    </tr>\n",
       "    <tr>\n",
       "      <th>98853</th>\n",
       "      <td>101544</td>\n",
       "      <td>Yes</td>\n",
       "      <td>No</td>\n",
       "      <td>Russian Federation</td>\n",
       "      <td>No</td>\n",
       "      <td>Independent contractor, freelancer, or self-em...</td>\n",
       "      <td>Some college/university study without earning ...</td>\n",
       "      <td>NaN</td>\n",
       "      <td>NaN</td>\n",
       "      <td>NaN</td>\n",
       "      <td>...</td>\n",
       "      <td>NaN</td>\n",
       "      <td>NaN</td>\n",
       "      <td>NaN</td>\n",
       "      <td>NaN</td>\n",
       "      <td>NaN</td>\n",
       "      <td>NaN</td>\n",
       "      <td>NaN</td>\n",
       "      <td>NaN</td>\n",
       "      <td>NaN</td>\n",
       "      <td>NaN</td>\n",
       "    </tr>\n",
       "    <tr>\n",
       "      <th>98854</th>\n",
       "      <td>101548</td>\n",
       "      <td>Yes</td>\n",
       "      <td>Yes</td>\n",
       "      <td>Cambodia</td>\n",
       "      <td>NaN</td>\n",
       "      <td>NaN</td>\n",
       "      <td>NaN</td>\n",
       "      <td>NaN</td>\n",
       "      <td>NaN</td>\n",
       "      <td>NaN</td>\n",
       "      <td>...</td>\n",
       "      <td>NaN</td>\n",
       "      <td>NaN</td>\n",
       "      <td>NaN</td>\n",
       "      <td>NaN</td>\n",
       "      <td>NaN</td>\n",
       "      <td>NaN</td>\n",
       "      <td>NaN</td>\n",
       "      <td>NaN</td>\n",
       "      <td>NaN</td>\n",
       "      <td>NaN</td>\n",
       "    </tr>\n",
       "  </tbody>\n",
       "</table>\n",
       "<p>98855 rows × 129 columns</p>\n",
       "</div>"
      ],
      "text/plain": [
       "       Respondent Hobby OpenSource             Country         Student  \\\n",
       "0               1   Yes         No               Kenya              No   \n",
       "1               3   Yes        Yes      United Kingdom              No   \n",
       "2               4   Yes        Yes       United States              No   \n",
       "3               5    No         No       United States              No   \n",
       "4               7   Yes         No        South Africa  Yes, part-time   \n",
       "...           ...   ...        ...                 ...             ...   \n",
       "98850      101513   Yes        Yes       United States             NaN   \n",
       "98851      101531    No        Yes               Spain  Yes, full-time   \n",
       "98852      101541   Yes        Yes               India  Yes, full-time   \n",
       "98853      101544   Yes         No  Russian Federation              No   \n",
       "98854      101548   Yes        Yes            Cambodia             NaN   \n",
       "\n",
       "                                              Employment  \\\n",
       "0                                     Employed part-time   \n",
       "1                                     Employed full-time   \n",
       "2                                     Employed full-time   \n",
       "3                                     Employed full-time   \n",
       "4                                     Employed full-time   \n",
       "...                                                  ...   \n",
       "98850                                                NaN   \n",
       "98851                 Not employed, but looking for work   \n",
       "98852                                 Employed full-time   \n",
       "98853  Independent contractor, freelancer, or self-em...   \n",
       "98854                                                NaN   \n",
       "\n",
       "                                         FormalEducation  \\\n",
       "0               Bachelor’s degree (BA, BS, B.Eng., etc.)   \n",
       "1               Bachelor’s degree (BA, BS, B.Eng., etc.)   \n",
       "2                                       Associate degree   \n",
       "3               Bachelor’s degree (BA, BS, B.Eng., etc.)   \n",
       "4      Some college/university study without earning ...   \n",
       "...                                                  ...   \n",
       "98850                                                NaN   \n",
       "98851                                                NaN   \n",
       "98852           Bachelor’s degree (BA, BS, B.Eng., etc.)   \n",
       "98853  Some college/university study without earning ...   \n",
       "98854                                                NaN   \n",
       "\n",
       "                                          UndergradMajor  \\\n",
       "0                              Mathematics or statistics   \n",
       "1      A natural science (ex. biology, chemistry, phy...   \n",
       "2      Computer science, computer engineering, or sof...   \n",
       "3      Computer science, computer engineering, or sof...   \n",
       "4      Computer science, computer engineering, or sof...   \n",
       "...                                                  ...   \n",
       "98850                                                NaN   \n",
       "98851                                                NaN   \n",
       "98852                                                NaN   \n",
       "98853                                                NaN   \n",
       "98854                                                NaN   \n",
       "\n",
       "                    CompanySize  \\\n",
       "0            20 to 99 employees   \n",
       "1      10,000 or more employees   \n",
       "2            20 to 99 employees   \n",
       "3          100 to 499 employees   \n",
       "4      10,000 or more employees   \n",
       "...                         ...   \n",
       "98850                       NaN   \n",
       "98851                       NaN   \n",
       "98852                       NaN   \n",
       "98853                       NaN   \n",
       "98854                       NaN   \n",
       "\n",
       "                                                 DevType  ...  \\\n",
       "0                                   Full-stack developer  ...   \n",
       "1      Database administrator;DevOps specialist;Full-...  ...   \n",
       "2               Engineering manager;Full-stack developer  ...   \n",
       "3                                   Full-stack developer  ...   \n",
       "4      Data or business analyst;Desktop or enterprise...  ...   \n",
       "...                                                  ...  ...   \n",
       "98850                                                NaN  ...   \n",
       "98851             Back-end developer;Front-end developer  ...   \n",
       "98852                                                NaN  ...   \n",
       "98853                                                NaN  ...   \n",
       "98854                                                NaN  ...   \n",
       "\n",
       "                         Exercise Gender         SexualOrientation  \\\n",
       "0            3 - 4 times per week   Male  Straight or heterosexual   \n",
       "1       Daily or almost every day   Male  Straight or heterosexual   \n",
       "2                             NaN    NaN                       NaN   \n",
       "3      I don't typically exercise   Male  Straight or heterosexual   \n",
       "4            3 - 4 times per week   Male  Straight or heterosexual   \n",
       "...                           ...    ...                       ...   \n",
       "98850                         NaN    NaN                       NaN   \n",
       "98851                         NaN    NaN                       NaN   \n",
       "98852                         NaN    NaN                       NaN   \n",
       "98853                         NaN    NaN                       NaN   \n",
       "98854                         NaN    NaN                       NaN   \n",
       "\n",
       "                                        EducationParents  \\\n",
       "0               Bachelor’s degree (BA, BS, B.Eng., etc.)   \n",
       "1               Bachelor’s degree (BA, BS, B.Eng., etc.)   \n",
       "2                                                    NaN   \n",
       "3      Some college/university study without earning ...   \n",
       "4      Some college/university study without earning ...   \n",
       "...                                                  ...   \n",
       "98850                                                NaN   \n",
       "98851                                                NaN   \n",
       "98852                                                NaN   \n",
       "98853                                                NaN   \n",
       "98854                                                NaN   \n",
       "\n",
       "                      RaceEthnicity                Age Dependents  MilitaryUS  \\\n",
       "0       Black or of African descent  25 - 34 years old        Yes         NaN   \n",
       "1      White or of European descent  35 - 44 years old        Yes         NaN   \n",
       "2                               NaN                NaN        NaN         NaN   \n",
       "3      White or of European descent  35 - 44 years old         No          No   \n",
       "4      White or of European descent  18 - 24 years old        Yes         NaN   \n",
       "...                             ...                ...        ...         ...   \n",
       "98850                           NaN                NaN        NaN         NaN   \n",
       "98851                           NaN                NaN        NaN         NaN   \n",
       "98852                           NaN                NaN        NaN         NaN   \n",
       "98853                           NaN                NaN        NaN         NaN   \n",
       "98854                           NaN                NaN        NaN         NaN   \n",
       "\n",
       "                              SurveyTooLong     SurveyEasy  \n",
       "0      The survey was an appropriate length      Very easy  \n",
       "1      The survey was an appropriate length  Somewhat easy  \n",
       "2                                       NaN            NaN  \n",
       "3      The survey was an appropriate length  Somewhat easy  \n",
       "4      The survey was an appropriate length  Somewhat easy  \n",
       "...                                     ...            ...  \n",
       "98850                                   NaN            NaN  \n",
       "98851                                   NaN            NaN  \n",
       "98852                                   NaN            NaN  \n",
       "98853                                   NaN            NaN  \n",
       "98854                                   NaN            NaN  \n",
       "\n",
       "[98855 rows x 129 columns]"
      ]
     },
     "execution_count": 4,
     "metadata": {},
     "output_type": "execute_result"
    }
   ],
   "source": [
    "dataset"
   ]
  },
  {
   "cell_type": "code",
   "execution_count": 5,
   "id": "bcfbedf6",
   "metadata": {},
   "outputs": [
    {
     "data": {
      "text/plain": [
       "(98855, 129)"
      ]
     },
     "execution_count": 5,
     "metadata": {},
     "output_type": "execute_result"
    }
   ],
   "source": [
    "dataset.shape"
   ]
  },
  {
   "cell_type": "code",
   "execution_count": 6,
   "id": "c32a2f93",
   "metadata": {},
   "outputs": [
    {
     "name": "stdout",
     "output_type": "stream",
     "text": [
      "<class 'pandas.core.frame.DataFrame'>\n",
      "RangeIndex: 98855 entries, 0 to 98854\n",
      "Data columns (total 129 columns):\n",
      " #    Column                       Non-Null Count  Dtype  \n",
      "---   ------                       --------------  -----  \n",
      " 0    Respondent                   98855 non-null  int64  \n",
      " 1    Hobby                        98855 non-null  object \n",
      " 2    OpenSource                   98855 non-null  object \n",
      " 3    Country                      98443 non-null  object \n",
      " 4    Student                      94901 non-null  object \n",
      " 5    Employment                   95321 non-null  object \n",
      " 6    FormalEducation              94703 non-null  object \n",
      " 7    UndergradMajor               79036 non-null  object \n",
      " 8    CompanySize                  71531 non-null  object \n",
      " 9    DevType                      92098 non-null  object \n",
      " 10   YearsCoding                  93835 non-null  object \n",
      " 11   YearsCodingProf              77903 non-null  object \n",
      " 12   JobSatisfaction              69276 non-null  object \n",
      " 13   CareerSatisfaction           76504 non-null  object \n",
      " 14   HopeFiveYears                75718 non-null  object \n",
      " 15   JobSearchStatus              79488 non-null  object \n",
      " 16   LastNewJob                   78889 non-null  object \n",
      " 17   AssessJob1                   66985 non-null  float64\n",
      " 18   AssessJob2                   66985 non-null  float64\n",
      " 19   AssessJob3                   66985 non-null  float64\n",
      " 20   AssessJob4                   66985 non-null  float64\n",
      " 21   AssessJob5                   66985 non-null  float64\n",
      " 22   AssessJob6                   66985 non-null  float64\n",
      " 23   AssessJob7                   66985 non-null  float64\n",
      " 24   AssessJob8                   66985 non-null  float64\n",
      " 25   AssessJob9                   66985 non-null  float64\n",
      " 26   AssessJob10                  66985 non-null  float64\n",
      " 27   AssessBenefits1              64918 non-null  float64\n",
      " 28   AssessBenefits2              64918 non-null  float64\n",
      " 29   AssessBenefits3              64918 non-null  float64\n",
      " 30   AssessBenefits4              64918 non-null  float64\n",
      " 31   AssessBenefits5              64918 non-null  float64\n",
      " 32   AssessBenefits6              64918 non-null  float64\n",
      " 33   AssessBenefits7              64918 non-null  float64\n",
      " 34   AssessBenefits8              64918 non-null  float64\n",
      " 35   AssessBenefits9              64918 non-null  float64\n",
      " 36   AssessBenefits10             64918 non-null  float64\n",
      " 37   AssessBenefits11             64917 non-null  float64\n",
      " 38   JobContactPriorities1        48706 non-null  float64\n",
      " 39   JobContactPriorities2        48706 non-null  float64\n",
      " 40   JobContactPriorities3        48706 non-null  float64\n",
      " 41   JobContactPriorities4        48706 non-null  float64\n",
      " 42   JobContactPriorities5        48706 non-null  float64\n",
      " 43   JobEmailPriorities1          46213 non-null  float64\n",
      " 44   JobEmailPriorities2          46213 non-null  float64\n",
      " 45   JobEmailPriorities3          46213 non-null  float64\n",
      " 46   JobEmailPriorities4          46213 non-null  float64\n",
      " 47   JobEmailPriorities5          46213 non-null  float64\n",
      " 48   JobEmailPriorities6          46213 non-null  float64\n",
      " 49   JobEmailPriorities7          46213 non-null  float64\n",
      " 50   UpdateCV                     65539 non-null  object \n",
      " 51   Currency                     62008 non-null  object \n",
      " 52   Salary                       50578 non-null  object \n",
      " 53   SalaryType                   51070 non-null  object \n",
      " 54   ConvertedSalary              47702 non-null  float64\n",
      " 55   CurrencySymbol               58650 non-null  object \n",
      " 56   CommunicationTools           56970 non-null  object \n",
      " 57   TimeFullyProductive          51872 non-null  object \n",
      " 58   EducationTypes               67960 non-null  object \n",
      " 59   SelfTaughtTypes              57354 non-null  object \n",
      " 60   TimeAfterBootcamp            6652 non-null   object \n",
      " 61   HackathonReasons             25691 non-null  object \n",
      " 62   AgreeDisagree1               68217 non-null  object \n",
      " 63   AgreeDisagree2               68346 non-null  object \n",
      " 64   AgreeDisagree3               68364 non-null  object \n",
      " 65   LanguageWorkedWith           78334 non-null  object \n",
      " 66   LanguageDesireNextYear       73244 non-null  object \n",
      " 67   DatabaseWorkedWith           66270 non-null  object \n",
      " 68   DatabaseDesireNextYear       57498 non-null  object \n",
      " 69   PlatformWorkedWith           65999 non-null  object \n",
      " 70   PlatformDesireNextYear       61353 non-null  object \n",
      " 71   FrameworkWorkedWith          51620 non-null  object \n",
      " 72   FrameworkDesireNextYear      55218 non-null  object \n",
      " 73   IDE                          75398 non-null  object \n",
      " 74   OperatingSystem              76179 non-null  object \n",
      " 75   NumberMonitors               76398 non-null  object \n",
      " 76   Methodology                  58981 non-null  object \n",
      " 77   VersionControl               74298 non-null  object \n",
      " 78   CheckInCode                  72355 non-null  object \n",
      " 79   AdBlocker                    76055 non-null  object \n",
      " 80   AdBlockerDisable             54898 non-null  object \n",
      " 81   AdBlockerReasons             37745 non-null  object \n",
      " 82   AdsAgreeDisagree1            74485 non-null  object \n",
      " 83   AdsAgreeDisagree2            74413 non-null  object \n",
      " 84   AdsAgreeDisagree3            74414 non-null  object \n",
      " 85   AdsActions                   59514 non-null  object \n",
      " 86   AdsPriorities1               60479 non-null  float64\n",
      " 87   AdsPriorities2               60479 non-null  float64\n",
      " 88   AdsPriorities3               60479 non-null  float64\n",
      " 89   AdsPriorities4               60479 non-null  float64\n",
      " 90   AdsPriorities5               60479 non-null  float64\n",
      " 91   AdsPriorities6               60479 non-null  float64\n",
      " 92   AdsPriorities7               60479 non-null  float64\n",
      " 93   AIDangerous                  63115 non-null  object \n",
      " 94   AIInteresting                65367 non-null  object \n",
      " 95   AIResponsible                65553 non-null  object \n",
      " 96   AIFuture                     69728 non-null  object \n",
      " 97   EthicsChoice                 70782 non-null  object \n",
      " 98   EthicsReport                 70426 non-null  object \n",
      " 99   EthicsResponsible            64540 non-null  object \n",
      " 100  EthicalImplications          69309 non-null  object \n",
      " 101  StackOverflowRecommend       76489 non-null  object \n",
      " 102  StackOverflowVisit           76811 non-null  object \n",
      " 103  StackOverflowHasAccount      76791 non-null  object \n",
      " 104  StackOverflowParticipate     65740 non-null  object \n",
      " 105  StackOverflowJobs            75297 non-null  object \n",
      " 106  StackOverflowDevStory        65677 non-null  object \n",
      " 107  StackOverflowJobsRecommend   38317 non-null  object \n",
      " 108  StackOverflowConsiderMember  76007 non-null  object \n",
      " 109  HypotheticalTools1           70068 non-null  object \n",
      " 110  HypotheticalTools2           70052 non-null  object \n",
      " 111  HypotheticalTools3           69999 non-null  object \n",
      " 112  HypotheticalTools4           69986 non-null  object \n",
      " 113  HypotheticalTools5           70045 non-null  object \n",
      " 114  WakeTime                     72146 non-null  object \n",
      " 115  HoursComputer                72133 non-null  object \n",
      " 116  HoursOutside                 72024 non-null  object \n",
      " 117  SkipMeals                    71946 non-null  object \n",
      " 118  ErgonomicDevices             34058 non-null  object \n",
      " 119  Exercise                     72108 non-null  object \n",
      " 120  Gender                       64469 non-null  object \n",
      " 121  SexualOrientation            59765 non-null  object \n",
      " 122  EducationParents             61813 non-null  object \n",
      " 123  RaceEthnicity                57473 non-null  object \n",
      " 124  Age                          64574 non-null  object \n",
      " 125  Dependents                   62596 non-null  object \n",
      " 126  MilitaryUS                   15781 non-null  object \n",
      " 127  SurveyTooLong                65941 non-null  object \n",
      " 128  SurveyEasy                   65879 non-null  object \n",
      "dtypes: float64(41), int64(1), object(87)\n",
      "memory usage: 97.3+ MB\n"
     ]
    }
   ],
   "source": [
    "dataset.info(max_cols=129)"
   ]
  },
  {
   "cell_type": "code",
   "execution_count": 7,
   "id": "3478f170",
   "metadata": {},
   "outputs": [
    {
     "data": {
      "text/html": [
       "<div>\n",
       "<style scoped>\n",
       "    .dataframe tbody tr th:only-of-type {\n",
       "        vertical-align: middle;\n",
       "    }\n",
       "\n",
       "    .dataframe tbody tr th {\n",
       "        vertical-align: top;\n",
       "    }\n",
       "\n",
       "    .dataframe thead th {\n",
       "        text-align: right;\n",
       "    }\n",
       "</style>\n",
       "<table border=\"1\" class=\"dataframe\">\n",
       "  <thead>\n",
       "    <tr style=\"text-align: right;\">\n",
       "      <th></th>\n",
       "      <th>Respondent</th>\n",
       "      <th>AssessJob1</th>\n",
       "      <th>AssessJob2</th>\n",
       "      <th>AssessJob3</th>\n",
       "      <th>AssessJob4</th>\n",
       "      <th>AssessJob5</th>\n",
       "      <th>AssessJob6</th>\n",
       "      <th>AssessJob7</th>\n",
       "      <th>AssessJob8</th>\n",
       "      <th>AssessJob9</th>\n",
       "      <th>...</th>\n",
       "      <th>JobEmailPriorities6</th>\n",
       "      <th>JobEmailPriorities7</th>\n",
       "      <th>ConvertedSalary</th>\n",
       "      <th>AdsPriorities1</th>\n",
       "      <th>AdsPriorities2</th>\n",
       "      <th>AdsPriorities3</th>\n",
       "      <th>AdsPriorities4</th>\n",
       "      <th>AdsPriorities5</th>\n",
       "      <th>AdsPriorities6</th>\n",
       "      <th>AdsPriorities7</th>\n",
       "    </tr>\n",
       "  </thead>\n",
       "  <tbody>\n",
       "    <tr>\n",
       "      <th>count</th>\n",
       "      <td>98855.000000</td>\n",
       "      <td>66985.000000</td>\n",
       "      <td>66985.000000</td>\n",
       "      <td>66985.000000</td>\n",
       "      <td>66985.000000</td>\n",
       "      <td>66985.000000</td>\n",
       "      <td>66985.000000</td>\n",
       "      <td>66985.000000</td>\n",
       "      <td>66985.000000</td>\n",
       "      <td>66985.000000</td>\n",
       "      <td>...</td>\n",
       "      <td>46213.00000</td>\n",
       "      <td>46213.000000</td>\n",
       "      <td>4.770200e+04</td>\n",
       "      <td>60479.000000</td>\n",
       "      <td>60479.000000</td>\n",
       "      <td>60479.000000</td>\n",
       "      <td>60479.000000</td>\n",
       "      <td>60479.000000</td>\n",
       "      <td>60479.000000</td>\n",
       "      <td>60479.000000</td>\n",
       "    </tr>\n",
       "    <tr>\n",
       "      <th>mean</th>\n",
       "      <td>50822.971635</td>\n",
       "      <td>6.397089</td>\n",
       "      <td>6.673524</td>\n",
       "      <td>5.906875</td>\n",
       "      <td>4.065791</td>\n",
       "      <td>3.953243</td>\n",
       "      <td>4.407196</td>\n",
       "      <td>5.673181</td>\n",
       "      <td>4.225200</td>\n",
       "      <td>7.640009</td>\n",
       "      <td>...</td>\n",
       "      <td>4.97425</td>\n",
       "      <td>4.836388</td>\n",
       "      <td>9.578086e+04</td>\n",
       "      <td>2.726880</td>\n",
       "      <td>3.805784</td>\n",
       "      <td>3.340945</td>\n",
       "      <td>3.782470</td>\n",
       "      <td>4.383604</td>\n",
       "      <td>5.138809</td>\n",
       "      <td>4.821459</td>\n",
       "    </tr>\n",
       "    <tr>\n",
       "      <th>std</th>\n",
       "      <td>29321.650410</td>\n",
       "      <td>2.788428</td>\n",
       "      <td>2.531202</td>\n",
       "      <td>2.642734</td>\n",
       "      <td>2.541196</td>\n",
       "      <td>2.520499</td>\n",
       "      <td>2.502069</td>\n",
       "      <td>2.923998</td>\n",
       "      <td>2.507411</td>\n",
       "      <td>2.407457</td>\n",
       "      <td>...</td>\n",
       "      <td>1.86063</td>\n",
       "      <td>1.659844</td>\n",
       "      <td>2.023482e+05</td>\n",
       "      <td>1.881078</td>\n",
       "      <td>1.821323</td>\n",
       "      <td>1.673485</td>\n",
       "      <td>1.844864</td>\n",
       "      <td>1.931746</td>\n",
       "      <td>1.853249</td>\n",
       "      <td>1.874895</td>\n",
       "    </tr>\n",
       "    <tr>\n",
       "      <th>min</th>\n",
       "      <td>1.000000</td>\n",
       "      <td>1.000000</td>\n",
       "      <td>1.000000</td>\n",
       "      <td>1.000000</td>\n",
       "      <td>1.000000</td>\n",
       "      <td>1.000000</td>\n",
       "      <td>1.000000</td>\n",
       "      <td>1.000000</td>\n",
       "      <td>1.000000</td>\n",
       "      <td>1.000000</td>\n",
       "      <td>...</td>\n",
       "      <td>1.00000</td>\n",
       "      <td>1.000000</td>\n",
       "      <td>0.000000e+00</td>\n",
       "      <td>1.000000</td>\n",
       "      <td>1.000000</td>\n",
       "      <td>1.000000</td>\n",
       "      <td>1.000000</td>\n",
       "      <td>1.000000</td>\n",
       "      <td>1.000000</td>\n",
       "      <td>1.000000</td>\n",
       "    </tr>\n",
       "    <tr>\n",
       "      <th>25%</th>\n",
       "      <td>25443.500000</td>\n",
       "      <td>4.000000</td>\n",
       "      <td>5.000000</td>\n",
       "      <td>4.000000</td>\n",
       "      <td>2.000000</td>\n",
       "      <td>2.000000</td>\n",
       "      <td>2.000000</td>\n",
       "      <td>3.000000</td>\n",
       "      <td>2.000000</td>\n",
       "      <td>6.000000</td>\n",
       "      <td>...</td>\n",
       "      <td>4.00000</td>\n",
       "      <td>4.000000</td>\n",
       "      <td>2.384400e+04</td>\n",
       "      <td>1.000000</td>\n",
       "      <td>2.000000</td>\n",
       "      <td>2.000000</td>\n",
       "      <td>2.000000</td>\n",
       "      <td>3.000000</td>\n",
       "      <td>4.000000</td>\n",
       "      <td>3.000000</td>\n",
       "    </tr>\n",
       "    <tr>\n",
       "      <th>50%</th>\n",
       "      <td>50823.000000</td>\n",
       "      <td>7.000000</td>\n",
       "      <td>7.000000</td>\n",
       "      <td>6.000000</td>\n",
       "      <td>4.000000</td>\n",
       "      <td>3.000000</td>\n",
       "      <td>4.000000</td>\n",
       "      <td>6.000000</td>\n",
       "      <td>4.000000</td>\n",
       "      <td>8.000000</td>\n",
       "      <td>...</td>\n",
       "      <td>5.00000</td>\n",
       "      <td>5.000000</td>\n",
       "      <td>5.507500e+04</td>\n",
       "      <td>2.000000</td>\n",
       "      <td>4.000000</td>\n",
       "      <td>3.000000</td>\n",
       "      <td>4.000000</td>\n",
       "      <td>5.000000</td>\n",
       "      <td>6.000000</td>\n",
       "      <td>5.000000</td>\n",
       "    </tr>\n",
       "    <tr>\n",
       "      <th>75%</th>\n",
       "      <td>76219.500000</td>\n",
       "      <td>9.000000</td>\n",
       "      <td>9.000000</td>\n",
       "      <td>8.000000</td>\n",
       "      <td>6.000000</td>\n",
       "      <td>6.000000</td>\n",
       "      <td>6.000000</td>\n",
       "      <td>8.000000</td>\n",
       "      <td>6.000000</td>\n",
       "      <td>10.000000</td>\n",
       "      <td>...</td>\n",
       "      <td>7.00000</td>\n",
       "      <td>6.000000</td>\n",
       "      <td>9.300000e+04</td>\n",
       "      <td>4.000000</td>\n",
       "      <td>5.000000</td>\n",
       "      <td>5.000000</td>\n",
       "      <td>5.000000</td>\n",
       "      <td>6.000000</td>\n",
       "      <td>7.000000</td>\n",
       "      <td>7.000000</td>\n",
       "    </tr>\n",
       "    <tr>\n",
       "      <th>max</th>\n",
       "      <td>101592.000000</td>\n",
       "      <td>10.000000</td>\n",
       "      <td>10.000000</td>\n",
       "      <td>10.000000</td>\n",
       "      <td>10.000000</td>\n",
       "      <td>10.000000</td>\n",
       "      <td>10.000000</td>\n",
       "      <td>10.000000</td>\n",
       "      <td>10.000000</td>\n",
       "      <td>10.000000</td>\n",
       "      <td>...</td>\n",
       "      <td>7.00000</td>\n",
       "      <td>7.000000</td>\n",
       "      <td>2.000000e+06</td>\n",
       "      <td>7.000000</td>\n",
       "      <td>7.000000</td>\n",
       "      <td>7.000000</td>\n",
       "      <td>7.000000</td>\n",
       "      <td>7.000000</td>\n",
       "      <td>7.000000</td>\n",
       "      <td>7.000000</td>\n",
       "    </tr>\n",
       "  </tbody>\n",
       "</table>\n",
       "<p>8 rows × 42 columns</p>\n",
       "</div>"
      ],
      "text/plain": [
       "          Respondent    AssessJob1    AssessJob2    AssessJob3    AssessJob4  \\\n",
       "count   98855.000000  66985.000000  66985.000000  66985.000000  66985.000000   \n",
       "mean    50822.971635      6.397089      6.673524      5.906875      4.065791   \n",
       "std     29321.650410      2.788428      2.531202      2.642734      2.541196   \n",
       "min         1.000000      1.000000      1.000000      1.000000      1.000000   \n",
       "25%     25443.500000      4.000000      5.000000      4.000000      2.000000   \n",
       "50%     50823.000000      7.000000      7.000000      6.000000      4.000000   \n",
       "75%     76219.500000      9.000000      9.000000      8.000000      6.000000   \n",
       "max    101592.000000     10.000000     10.000000     10.000000     10.000000   \n",
       "\n",
       "         AssessJob5    AssessJob6    AssessJob7    AssessJob8    AssessJob9  \\\n",
       "count  66985.000000  66985.000000  66985.000000  66985.000000  66985.000000   \n",
       "mean       3.953243      4.407196      5.673181      4.225200      7.640009   \n",
       "std        2.520499      2.502069      2.923998      2.507411      2.407457   \n",
       "min        1.000000      1.000000      1.000000      1.000000      1.000000   \n",
       "25%        2.000000      2.000000      3.000000      2.000000      6.000000   \n",
       "50%        3.000000      4.000000      6.000000      4.000000      8.000000   \n",
       "75%        6.000000      6.000000      8.000000      6.000000     10.000000   \n",
       "max       10.000000     10.000000     10.000000     10.000000     10.000000   \n",
       "\n",
       "       ...  JobEmailPriorities6  JobEmailPriorities7  ConvertedSalary  \\\n",
       "count  ...          46213.00000         46213.000000     4.770200e+04   \n",
       "mean   ...              4.97425             4.836388     9.578086e+04   \n",
       "std    ...              1.86063             1.659844     2.023482e+05   \n",
       "min    ...              1.00000             1.000000     0.000000e+00   \n",
       "25%    ...              4.00000             4.000000     2.384400e+04   \n",
       "50%    ...              5.00000             5.000000     5.507500e+04   \n",
       "75%    ...              7.00000             6.000000     9.300000e+04   \n",
       "max    ...              7.00000             7.000000     2.000000e+06   \n",
       "\n",
       "       AdsPriorities1  AdsPriorities2  AdsPriorities3  AdsPriorities4  \\\n",
       "count    60479.000000    60479.000000    60479.000000    60479.000000   \n",
       "mean         2.726880        3.805784        3.340945        3.782470   \n",
       "std          1.881078        1.821323        1.673485        1.844864   \n",
       "min          1.000000        1.000000        1.000000        1.000000   \n",
       "25%          1.000000        2.000000        2.000000        2.000000   \n",
       "50%          2.000000        4.000000        3.000000        4.000000   \n",
       "75%          4.000000        5.000000        5.000000        5.000000   \n",
       "max          7.000000        7.000000        7.000000        7.000000   \n",
       "\n",
       "       AdsPriorities5  AdsPriorities6  AdsPriorities7  \n",
       "count    60479.000000    60479.000000    60479.000000  \n",
       "mean         4.383604        5.138809        4.821459  \n",
       "std          1.931746        1.853249        1.874895  \n",
       "min          1.000000        1.000000        1.000000  \n",
       "25%          3.000000        4.000000        3.000000  \n",
       "50%          5.000000        6.000000        5.000000  \n",
       "75%          6.000000        7.000000        7.000000  \n",
       "max          7.000000        7.000000        7.000000  \n",
       "\n",
       "[8 rows x 42 columns]"
      ]
     },
     "execution_count": 7,
     "metadata": {},
     "output_type": "execute_result"
    }
   ],
   "source": [
    "dataset.describe()"
   ]
  },
  {
   "cell_type": "markdown",
   "id": "47741d4e",
   "metadata": {},
   "source": [
    "#### Salary"
   ]
  },
  {
   "cell_type": "markdown",
   "id": "71506c33",
   "metadata": {},
   "source": [
    "checking empy values"
   ]
  },
  {
   "cell_type": "code",
   "execution_count": 8,
   "id": "25c1893c",
   "metadata": {},
   "outputs": [
    {
     "data": {
      "text/plain": [
       "51153"
      ]
     },
     "execution_count": 8,
     "metadata": {},
     "output_type": "execute_result"
    }
   ],
   "source": [
    "dataset[\"ConvertedSalary\"].isna().sum()"
   ]
  },
  {
   "cell_type": "code",
   "execution_count": 9,
   "id": "8bf48ff7",
   "metadata": {},
   "outputs": [
    {
     "data": {
      "text/plain": [
       "51.74548581255374"
      ]
     },
     "execution_count": 9,
     "metadata": {},
     "output_type": "execute_result"
    }
   ],
   "source": [
    "(dataset[\"ConvertedSalary\"].isna().sum() / dataset.shape[0])*100"
   ]
  },
  {
   "cell_type": "code",
   "execution_count": 10,
   "id": "31c6078f",
   "metadata": {},
   "outputs": [
    {
     "data": {
      "text/plain": [
       "70841.0"
      ]
     },
     "execution_count": 10,
     "metadata": {},
     "output_type": "execute_result"
    }
   ],
   "source": [
    "dataset[\"ConvertedSalary\"][1]"
   ]
  },
  {
   "cell_type": "code",
   "execution_count": 11,
   "id": "2df658af",
   "metadata": {
    "scrolled": true
   },
   "outputs": [
    {
     "data": {
      "image/png": "[encoded data removed]",
      "text/plain": [
       "<Figure size 1080x720 with 1 Axes>"
      ]
     },
     "metadata": {
      "needs_background": "light"
     },
     "output_type": "display_data"
    }
   ],
   "source": [
    "plt.rcParams[\"figure.figsize\"] = (15,10)\n",
    "x = dataset[\"ConvertedSalary\"]\n",
    "plt.hist(x, bins =100)\n",
    "plt.show()"
   ]
  },
  {
   "cell_type": "code",
   "execution_count": null,
   "id": "83b6abb9",
   "metadata": {},
   "outputs": [],
   "source": []
  },
  {
   "cell_type": "markdown",
   "id": "bc3a09b1",
   "metadata": {},
   "source": [
    "#### Age"
   ]
  },
  {
   "cell_type": "code",
   "execution_count": 12,
   "id": "fcfe03b4",
   "metadata": {},
   "outputs": [
    {
     "data": {
      "text/plain": [
       "34281"
      ]
     },
     "execution_count": 12,
     "metadata": {},
     "output_type": "execute_result"
    }
   ],
   "source": [
    "dataset[\"Age\"].isna().sum()"
   ]
  },
  {
   "cell_type": "code",
   "execution_count": 13,
   "id": "239bac15",
   "metadata": {
    "scrolled": true
   },
   "outputs": [
    {
     "data": {
      "text/plain": [
       "0        25 - 34 years old\n",
       "1        35 - 44 years old\n",
       "2                      NaN\n",
       "3        35 - 44 years old\n",
       "4        18 - 24 years old\n",
       "               ...        \n",
       "98850                  NaN\n",
       "98851                  NaN\n",
       "98852                  NaN\n",
       "98853                  NaN\n",
       "98854                  NaN\n",
       "Name: Age, Length: 98855, dtype: object"
      ]
     },
     "execution_count": 13,
     "metadata": {},
     "output_type": "execute_result"
    }
   ],
   "source": [
    "dataset[\"Age\"]"
   ]
  },
  {
   "cell_type": "code",
   "execution_count": 14,
   "id": "a8854845",
   "metadata": {
    "scrolled": true
   },
   "outputs": [
    {
     "data": {
      "text/plain": [
       "25 - 34 years old     31759\n",
       "18 - 24 years old     15249\n",
       "35 - 44 years old     11477\n",
       "45 - 54 years old      3313\n",
       "Under 18 years old     1638\n",
       "55 - 64 years old       959\n",
       "65 years or older       179\n",
       "Name: Age, dtype: int64"
      ]
     },
     "execution_count": 14,
     "metadata": {},
     "output_type": "execute_result"
    }
   ],
   "source": [
    "dataset[\"Age\"].value_counts()"
   ]
  },
  {
   "cell_type": "code",
   "execution_count": 15,
   "id": "b054bca9",
   "metadata": {
    "scrolled": true
   },
   "outputs": [
    {
     "data": {
      "image/png": "[encoded data removed]",
      "text/plain": [
       "<Figure size 1080x720 with 1 Axes>"
      ]
     },
     "metadata": {
      "needs_background": "light"
     },
     "output_type": "display_data"
    }
   ],
   "source": [
    "dataset[\"Age\"].value_counts().reindex([\"Under 18 years old\",\n",
    "\"25 - 34 years old\",\n",
    "\"18 - 24 years old\",\n",
    "\"35 - 44 years old\",\n",
    "\"45 - 54 years old\",\n",
    "\"55 - 64 years old\",\n",
    "\"65 years or old\"]).plot(kind =\"bar\")\n",
    "plt.show()"
   ]
  },
  {
   "cell_type": "code",
   "execution_count": 16,
   "id": "ca1409b1",
   "metadata": {},
   "outputs": [
    {
     "data": {
      "text/plain": [
       "count                 64574\n",
       "unique                    7\n",
       "top       25 - 34 years old\n",
       "freq                  31759\n",
       "Name: Age, dtype: object"
      ]
     },
     "execution_count": 16,
     "metadata": {},
     "output_type": "execute_result"
    }
   ],
   "source": [
    "dataset[\"Age\"].describe()"
   ]
  },
  {
   "cell_type": "code",
   "execution_count": 17,
   "id": "ab86efef",
   "metadata": {},
   "outputs": [],
   "source": [
    "dataset[\"Age\"] =  dataset[\"Age\"].fillna(\"25 - 34 years old\")"
   ]
  },
  {
   "cell_type": "code",
   "execution_count": 18,
   "id": "48d50020",
   "metadata": {},
   "outputs": [
    {
     "data": {
      "text/plain": [
       "0"
      ]
     },
     "execution_count": 18,
     "metadata": {},
     "output_type": "execute_result"
    }
   ],
   "source": [
    "dataset[\"Age\"].isna().sum()"
   ]
  },
  {
   "cell_type": "markdown",
   "id": "b4746731",
   "metadata": {},
   "source": [
    "#### Country"
   ]
  },
  {
   "cell_type": "code",
   "execution_count": 19,
   "id": "0b9c532a",
   "metadata": {},
   "outputs": [
    {
     "data": {
      "text/plain": [
       "412"
      ]
     },
     "execution_count": 19,
     "metadata": {},
     "output_type": "execute_result"
    }
   ],
   "source": [
    "dataset[\"Country\"].isna().sum()"
   ]
  },
  {
   "cell_type": "code",
   "execution_count": 20,
   "id": "175f0d6b",
   "metadata": {},
   "outputs": [
    {
     "data": {
      "text/plain": [
       "'Kenya'"
      ]
     },
     "execution_count": 20,
     "metadata": {},
     "output_type": "execute_result"
    }
   ],
   "source": [
    "dataset[\"Country\"][0]"
   ]
  },
  {
   "cell_type": "code",
   "execution_count": 21,
   "id": "d08c08a3",
   "metadata": {
    "scrolled": true
   },
   "outputs": [
    {
     "data": {
      "text/plain": [
       "United States         20309\n",
       "India                 13721\n",
       "Germany                6459\n",
       "United Kingdom         6221\n",
       "Canada                 3393\n",
       "Russian Federation     2869\n",
       "France                 2572\n",
       "Brazil                 2505\n",
       "Poland                 2122\n",
       "Australia              2018\n",
       "Name: Country, dtype: int64"
      ]
     },
     "execution_count": 21,
     "metadata": {},
     "output_type": "execute_result"
    }
   ],
   "source": [
    "dataset[\"Country\"].value_counts().head(10)"
   ]
  },
  {
   "cell_type": "code",
   "execution_count": 22,
   "id": "780291b7",
   "metadata": {
    "scrolled": true
   },
   "outputs": [
    {
     "data": {
      "text/plain": [
       "<AxesSubplot:>"
      ]
     },
     "execution_count": 22,
     "metadata": {},
     "output_type": "execute_result"
    },
    {
     "data": {
      "image/png": "[encoded data removed]",
      "text/plain": [
       "<Figure size 1080x720 with 1 Axes>"
      ]
     },
     "metadata": {
      "needs_background": "light"
     },
     "output_type": "display_data"
    }
   ],
   "source": [
    "dataset[\"Country\"].value_counts().head(10).plot(kind = \"bar\")"
   ]
  },
  {
   "cell_type": "code",
   "execution_count": 23,
   "id": "b30e96f0",
   "metadata": {},
   "outputs": [
    {
     "data": {
      "text/plain": [
       "0                     Kenya\n",
       "1            United Kingdom\n",
       "2             United States\n",
       "3             United States\n",
       "4              South Africa\n",
       "                ...        \n",
       "98850         United States\n",
       "98851                 Spain\n",
       "98852                 India\n",
       "98853    Russian Federation\n",
       "98854              Cambodia\n",
       "Name: Country, Length: 98855, dtype: object"
      ]
     },
     "execution_count": 23,
     "metadata": {},
     "output_type": "execute_result"
    }
   ],
   "source": [
    "dataset[\"Country\"]"
   ]
  },
  {
   "cell_type": "code",
   "execution_count": 24,
   "id": "fa796097",
   "metadata": {},
   "outputs": [],
   "source": [
    "dataset.dropna(subset = ['Country'], inplace = True)"
   ]
  },
  {
   "cell_type": "code",
   "execution_count": 25,
   "id": "67fabf48",
   "metadata": {},
   "outputs": [
    {
     "data": {
      "text/plain": [
       "0"
      ]
     },
     "execution_count": 25,
     "metadata": {},
     "output_type": "execute_result"
    }
   ],
   "source": [
    "dataset[\"Country\"].isnull().sum()"
   ]
  },
  {
   "cell_type": "markdown",
   "id": "2026d04f",
   "metadata": {},
   "source": [
    "#### SexualOrientation"
   ]
  },
  {
   "cell_type": "code",
   "execution_count": 26,
   "id": "9e362de7",
   "metadata": {},
   "outputs": [
    {
     "data": {
      "text/plain": [
       "38678"
      ]
     },
     "execution_count": 26,
     "metadata": {},
     "output_type": "execute_result"
    }
   ],
   "source": [
    "dataset[\"SexualOrientation\"].isna().sum()"
   ]
  },
  {
   "cell_type": "code",
   "execution_count": 27,
   "id": "698ab3d2",
   "metadata": {},
   "outputs": [
    {
     "data": {
      "text/plain": [
       "39.28974127159879"
      ]
     },
     "execution_count": 27,
     "metadata": {},
     "output_type": "execute_result"
    }
   ],
   "source": [
    "(dataset[\"SexualOrientation\"].isna().sum() / dataset.shape[0])*100"
   ]
  },
  {
   "cell_type": "code",
   "execution_count": 28,
   "id": "df9fb5f1",
   "metadata": {},
   "outputs": [],
   "source": [
    "dataset.drop(\"SexualOrientation\", axis=1, inplace=True)"
   ]
  },
  {
   "cell_type": "code",
   "execution_count": 29,
   "id": "469d3342",
   "metadata": {},
   "outputs": [
    {
     "data": {
      "text/plain": [
       "<AxesSubplot:>"
      ]
     },
     "execution_count": 29,
     "metadata": {},
     "output_type": "execute_result"
    },
    {
     "data": {
      "image/png": "[encoded data removed]",
      "text/plain": [
       "<Figure size 1080x720 with 1 Axes>"
      ]
     },
     "metadata": {
      "needs_background": "light"
     },
     "output_type": "display_data"
    }
   ],
   "source": [
    "dataset.boxplot(column=\"ConvertedSalary\")"
   ]
  },
  {
   "cell_type": "code",
   "execution_count": 31,
   "id": "2afbe700",
   "metadata": {},
   "outputs": [],
   "source": [
    "data_usa = dataset[ (dataset[\"Country\"]==\"United States\") & (dataset[\"Employment\"]==\"Employed full-time\")]"
   ]
  },
  {
   "cell_type": "code",
   "execution_count": 32,
   "id": "8489a53f",
   "metadata": {},
   "outputs": [
    {
     "data": {
      "text/plain": [
       "Employed full-time    16031\n",
       "Name: Employment, dtype: int64"
      ]
     },
     "execution_count": 32,
     "metadata": {},
     "output_type": "execute_result"
    }
   ],
   "source": [
    "data_usa[\"Employment\"].value_counts()                "
   ]
  },
  {
   "cell_type": "code",
   "execution_count": 33,
   "id": "a486b9a1",
   "metadata": {
    "scrolled": false
   },
   "outputs": [
    {
     "name": "stderr",
     "output_type": "stream",
     "text": [
      "C:\\Users\\taha_\\anaconda\\lib\\site-packages\\pandas\\util\\_decorators.py:311: SettingWithCopyWarning: \n",
      "A value is trying to be set on a copy of a slice from a DataFrame\n",
      "\n",
      "See the caveats in the documentation: https://pandas.pydata.org/pandas-docs/stable/user_guide/indexing.html#returning-a-view-versus-a-copy\n",
      "  return func(*args, **kwargs)\n"
     ]
    }
   ],
   "source": [
    "data_usa.dropna(subset = ['ConvertedSalary'], inplace = True)"
   ]
  },
  {
   "cell_type": "code",
   "execution_count": 35,
   "id": "f0493c70",
   "metadata": {},
   "outputs": [
    {
     "data": {
      "text/plain": [
       "0"
      ]
     },
     "execution_count": 35,
     "metadata": {},
     "output_type": "execute_result"
    }
   ],
   "source": [
    "data_usa[\"ConvertedSalary\"].isna().sum()"
   ]
  },
  {
   "cell_type": "code",
   "execution_count": 36,
   "id": "541d3f56",
   "metadata": {},
   "outputs": [
    {
     "data": {
      "text/plain": [
       "<AxesSubplot:>"
      ]
     },
     "execution_count": 36,
     "metadata": {},
     "output_type": "execute_result"
    },
    {
     "data": {
      "image/png": "[encoded data removed]",
      "text/plain": [
       "<Figure size 1080x720 with 1 Axes>"
      ]
     },
     "metadata": {
      "needs_background": "light"
     },
     "output_type": "display_data"
    }
   ],
   "source": [
    "data_usa.boxplot(column=\"ConvertedSalary\")"
   ]
  },
  {
   "cell_type": "code",
   "execution_count": null,
   "id": "0049c6dd",
   "metadata": {},
   "outputs": [],
   "source": []
  },
  {
   "cell_type": "code",
   "execution_count": null,
   "id": "b91c1711",
   "metadata": {},
   "outputs": [],
   "source": []
  }
 ],
 "metadata": {
  "kernelspec": {
   "display_name": "Python 3 (ipykernel)",
   "language": "python",
   "name": "python3"
  },
  "language_info": {
   "codemirror_mode": {
    "name": "ipython",
    "version": 3
   },
   "file_extension": ".py",
   "mimetype": "text/x-python",
   "name": "python",
   "nbconvert_exporter": "python",
   "pygments_lexer": "ipython3",
   "version": "3.9.7"
  }
 },
 "nbformat": 4,
 "nbformat_minor": 5
}
